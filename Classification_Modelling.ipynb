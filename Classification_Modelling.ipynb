{
  "cells": [
    {
      "cell_type": "markdown",
      "metadata": {
        "id": "view-in-github",
        "colab_type": "text"
      },
      "source": [
        "<a href=\"https://colab.research.google.com/github/ChristianaZorzi/DSC511-Group-Project-Final/blob/main/Classification_Modelling.ipynb\" target=\"_parent\"><img src=\"https://colab.research.google.com/assets/colab-badge.svg\" alt=\"Open In Colab\"/></a>"
      ]
    },
    {
      "cell_type": "markdown",
      "source": [
        "# Logistic Regression Model for predicting the sentiment of the reviews"
      ],
      "metadata": {
        "id": "11wAzbfU3h8a"
      }
    },
    {
      "cell_type": "markdown",
      "metadata": {
        "id": "F-IMTVVCNwN9"
      },
      "source": [
        "## Loading libraries"
      ]
    },
    {
      "cell_type": "code",
      "execution_count": null,
      "metadata": {
        "colab": {
          "base_uri": "https://localhost:8080/"
        },
        "id": "BMswIgdMaJBx",
        "outputId": "08c16051-775d-4a9e-a268-53f68b7eef34"
      },
      "outputs": [
        {
          "name": "stdout",
          "output_type": "stream",
          "text": [
            "Requirement already satisfied: pyspark in /usr/local/lib/python3.11/dist-packages (3.5.1)\n",
            "Requirement already satisfied: py4j==0.10.9.7 in /usr/local/lib/python3.11/dist-packages (from pyspark) (0.10.9.7)\n"
          ]
        }
      ],
      "source": [
        "# Installing pyspark\n",
        "! pip3 install pyspark"
      ]
    },
    {
      "cell_type": "code",
      "execution_count": null,
      "metadata": {
        "colab": {
          "base_uri": "https://localhost:8080/"
        },
        "id": "l122K8cx2mr0",
        "outputId": "d0701de6-36d8-491e-da94-13f89624f50c"
      },
      "outputs": [
        {
          "name": "stdout",
          "output_type": "stream",
          "text": [
            "Collecting langdetect\n",
            "  Downloading langdetect-1.0.9.tar.gz (981 kB)\n",
            "\u001b[?25l     \u001b[90m━━━━━━━━━━━━━━━━━━━━━━━━━━━━━━━━━━━━━━━━\u001b[0m \u001b[32m0.0/981.5 kB\u001b[0m \u001b[31m?\u001b[0m eta \u001b[36m-:--:--\u001b[0m\r",
            "\u001b[2K     \u001b[91m━━━━\u001b[0m\u001b[91m╸\u001b[0m\u001b[90m━━━━━━━━━━━━━━━━━━━━━━━━━━━━━━━━━━\u001b[0m \u001b[32m122.9/981.5 kB\u001b[0m \u001b[31m4.5 MB/s\u001b[0m eta \u001b[36m0:00:01\u001b[0m\r",
            "\u001b[2K     \u001b[91m━━━━━━━━━━━━━━━━━━━━━━━━━━━━━━━━━━━━━\u001b[0m\u001b[91m╸\u001b[0m \u001b[32m972.8/981.5 kB\u001b[0m \u001b[31m15.1 MB/s\u001b[0m eta \u001b[36m0:00:01\u001b[0m\r",
            "\u001b[2K     \u001b[90m━━━━━━━━━━━━━━━━━━━━━━━━━━━━━━━━━━━━━━━\u001b[0m \u001b[32m981.5/981.5 kB\u001b[0m \u001b[31m9.9 MB/s\u001b[0m eta \u001b[36m0:00:00\u001b[0m\n",
            "\u001b[?25h  Preparing metadata (setup.py) ... \u001b[?25l\u001b[?25hdone\n",
            "Requirement already satisfied: six in /usr/local/lib/python3.11/dist-packages (from langdetect) (1.17.0)\n",
            "Building wheels for collected packages: langdetect\n",
            "  Building wheel for langdetect (setup.py) ... \u001b[?25l\u001b[?25hdone\n",
            "  Created wheel for langdetect: filename=langdetect-1.0.9-py3-none-any.whl size=993223 sha256=ee3500a67516e61b887c7f092aaae24416b7ced2b6ec4bd99c073eaabdf6137e\n",
            "  Stored in directory: /root/.cache/pip/wheels/0a/f2/b2/e5ca405801e05eb7c8ed5b3b4bcf1fcabcd6272c167640072e\n",
            "Successfully built langdetect\n",
            "Installing collected packages: langdetect\n",
            "Successfully installed langdetect-1.0.9\n"
          ]
        }
      ],
      "source": [
        "# Installing langdetect\n",
        "!pip install langdetect"
      ]
    },
    {
      "cell_type": "code",
      "execution_count": null,
      "metadata": {
        "id": "Hu4hr54Sy3rs"
      },
      "outputs": [],
      "source": [
        "# Importing Libraries\n",
        "import matplotlib.pyplot as plt\n",
        "from pyspark.sql import SparkSession\n",
        "from pyspark.sql.functions import *\n",
        "import seaborn as sns\n",
        "# from google.colab import drive\n",
        "from pyspark.sql.window import Window\n",
        "from pyspark.ml.clustering import LDA\n",
        "from pyspark.ml.feature import *\n",
        "from pyspark.ml import Pipeline\n",
        "from pyspark.ml.linalg import Vectors, DenseVector\n",
        "from pyspark.sql.types import ArrayType, DoubleType\n",
        "from pyspark.ml.evaluation import MulticlassClassificationEvaluator\n",
        "from pyspark.ml.classification import LogisticRegression\n",
        "from pyspark.sql.types import StringType\n",
        "from langdetect import detect, DetectorFactory\n",
        "import langdetect\n",
        "from pyspark.ml.feature import CountVectorizer\n",
        "from pyspark.ml.feature import OneHotEncoder\n",
        "from pyspark.ml.evaluation import MulticlassClassificationEvaluator"
      ]
    },
    {
      "cell_type": "code",
      "execution_count": null,
      "metadata": {
        "id": "otW_HDezSamD"
      },
      "outputs": [],
      "source": [
        "spark = SparkSession.builder \\\n",
        "        .master(\"local[24]\") \\\n",
        "       .config(\"spark.driver.memory\", \"70g\") \\\n",
        "       .config(\"spark.executor.instances\", \"6\") \\\n",
        "       .config(\"spark.executor.cores\", \"7\") \\\n",
        "       .config(\"spark.executor.memory\", \"70g\") \\\n",
        "       .config(\"spark.memory.fraction\", \"0.8\") \\\n",
        "       .config(\"spark.memory.storageFraction\", \"0.2\") \\\n",
        "       .config(\"spark.default.parallelism\", \"288\") \\\n",
        "       .config(\"spark.sql.autoBroadcastJoinThreshold\", \"-1\") \\\n",
        "       .config(\"spark.kryoserializer.buffer.max\", \"128m\") \\\n",
        "       .config(\"spark.driver.extraJavaOptions\", \"-Xss1024m\") \\\n",
        "       .config(\"spark.executor.extraJavaOptions\", \"-Xss1024m\") \\\n",
        "       .appName(\"Group_Project_Reviews_Covid\") \\\n",
        "       .getOrCreate()"
      ]
    },
    {
      "cell_type": "markdown",
      "metadata": {
        "id": "b-MSc98ITBqJ"
      },
      "source": [
        "## Loading the datasets"
      ]
    },
    {
      "cell_type": "code",
      "execution_count": null,
      "metadata": {
        "id": "MQenpOIKSzaw"
      },
      "outputs": [],
      "source": [
        "parquet_path_post = \"data/parquet\"\n",
        "post_df = spark.read.parquet(parquet_path_post)"
      ]
    },
    {
      "cell_type": "code",
      "execution_count": null,
      "metadata": {
        "id": "2_ATT1SR98om"
      },
      "outputs": [],
      "source": [
        "parquet_path_pre = \"data/pre_parquet\"\n",
        "pre_df = spark.read.parquet(parquet_path_pre)"
      ]
    },
    {
      "cell_type": "markdown",
      "metadata": {
        "id": "1ZeHJYcudQjr"
      },
      "source": [
        "## Data Preprocessing"
      ]
    },
    {
      "cell_type": "markdown",
      "metadata": {
        "id": "vADMn2JpdUVm"
      },
      "source": [
        "Checking for missing values\n"
      ]
    },
    {
      "cell_type": "code",
      "execution_count": null,
      "metadata": {
        "id": "FvwduZe6dGU4"
      },
      "outputs": [],
      "source": [
        "# check for missing values\n",
        "pre_df = pre_df.replace(\"NULL\", None)\n",
        "#pre_df.select([sum(col(c).isNull().cast(\"int\")).alias(c) for c in pre_df.columns]).show()"
      ]
    },
    {
      "cell_type": "code",
      "execution_count": null,
      "metadata": {
        "id": "9P8BIwGWdf_m"
      },
      "outputs": [],
      "source": [
        "# check for missing values\n",
        "post_df = post_df.replace(\"NULL\", None)\n",
        "#post_df.select([sum(col(c).isNull().cast(\"int\")).alias(c) for c in post_df.columns]).show()"
      ]
    },
    {
      "cell_type": "markdown",
      "metadata": {
        "id": "G4vucra9fTIR"
      },
      "source": [
        "Both datasets have some missing values in address,hours and postal code columns.\n",
        "Since we will mostly focus on the reviews we decided to not drop them.\n",
        "Only the one missing review was removed."
      ]
    },
    {
      "cell_type": "code",
      "execution_count": null,
      "metadata": {
        "id": "rjiWp270fSux"
      },
      "outputs": [],
      "source": [
        "pre_df = pre_df.dropna(subset=[\"text_\"])"
      ]
    },
    {
      "cell_type": "markdown",
      "metadata": {
        "id": "ErG_LeLCfqJa"
      },
      "source": [
        "Removing duplicated reviews"
      ]
    },
    {
      "cell_type": "code",
      "execution_count": null,
      "metadata": {
        "id": "lb6tURWQs2fq"
      },
      "outputs": [],
      "source": [
        "# Checking for duplicated values\n",
        "#print(pre_df.count())\n",
        "pre_df = pre_df.dropDuplicates()\n",
        "#print(pre_df.count())\n",
        "# there are no duplicated rows"
      ]
    },
    {
      "cell_type": "code",
      "execution_count": null,
      "metadata": {
        "id": "8dhj0dNgtPFQ"
      },
      "outputs": [],
      "source": [
        "# Checking for duplicated values\n",
        "#print(post_df.count())\n",
        "post_df = post_df.dropDuplicates()\n",
        "#print(post_df.count())\n",
        "# there are no duplicated rows"
      ]
    },
    {
      "cell_type": "code",
      "execution_count": null,
      "metadata": {
        "id": "Z12pxUznz1eE"
      },
      "outputs": [],
      "source": [
        "# Drop duplicate reviews (same user, business, and text)\n",
        "post_df = post_df.dropDuplicates([\"user_id\", \"business_id\", \"text_\"])\n",
        "#post_df.count()\n",
        "# Number of rows before removing duplicated reviews: 400295"
      ]
    },
    {
      "cell_type": "code",
      "execution_count": null,
      "metadata": {
        "id": "xFB1RzzO0DBT"
      },
      "outputs": [],
      "source": [
        "# Drop duplicate reviews (same user, business, and text)\n",
        "pre_df = pre_df.dropDuplicates([\"user_id\", \"business_id\", \"text_\"])\n",
        "#pre_df.count()\n",
        "# Number of rows before removing duplicated reviews: 5172198"
      ]
    },
    {
      "cell_type": "markdown",
      "metadata": {
        "id": "T1WJrcHUCjbe"
      },
      "source": [
        "Date Range of Post and Pre Covid dataset"
      ]
    },
    {
      "cell_type": "code",
      "execution_count": null,
      "metadata": {
        "colab": {
          "base_uri": "https://localhost:8080/"
        },
        "id": "tG5ASqEoxqXM",
        "outputId": "83aa05bf-2c80-47f0-c40b-4ad02210f561"
      },
      "outputs": [
        {
          "name": "stdout",
          "output_type": "stream",
          "text": [
            "Date Range Pre-Covid: 2004-10-13 00:03:20 - 2019-12-30 23:59:16\n",
            "Date Range Post-Covid: 2020-01-01 00:00:01 - 2021-01-27 23:59:54\n"
          ]
        }
      ],
      "source": [
        "print('Date Range Pre-Covid:', pre_df.select(min('date_')).collect()[0][0], '-', pre_df.select(max('date_')).collect()[0][0])\n",
        "print('Date Range Post-Covid:', post_df.select(min('date_')).collect()[0][0], '-', post_df.select(max('date_')).collect()[0][0])"
      ]
    },
    {
      "cell_type": "markdown",
      "metadata": {
        "id": "-juEMopY6w3Z"
      },
      "source": [
        " The first American case was reported on January 20, and Health and Human Services Secretary Alex Azar declared a public health emergency on January 31.\n",
        " https://en.wikipedia.org/wiki/COVID-19_pandemic_in_the_United_States"
      ]
    },
    {
      "cell_type": "code",
      "execution_count": null,
      "metadata": {
        "id": "7ooZoDxxMrYZ"
      },
      "outputs": [],
      "source": [
        "pre_covid_reviews = post_df.filter(col(\"date_\")< to_timestamp(lit(\"2020-01-20 00:00:01\")))\n",
        "#pre_covid_reviews.count()"
      ]
    },
    {
      "cell_type": "markdown",
      "metadata": {
        "id": "vlzopfLv64qY"
      },
      "source": [
        " There are 31633 reviews that were written before 20/01,which was when the first covid case was reported in America"
      ]
    },
    {
      "cell_type": "markdown",
      "metadata": {
        "id": "XWB0IJ887347"
      },
      "source": [
        "Removing those reviews from the post covid dataset"
      ]
    },
    {
      "cell_type": "code",
      "execution_count": null,
      "metadata": {
        "colab": {
          "base_uri": "https://localhost:8080/"
        },
        "id": "q6hBeU0POjMU",
        "outputId": "7079efc8-fb29-40a7-9ca1-ab2a43b8b37c"
      },
      "outputs": [
        {
          "data": {
            "text/plain": [
              "368193"
            ]
          },
          "execution_count": 16,
          "metadata": {},
          "output_type": "execute_result"
        }
      ],
      "source": [
        "post_df =post_df.filter(col(\"date_\") >= to_timestamp(lit(\"2020-01-20 00:00:01\")))\n",
        "post_df.count()"
      ]
    },
    {
      "cell_type": "markdown",
      "metadata": {
        "id": "XwUHhV-I7HLc"
      },
      "source": [
        "Adding those reviews in the pre covid dataset"
      ]
    },
    {
      "cell_type": "code",
      "execution_count": null,
      "metadata": {
        "id": "FT_agwrtPVlM"
      },
      "outputs": [],
      "source": [
        "pre_df = pre_df.union(pre_covid_reviews)\n",
        "#pre_df.show()"
      ]
    },
    {
      "cell_type": "markdown",
      "metadata": {
        "id": "7_TncfSIghDY"
      },
      "source": [
        "#### Location"
      ]
    },
    {
      "cell_type": "markdown",
      "metadata": {
        "id": "7oLrqbl0Owj5"
      },
      "source": [
        "##### Location - Preprocessing - Pre df"
      ]
    },
    {
      "cell_type": "markdown",
      "metadata": {
        "id": "hgyJ6YKHkpCo"
      },
      "source": [
        "At a first sight in the pre covid dataset we have a total of 450 cities.\n",
        "But lets check like before."
      ]
    },
    {
      "cell_type": "markdown",
      "metadata": {
        "id": "Cg0uNGXckVWL"
      },
      "source": [
        "Same approach we used in post covid dataframe."
      ]
    },
    {
      "cell_type": "code",
      "execution_count": null,
      "metadata": {
        "id": "tP_SmIB0kPj9"
      },
      "outputs": [],
      "source": [
        "# Let's clean and normalize city column\n",
        "# Converting the first letters to capital ones and by using trim we remove\n",
        "# extra spaces\n",
        "pre_df=pre_df.withColumn(\"city\",initcap(trim(col(\"city\"))))\n",
        "#pre_df.show()"
      ]
    },
    {
      "cell_type": "code",
      "execution_count": null,
      "metadata": {
        "colab": {
          "base_uri": "https://localhost:8080/"
        },
        "id": "GyE7wk7DlYwm",
        "outputId": "7696feba-015d-4d39-b417-177ed3432360"
      },
      "outputs": [
        {
          "data": {
            "text/plain": [
              "415"
            ]
          },
          "execution_count": 28,
          "metadata": {},
          "output_type": "execute_result"
        }
      ],
      "source": [
        "# Finding the unique cities\n",
        "pre_df.select(col(\"city\")).distinct().count()"
      ]
    },
    {
      "cell_type": "markdown",
      "metadata": {
        "id": "1sjfC_Mwletb"
      },
      "source": [
        "As we expected the unique cities are reduced. Now we have a total of 415."
      ]
    },
    {
      "cell_type": "code",
      "execution_count": null,
      "metadata": {
        "id": "VxYnFYyWkPmt"
      },
      "outputs": [],
      "source": [
        "# Removing any punctuations and extra spaces for comparison\n",
        "# e.g. St.Cloud now will be stcloud or St.  Cloud and St. Cloud are treated\n",
        "# as two distincts cities\n",
        "\n",
        "pre_df = pre_df.withColumn(\"city_key\", lower(regexp_replace(col(\"city\"), r\"[^a-zA-Z0-9]\", \"\")))"
      ]
    },
    {
      "cell_type": "code",
      "execution_count": null,
      "metadata": {
        "id": "vx1vEuh8mLGW"
      },
      "outputs": [],
      "source": [
        "# Creating window to rank cities by count per city_key\n",
        "# For each group of rows with the same city_key sort them by how often they appear\n",
        "windowSpec = Window.partitionBy(\"city_key\").orderBy(col(\"count\").desc())\n",
        "\n",
        "# Counting how many times city name appears per city\n",
        "city_counts = pre_df.groupBy(\"city_key\", \"city\").count()\n",
        "\n",
        "# Picking the most common city_clean for each city_key\n",
        "standard_cities = city_counts.withColumn(\"rank\", row_number().over(windowSpec)).filter(col(\"rank\") == 1)\n",
        "\n",
        "### Now we have a standarized column, e.g. stcloud-> St. Cloud"
      ]
    },
    {
      "cell_type": "code",
      "execution_count": null,
      "metadata": {
        "id": "B8H_y8IQmLGX"
      },
      "outputs": [],
      "source": [
        "# Renaming the selected column\n",
        "standard_cities = standard_cities.withColumnRenamed(\"city\", \"city_standardized\")\n",
        "\n",
        "# Preforming join to have a final dataframe\n",
        "pre_df = pre_df.join(\n",
        "    standard_cities.select(\"city_key\", \"city_standardized\"),\n",
        "    on=\"city_key\",\n",
        "    how=\"left\"\n",
        ")\n"
      ]
    },
    {
      "cell_type": "code",
      "execution_count": null,
      "metadata": {
        "id": "2P7Hd8tkmuFg"
      },
      "outputs": [],
      "source": [
        "# Dropping city key and city columns, because they are not useful\n",
        "pre_df=pre_df.drop(\"city_key\", \"city\")"
      ]
    },
    {
      "cell_type": "code",
      "execution_count": null,
      "metadata": {
        "colab": {
          "base_uri": "https://localhost:8080/"
        },
        "id": "cpW_YfOnkPwS",
        "outputId": "3781ea62-4d30-41f6-ed73-18c895a8cab9"
      },
      "outputs": [
        {
          "data": {
            "text/plain": [
              "404"
            ]
          },
          "execution_count": 34,
          "metadata": {},
          "output_type": "execute_result"
        }
      ],
      "source": [
        "pre_df.select(\"city_standardized\").distinct().count()"
      ]
    },
    {
      "cell_type": "markdown",
      "metadata": {
        "id": "zngy49gcm-Jz"
      },
      "source": [
        "The final total number of cities in the pre covid dataframe is 351."
      ]
    },
    {
      "cell_type": "markdown",
      "metadata": {
        "id": "pYNu4Eo4ZTgT"
      },
      "source": [
        "##### Location - Preprocessing - Post df"
      ]
    },
    {
      "cell_type": "code",
      "execution_count": null,
      "metadata": {
        "colab": {
          "base_uri": "https://localhost:8080/"
        },
        "id": "Um0spvULkL2E",
        "outputId": "bccb5dd2-5298-4d4d-db21-8263c369f293"
      },
      "outputs": [
        {
          "name": "stdout",
          "output_type": "stream",
          "text": [
            "+--------------------+--------------------+--------------------+------+--------+-----------+-------------+--------------+-----+------------+-------+--------------------+--------------------+--------------------+--------------------+--------------+------+-----+----+--------------------+-------------------+\n",
            "|         business_id|                name|             address|state_|    city|postal_code|     latitude|     longitude|stars|review_count|is_open|          categories|               hours|           review_id|             user_id|customer_stars|useful|funny|cool|               text_|              date_|\n",
            "+--------------------+--------------------+--------------------+------+--------+-----------+-------------+--------------+-----+------------+-------+--------------------+--------------------+--------------------+--------------------+--------------+------+-----+----+--------------------+-------------------+\n",
            "|iTLwEi5Kc9fDGlKNs...|JP's Pancake Company|  2512 Rio Grande St|    TX|  Austin|      78705|   30.2905467|   -97.7446487|  5.0|          22|      1|Nightlife, Food T...|{'Monday': '17:0-...|2pmU6oKdrFuHWuUho...|--Mjv36mrK8Cnur-i...|             5|     0|    0|   0|Woah, words are f...|2020-08-26 23:12:51|\n",
            "|ENw_xSCWiKRtNX45t...|       Mami's Taco's|    7200 Manchaca Rd|    TX|  Austin|      78745|30.1999331224|-97.8080944184|  4.5|          58|      1|Food, Food Trucks...|{'Monday': '7:0-1...|0Sz_iyiJ19on10_3j...|-14_vu_BXRAR6JsXr...|             5|     0|    0|   1|Our go to spot in...|2020-05-29 19:32:10|\n",
            "|HE1l6pB4_y97Rlmf8...|26 Thai Kitchen &...|   824 Juniper St NE|    GA| Atlanta|      30308|   33.7770303|   -84.3831371|  4.5|         153|      1|Thai, Bars, Resta...|{'Monday': '0:0-0...|OO1GDXq8Kl86hL63W...|-2_eraIVhKpCvOQA5...|             4|     1|    1|   1|Really nice lowke...|2021-01-23 01:10:52|\n",
            "|4CIymwx0FUsAw_Oyx...|      Thai Time Cafe| 1037 SW Morrison St|    OR|Portland|      97205|   45.5203279|  -122.6828747|  4.0|          73|      1|   Restaurants, Thai|{'Monday': '11:0-...|7u9CSxkA5ShTXt7xs...|-3ATrOPUw9ZFTYkMI...|             5|    13|    1|  11|I have enjoyed se...|2020-02-18 03:05:24|\n",
            "|vEHHer-a_WkmEoYND...|The Toothsome Cho...|Universal CityWal...|    FL| Orlando|      32819|    28.473025|    -81.467856|  4.0|        2322|      1|Restaurants, Food...|{'Monday': '16:0-...|oI3dHoI3rKk8Zsngh...|-3OzdY05nM0u6RMH3...|             1|     0|    0|   0|So we came here f...|2020-09-16 02:18:04|\n",
            "+--------------------+--------------------+--------------------+------+--------+-----------+-------------+--------------+-----+------------+-------+--------------------+--------------------+--------------------+--------------------+--------------+------+-----+----+--------------------+-------------------+\n",
            "only showing top 5 rows\n",
            "\n"
          ]
        }
      ],
      "source": [
        "post_df.show(5)"
      ]
    },
    {
      "cell_type": "code",
      "execution_count": null,
      "metadata": {
        "id": "em-TMi3PoI9v"
      },
      "outputs": [],
      "source": [
        "# Printing unique Cities\n",
        "post_df.select(col(\"city\")).distinct().count()"
      ]
    },
    {
      "cell_type": "markdown",
      "metadata": {
        "id": "mWkSmFe07EMg"
      },
      "source": [
        "As we can notice at first the post covid dataset contained 394 distinct cities, but with a detailed inspection we observed that there was similar cities just written differentlty."
      ]
    },
    {
      "cell_type": "code",
      "execution_count": null,
      "metadata": {
        "id": "wvArB4g63w_A"
      },
      "outputs": [],
      "source": [
        "# Let's clean and normalize city column\n",
        "# Converting the first letters to capital ones and by using trim we remove\n",
        "# extra spaces\n",
        "# initcamp convert the column to title case, where the first letter is always capital\n",
        "post_df=post_df.withColumn(\"city\",initcap(trim(col(\"city\"))))\n",
        "post_df.show()"
      ]
    },
    {
      "cell_type": "code",
      "execution_count": null,
      "metadata": {
        "id": "z30ilxFb4zwY"
      },
      "outputs": [],
      "source": [
        "post_df.select(col(\"city\")).distinct().count()"
      ]
    },
    {
      "cell_type": "markdown",
      "metadata": {
        "id": "pjxZAWAM8AoQ"
      },
      "source": [
        "We can notice that the unique cities\n",
        "are reduced to 360."
      ]
    },
    {
      "cell_type": "code",
      "execution_count": null,
      "metadata": {
        "id": "VBJ2jnov8GcX"
      },
      "outputs": [],
      "source": [
        "# Removing any punctuations and extra spaces for comparison\n",
        "# e.g. St.Cloud now will be stcloud\n",
        "from pyspark.sql.functions import lower, regexp_replace\n",
        "\n",
        "post_df = post_df.withColumn(\"city_key\", lower(regexp_replace(col(\"city\"), r\"[^a-zA-Z0-9]\", \"\")))\n"
      ]
    },
    {
      "cell_type": "code",
      "execution_count": null,
      "metadata": {
        "id": "JZ9fogy78Gfo",
        "outputId": "2878c95d-1c25-481c-89fe-2ea8153d64b9"
      },
      "outputs": [
        {
          "name": "stdout",
          "output_type": "stream",
          "text": [
            "+---------------------+-----------------------+-----+\n",
            "|city_key             |city                   |count|\n",
            "+---------------------+-----------------------+-----+\n",
            "|acworth              |acworth                |2    |\n",
            "|alafaya              |Alafaya                |79   |\n",
            "|alamontesprings      |Alamonte Springs       |7    |\n",
            "|allston              |Allston                |991  |\n",
            "|aloha                |Aloha                  |304  |\n",
            "|aloma                |Aloma                  |19   |\n",
            "|altamontesprings     |Altamonte Springs      |1748 |\n",
            "|andover              |Andover                |12   |\n",
            "|apopka               |Apopka                 |702  |\n",
            "|arlington            |Arlington              |590  |\n",
            "|arvada               |Arvada                 |2    |\n",
            "|ashville             |Ashville               |14   |\n",
            "|atlanta              |Atlanta                |44349|\n",
            "|atlanta              |ATLANTA                |53   |\n",
            "|auburndale           |Auburndale             |18   |\n",
            "|austell              |Austell                |1    |\n",
            "|austin               |Austin                 |54036|\n",
            "|austin               |AUSTIN                 |96   |\n",
            "|austintexas          |Austin texas           |2    |\n",
            "|avon                 |Avon                   |19   |\n",
            "|avondaleestates      |Avondale Estates       |218  |\n",
            "|backbay              |Back Bay               |210  |\n",
            "|baylake              |Bay Lake               |3    |\n",
            "|beaverton            |Beaverton              |5730 |\n",
            "|beaverton            |beaverton              |3    |\n",
            "|beavertonor          |beaverton Or           |6    |\n",
            "|bedford              |Bedford                |244  |\n",
            "|beecave              |Bee Cave               |673  |\n",
            "|beecave              |Beecave                |8    |\n",
            "|beecaves             |Bee Caves              |21   |\n",
            "|belleisle            |Belle Isle             |27   |\n",
            "|belmont              |Belmont                |291  |\n",
            "|berkshire            |Berkshire              |5    |\n",
            "|beverly              |Beverly                |831  |\n",
            "|bexley               |Bexley                 |133  |\n",
            "|billerica            |Billerica              |247  |\n",
            "|blacklick            |Blacklick              |89   |\n",
            "|boring               |Boring                 |2    |\n",
            "|boston               |Boston                 |21013|\n",
            "|boston               |boston                 |10   |\n",
            "|bostonfenway         |Boston-Fenway          |28   |\n",
            "|boulder              |Boulder                |4409 |\n",
            "|bowenisland          |Bowen Island           |20   |\n",
            "|braintree            |Braintree              |811  |\n",
            "|brice                |Brice                  |13   |\n",
            "|brighton             |Brighton               |764  |\n",
            "|brockton             |Brockton               |50   |\n",
            "|brookhaven           |Brookhaven             |309  |\n",
            "|brookline            |Brookline              |1942 |\n",
            "|brookwood            |Brookwood              |1    |\n",
            "|buckhead             |Buckhead               |29   |\n",
            "|buda                 |Buda                   |672  |\n",
            "|buenaventuralakes    |Buena Ventura Lakes    |11   |\n",
            "|burlington           |Burlington             |1262 |\n",
            "|burnaby              |Burnaby                |2040 |\n",
            "|burnaby              |BURNABY                |1    |\n",
            "|camas                |Camas                  |308  |\n",
            "|cambridge            |Cambridge              |4673 |\n",
            "|canalwinchester      |Canal Winchester       |235  |\n",
            "|canton               |Canton                 |288  |\n",
            "|carlisle             |Carlisle               |1    |\n",
            "|carroll              |Carroll                |3    |\n",
            "|casselberry          |Casselberry            |444  |\n",
            "|casselberry          |CASSELBERRY            |3    |\n",
            "|celebration          |Celebration            |686  |\n",
            "|chamblee             |Chamblee               |1312 |\n",
            "|championsgate        |Champions Gate         |152  |\n",
            "|championsgate        |Championsgate          |36   |\n",
            "|championsgate        |ChampionsGate          |4    |\n",
            "|charlestown          |Charlestown            |110  |\n",
            "|chelsea              |Chelsea                |334  |\n",
            "|chestnuthill         |Chestnut Hill          |291  |\n",
            "|chuluota             |Chuluota               |7    |\n",
            "|clackamas            |Clackamas              |652  |\n",
            "|clarkson             |Clarkson               |1    |\n",
            "|clarkston            |Clarkston              |98   |\n",
            "|clayton              |Clayton                |6    |\n",
            "|clermont             |Clermont               |1274 |\n",
            "|clermont             |CLERMONT               |5    |\n",
            "|cocoa                |Cocoa                  |494  |\n",
            "|cocoa                |COCOA                  |4    |\n",
            "|cohasset             |Cohasset               |74   |\n",
            "|collegepark          |College Park           |951  |\n",
            "|collegepark          |Collegepark            |2    |\n",
            "|collegeparkga        |College Park Ga        |33   |\n",
            "|columbus             |Columbus               |15686|\n",
            "|columbus             |Columbus               |9    |\n",
            "|columbus             |columbus               |6    |\n",
            "|commercialpoint      |Commercial Point       |3    |\n",
            "|concord              |Concord                |249  |\n",
            "|conley               |Conley                 |6    |\n",
            "|coquitlam            |Coquitlam              |821  |\n",
            "|coumbus              |Coumbus                |1    |\n",
            "|damascus             |Damascus               |60   |\n",
            "|danvers              |Danvers                |423  |\n",
            "|davenport            |Davenport              |842  |\n",
            "|davenport            |DAVENPORT              |6    |\n",
            "|debary               |DeBary                 |77   |\n",
            "|debary               |Debary                 |65   |\n",
            "|debary               |De Bary                |4    |\n",
            "|debary               |DEBARY                 |4    |\n",
            "|decatur              |Decatur                |3750 |\n",
            "|dedham               |Dedham                 |599  |\n",
            "|delaware             |Delaware               |259  |\n",
            "|delta                |Delta                  |195  |\n",
            "|deltona              |Deltona                |207  |\n",
            "|delvalle             |Del Valle              |26   |\n",
            "|doctorphillips       |Doctor Phillips        |4    |\n",
            "|doraville            |Doraville              |1424 |\n",
            "|dorchester           |Dorchester             |860  |\n",
            "|dorchestercenter     |Dorchester Center      |80   |\n",
            "|dover                |Dover                  |2    |\n",
            "|downtownvancouver    |Downtown Vancouver     |3    |\n",
            "|driftwood            |Driftwood              |332  |\n",
            "|drippingsprings      |Dripping Springs       |489  |\n",
            "|dublin               |Dublin                 |1978 |\n",
            "|dunwoody             |Dunwoody               |1013 |\n",
            "|eastboston           |East Boston            |98   |\n",
            "|eastboston           |East boston            |8    |\n",
            "|eastpoint            |East Point             |833  |\n",
            "|eastwalpole          |East Walpole           |40   |\n",
            "|eastweymouth         |East Weymouth          |41   |\n",
            "|eatonville           |Eatonville             |57   |\n",
            "|edgewood             |Edgewood               |46   |\n",
            "|ellenwood            |Ellenwood              |37   |\n",
            "|erie                 |Erie                   |18   |\n",
            "|etna                 |Etna                   |14   |\n",
            "|everett              |Everett                |472  |\n",
            "|fernpark             |Fern Park              |51   |\n",
            "|fernpark             |Fern park              |8    |\n",
            "|forestpark           |Forest Park            |213  |\n",
            "|fourcorners          |Four Corners           |19   |\n",
            "|framingham           |Framingham             |304  |\n",
            "|franklin             |Franklin               |2    |\n",
            "|fraserheights        |Fraser Heights         |3    |\n",
            "|fulton               |Fulton                 |2    |\n",
            "|gahanna              |Gahanna                |529  |\n",
            "|galena               |Galena                 |41   |\n",
            "|galloway             |Galloway               |48   |\n",
            "|garfield             |Garfield               |1    |\n",
            "|geneva               |Geneva                 |12   |\n",
            "|gillemenclave        |Gillem Enclave         |22   |\n",
            "|gladstone            |Gladstone              |132  |\n",
            "|golden               |Golden                 |21   |\n",
            "|goldhill             |Gold Hill              |5    |\n",
            "|gotha                |Gotha                  |4    |\n",
            "|grandview            |Grandview              |12   |\n",
            "|grandviewheights     |Grandview Heights      |160  |\n",
            "|gresham              |Gresham                |138  |\n",
            "|grovecity            |Grove City             |521  |\n",
            "|groveport            |Groveport              |42   |\n",
            "|gunbarrel            |Gunbarrel              |6    |\n",
            "|hapeville            |Hapeville              |524  |\n",
            "|happyvalley          |Happy Valley           |861  |\n",
            "|happyvalley          |Happy valley           |50   |\n",
            "|harmony              |Harmony                |4    |\n",
            "|harrisburg           |Harrisburg             |1    |\n",
            "|heathrow             |Heathrow               |58   |\n",
            "|hiliard              |Hiliard                |9    |\n",
            "|hilliard             |Hilliard               |1025 |\n",
            "|hillsboro            |Hillsboro              |833  |\n",
            "|hingham              |Hingham                |432  |\n",
            "|holb                 |HOLB                   |5    |\n",
            "|holbrook             |Holbrook               |78   |\n",
            "|hollbrook            |Hollbrook              |4    |\n",
            "|hull                 |Hull                   |189  |\n",
            "|hydepark             |Hyde Park              |92   |\n",
            "|jackson              |Jackson                |5    |\n",
            "|jamaicaplain         |Jamaica Plain          |614  |\n",
            "|johnstown            |Johnstown              |22   |\n",
            "|kenansville          |Kenansville            |1    |\n",
            "|kingcity             |King City              |27   |\n",
            "|kissimmee            |Kissimmee              |5293 |\n",
            "|kissimmee            |KISSIMMEE              |21   |\n",
            "|kyle                 |Kyle                   |494  |\n",
            "|ladner               |Ladner                 |6    |\n",
            "|lafayette            |Lafayette              |198  |\n",
            "|lagovista            |Lago Vista             |7    |\n",
            "|lakebuenavisa        |Lake Buena Visa        |7    |\n",
            "|lakebuenavista       |Lake Buena Vista       |2771 |\n",
            "|lakecity             |Lake City              |23   |\n",
            "|lakecity             |LAKE CITY              |3    |\n",
            "|lakemary             |Lake Mary              |1351 |\n",
            "|lakemonroe           |Lake Monroe            |1    |\n",
            "|lakeoswego           |Lake Oswego            |1354 |\n",
            "|lakeway              |Lakeway                |590  |\n",
            "|leander              |Leander                |6    |\n",
            "|leevista             |Lee Vista              |33   |\n",
            "|lewiscenter          |Lewis Center           |258  |\n",
            "|lexington            |Lexington              |378  |\n",
            "|liberty              |Liberty                |1    |\n",
            "|lincoln              |Lincoln                |15   |\n",
            "|lithonia             |Lithonia               |2    |\n",
            "|lithopolis           |Lithopolis             |10   |\n",
            "|lockbourne           |Lockbourne             |11   |\n",
            "|lockhart             |Lockhart               |8    |\n",
            "|london               |London                 |24   |\n",
            "|longmont             |Longmont               |8    |\n",
            "|longwood             |Longwood               |932  |\n",
            "|longwood             |longwood               |17   |\n",
            "|loughman             |Loughman               |28   |\n",
            "|louisville           |Louisville             |810  |\n",
            "|lynn                 |Lynn                   |535  |\n",
            "|lynnfield            |Lynnfield              |197  |\n",
            "|mableton             |Mableton               |139  |\n",
            "|maitland             |Maitland               |657  |\n",
            "|malden               |Malden                 |843  |\n",
            "|manchaca             |Manchaca               |35   |\n",
            "|manor                |Manor                  |204  |\n",
            "|marblecliff          |Marble Cliff           |7    |\n",
            "|marblehead           |Marblehead             |212  |\n",
            "|marietta             |Marietta               |1001 |\n",
            "|mattapan             |Mattapan               |93   |\n",
            "|medfield             |Medfield               |24   |\n",
            "|medford              |Medford                |1126 |\n",
            "|melrose              |Melrose                |320  |\n",
            "|merrittisland        |Merritt Island         |167  |\n",
            "|miamibeach           |Miami Beach            |2    |\n",
            "|middleton            |Middleton              |155  |\n",
            "|midway               |Midway                 |1    |\n",
            "|milton               |Milton                 |156  |\n",
            "|milwaukee            |Milwaukee              |21   |\n",
            "|milwaukie            |Milwaukie              |490  |\n",
            "|mims                 |Mims                   |3    |\n",
            "|minneola             |Minneola               |16   |\n",
            "|missionhill          |Mission Hill           |4    |\n",
            "|montverde            |Montverde              |43   |\n",
            "|morrow               |Morrow                 |16   |\n",
            "|mountdora            |Mount Dora             |545  |\n",
            "|mountsterling        |Mount Sterling         |1    |\n",
            "|nahant               |Nahant                 |29   |\n",
            "|nantasketbeach       |Nantasket Beach        |2    |\n",
            "|nashua               |Nashua                 |2    |\n",
            "|natick               |Natick                 |794  |\n",
            "|nbillerica           |N.Billerica            |2    |\n",
            "|needham              |Needham                |310  |\n",
            "|needhamheights       |Needham Heights        |22   |\n",
            "|newalbany            |New Albany             |288  |\n",
            "|newton               |Newton                 |1055 |\n",
            "|newtoncenter         |Newton Center          |28   |\n",
            "|newtoncentre         |Newton Centre          |29   |\n",
            "|newtoncorner         |Newton Corner          |15   |\n",
            "|newtonhighlands      |Newton Highlands       |11   |\n",
            "|newtonville          |Newtonville            |82   |\n",
            "|newwestminster       |New Westminster        |562  |\n",
            "|newwestminster       |NEW WESTMINSTER        |2    |\n",
            "|newwestminster       |Newwestminster         |1    |\n",
            "|niwot                |Niwot                  |39   |\n",
            "|norcross             |Norcross               |77   |\n",
            "|northandover         |North Andover          |2    |\n",
            "|northbillerica       |North Billerica        |62   |\n",
            "|northdecatur         |North Decatur          |7    |\n",
            "|northquincy          |North Quincy           |52   |\n",
            "|northreading         |North Reading          |123  |\n",
            "|northvancouver       |North Vancouver        |831  |\n",
            "|northweymouth        |North Weymouth         |30   |\n",
            "|norwell              |Norwell                |126  |\n",
            "|norwood              |Norwood                |664  |\n",
            "|nreading             |N.Reading              |2    |\n",
            "|nvancouver           |N Vancouver            |1    |\n",
            "|oakgrove             |Oak Grove              |12   |\n",
            "|obetz                |Obetz                  |16   |\n",
            "|ocoee                |Ocoee                  |688  |\n",
            "|or                   |OR                     |11   |\n",
            "|orangecity           |Orange City            |402  |\n",
            "|orchards             |Orchards               |6    |\n",
            "|oregoncity           |Oregon City            |519  |\n",
            "|orient               |Orient                 |6    |\n",
            "|orlando              |Orlando                |38157|\n",
            "|orlando              |ORLANDO                |73   |\n",
            "|orlanto              |Orlanto                |22   |\n",
            "|osteen               |Osteen                 |15   |\n",
            "|oviedo               |Oviedo                 |1437 |\n",
            "|oviedo               |OVIEDO                 |5    |\n",
            "|pataskala            |Pataskala              |138  |\n",
            "|peabody              |Peabody                |805  |\n",
            "|pflugerville         |Pflugerville           |285  |\n",
            "|pickerington         |Pickerington           |452  |\n",
            "|pinecastle           |Pine Castle            |10   |\n",
            "|plaincity            |Plain City             |127  |\n",
            "|poinciana            |Poinciana              |42   |\n",
            "|pointventure         |Point Venture          |29   |\n",
            "|polaris              |Polaris                |1    |\n",
            "|portcoquitlam        |Port Coquitlam         |193  |\n",
            "|portcoquitlam        |Port coquitlam         |15   |\n",
            "|portcoquitlam        |PORT COQUITLAM         |1    |\n",
            "|portland             |Portland               |38401|\n",
            "|portland             |PORTLAND               |24   |\n",
            "|portlandeastportplaza|Portland-Eastport Plaza|2    |\n",
            "|portmoody            |Port Moody             |147  |\n",
            "|portsaintjohn        |Port Saint John        |11   |\n",
            "|portstjohn           |Port St John           |13   |\n",
            "|portstjohn           |Port St. John          |3    |\n",
            "|powell               |Powell                 |476  |\n",
            "|quincy               |Quincy                 |1981 |\n",
            "|randolph             |Randolph               |309  |\n",
            "|reading              |Reading                |265  |\n",
            "|revere               |Revere                 |712  |\n",
            "|reynoldsburg         |Reynoldsburg           |592  |\n",
            "|richmond             |Richmond               |2365 |\n",
            "|richmond             |RichMond               |2    |\n",
            "|richmond             |RICHMOND               |3    |\n",
            "|riverdale            |Riverdale              |1    |\n",
            "|rockland             |Rockland               |66   |\n",
            "|rollingwood          |Rollingwood            |6    |\n",
            "|roslindale           |Roslindale             |390  |\n",
            "|roxbury              |Roxbury                |112  |\n",
            "|roxburycrossing      |Roxbury Crossing       |74   |\n",
            "|saintcloud           |Saint Cloud            |435  |\n",
            "|salem                |Salem                  |1669 |\n",
            "|sandy                |San dy                 |1    |\n",
            "|sandyspring          |Sandy Spring           |169  |\n",
            "|sandysprings         |Sandy Springs          |2375 |\n",
            "|sanford              |Sanford                |1683 |\n",
            "|sanford              |SANFORD                |18   |\n",
            "|sanmarcos            |San Marcos             |3    |\n",
            "|saugus               |Saugus                 |620  |\n",
            "|scottdale            |Scottdale              |24   |\n",
            "|shawneehills         |Shawnee Hills          |1    |\n",
            "|sheridan             |Sheridan               |1    |\n",
            "|smyrna               |Smyrna                 |2666 |\n",
            "|somerville           |Somerville             |3180 |\n",
            "|sorrento             |Sorrento               |12   |\n",
            "|southbloomfield      |South Bloomfield       |3    |\n",
            "|southboston          |South Boston           |71   |\n",
            "|southeastorlando     |Southeast Orlando      |3    |\n",
            "|southweymouth        |South Weymouth         |22   |\n",
            "|soweymouth           |So. Weymouth           |1    |\n",
            "|stcloud              |St. Cloud              |175  |\n",
            "|stcloud              |St Cloud               |89   |\n",
            "|stcloud              |St.Cloud               |11   |\n",
            "|stcloud              |ST. CLOUD              |2    |\n",
            "|steveston            |Steveston              |4    |\n",
            "|stjohn               |St John                |3    |\n",
            "|stjohns              |St Johns               |16   |\n",
            "|stoneham             |Stoneham               |354  |\n",
            "|stonemountain        |Stone Mountain         |136  |\n",
            "|stoughton            |Stoughton              |368  |\n",
            "|sudbury              |Sudbury                |42   |\n",
            "|sunbury              |Sunbury                |121  |\n",
            "|sunsetvalley         |Sunset Valley          |351  |\n",
            "|superior             |Superior               |71   |\n",
            "|surrey               |Surrey                 |445  |\n",
            "|surrey               |SURREY                 |3    |\n",
            "|swampscott           |Swampscott             |228  |\n",
            "|tewksbury            |Tewksbury              |154  |\n",
            "|tigard               |Tigard                 |2106 |\n",
            "|titusville           |Titusville             |799  |\n",
            "|titusville           |TITUSVILLE             |1    |\n",
            "|tualatin             |Tualatin               |694  |\n",
            "|tucker               |Tucker                 |1026 |\n",
            "|unionpark            |Union Park             |18   |\n",
            "|upperarlington       |Upper Arlington        |337  |\n",
            "|urbancrest           |Urbancrest             |1    |\n",
            "|vancouver            |Vancouver              |18964|\n",
            "|vinings              |Vinings                |80   |\n",
            "|waban                |Waban                  |3    |\n",
            "|wakefield            |Wakefield              |387  |\n",
            "|walpole              |Walpole                |70   |\n",
            "|waltdisneyworld      |Walt Disney World      |1    |\n",
            "+---------------------+-----------------------+-----+\n",
            "only showing top 360 rows\n",
            "\n"
          ]
        }
      ],
      "source": [
        "# Let's see how many cities we have with the same key\n",
        "post_df.groupBy(\"city_key\", \"city\").count().orderBy(\"city_key\").show(360, truncate=False)"
      ]
    },
    {
      "cell_type": "code",
      "execution_count": null,
      "metadata": {
        "id": "gRH2Tj91-0HN"
      },
      "outputs": [],
      "source": [
        "from pyspark.sql.window import Window\n",
        "from pyspark.sql.functions import row_number\n",
        "\n",
        "# Creating window to rank cities by count per city_key\n",
        "# For each group of rows with the same city_key sort them by how often they appear\n",
        "# By using window we create a subset of dataframe where all rows have the same key\n",
        "# and within each window rows are ordered by the count in descending order\n",
        "windowSpec = Window.partitionBy(\"city_key\").orderBy(col(\"count\").desc())\n",
        "\n",
        "# Counting how many times city name appears per city\n",
        "city_counts = post_df.groupBy(\"city_key\", \"city\").count()\n",
        "\n",
        "# Picking the most common city_clean for each city_key\n",
        "standard_cities = city_counts.withColumn(\"rank\", row_number().over(windowSpec)).filter(col(\"rank\") == 1)\n",
        "\n",
        "### Now we have a standarized column, e.g. stcloud-> St. Cloud\n",
        "#### we don't have multiple variations like stcloud, St.  Cloud and St.CLoud etc"
      ]
    },
    {
      "cell_type": "markdown",
      "metadata": {
        "id": "qassAav9s9gp"
      },
      "source": [
        "###### Explanation of window\n",
        "https://spark.apache.org/docs/latest/api/python/reference/pyspark.sql/api/pyspark.sql.Window.html\n",
        "\n",
        "\n",
        "Break data into groups based on city key (all rows same city key are groupped together)."
      ]
    },
    {
      "cell_type": "code",
      "execution_count": null,
      "metadata": {
        "id": "bndPly81-0Mb"
      },
      "outputs": [],
      "source": [
        "# Renaming the selected column\n",
        "standard_cities = standard_cities.withColumnRenamed(\"city\", \"city_standardized\")\n",
        "\n",
        "# Preforming join to have a final dataframe\n",
        "post_df = post_df.join(\n",
        "    standard_cities.select(\"city_key\", \"city_standardized\"),\n",
        "    on=\"city_key\",\n",
        "    how=\"left\"\n",
        ")\n"
      ]
    },
    {
      "cell_type": "code",
      "execution_count": null,
      "metadata": {
        "id": "MWldQftT-0T8"
      },
      "outputs": [],
      "source": [
        "# Dropping city key and city columns, because they are not useful\n",
        "post_df=post_df.drop(\"city_key\", \"city\")"
      ]
    },
    {
      "cell_type": "code",
      "execution_count": null,
      "metadata": {
        "id": "AjLVWaKqa9P7",
        "outputId": "b6f4e9d5-2249-4271-b9e5-d2856bd70221"
      },
      "outputs": [
        {
          "name": "stdout",
          "output_type": "stream",
          "text": [
            "+--------------------+--------------------+--------------------+------+-----------+-------------+--------------+-----+------------+-------+--------------------+--------------------+--------------------+--------------------+--------------+------+-----+----+--------------------+-------------------+-----------------+\n",
            "|         business_id|                name|             address|state_|postal_code|     latitude|     longitude|stars|review_count|is_open|          categories|               hours|           review_id|             user_id|customer_stars|useful|funny|cool|               text_|              date_|city_standardized|\n",
            "+--------------------+--------------------+--------------------+------+-----------+-------------+--------------+-----+------------+-------+--------------------+--------------------+--------------------+--------------------+--------------+------+-----+----+--------------------+-------------------+-----------------+\n",
            "|OvfeSj9IPZPsyub5u...|Jose's Torta Mexi...|793 Massachusetts...|    MA|      02476|    42.416656|   -71.1584753|  3.5|          35|      1|Mexican, Restaura...|{'Monday': '11:0-...|H42Nf5V7Hb3cF1fGz...|-6Tvk3cgt4ioSsmmB...|             5|     0|    0|   0|Ordered from here...|2020-05-06 03:35:33|        Arlington|\n",
            "|qKcWprJbhkoEaOiDt...|               Woori|        9 Medford St|    MA|      02474|   42.4149401|   -71.1506764|  4.0|         148|      1| Restaurants, Korean|{'Monday': '17:0-...|O4nXRgEjmEm6hT7h8...|-Zbn9m7YXkAPmOnUU...|             5|     0|    0|   0|We love their bib...|2021-01-27 22:56:25|        Arlington|\n",
            "|SyxZX4Dj7nJeyzuIe...|       Rangla Punjab|444 Massachusetts...|    MA|      02474|   42.4144093|   -71.1513732|  4.5|          38|      1|Buffets, Halal, R...|{'Monday': '15:30...|i931In60RSPp4fEp1...|-lz-rIn7y6upmDrhE...|             5|     1|    0|   0|I've been here ma...|2020-06-18 20:22:52|        Arlington|\n",
            "|DlsflAqTQfcSDW_J2...|  Twyrl Pasta Bistro|        315 Broadway|    MA|      02474|   42.4146251|   -71.1504828|  4.5|         157|      1|Sandwiches, Resta...|{'Monday': '0:0-0...|qEruFXqcOxRQsknkA...|-0xATXtF57NZd8NY6...|             5|     0|    0|   0|Twryl has become ...|2020-09-15 19:29:53|        Arlington|\n",
            "|2U_sNLFyXYr9iCob0...|  Andrina's Pizzeria|1060 Massachusett...|    MA|      02476|42.4205550382|-71.1706120604|  4.0|         140|      1|Pizza, Food, Rest...|{'Monday': '16:0-...|akl-prvrDBsuVy6T7...|--86Lm2dNJbz3i4V_...|             5|     0|    0|   0|I love their pizz...|2020-05-21 20:48:36|        Arlington|\n",
            "|EuiU19EjhybpGLXqB...|Fresh Pond Seafoo...|        75 Summer St|    MA|      02474|   42.4192655|   -71.1564327|  4.0|          96|      1|Seafood, Restaura...|{'Monday': '9:0-2...|cUdy8X87FdM0gEVUn...|-iJ793yuSJrQ5SlEU...|             5|     0|    0|   0|No frills no thri...|2020-09-07 14:20:52|        Arlington|\n",
            "|jHZNMd08jtN_aS-yQ...| Thai E-Sarn Cuisine|1377 Massachusett...|    MA|      02476|   42.4246254|   -71.1843155|  3.5|         108|      1|   Thai, Restaurants|{'Monday': '16:0-...|CpWjLMnde6kkwgN5V...|--86Lm2dNJbz3i4V_...|             5|     0|    0|   0|I love this resta...|2020-05-21 20:27:20|        Arlington|\n",
            "|rKXFbtS2EY7fyMT0u...|          Home Taste|1312 Massachusett...|    MA|      02476|42.4241118783|-71.1824017391|  4.0|          64|      1|Restaurants, Chinese|{'Monday': '11:30...|FBirRF_qNqkGl6bCw...|-3t-oXTddntKfe-yk...|             5|     0|    0|   0|The spicy, hand-p...|2020-10-26 19:53:44|        Arlington|\n",
            "|H9Usf29dR9_ZtLm5I...| Szechuan's Dumpling|1360 Massachusett...|    MA|      02476|42.4242811803|-71.1839634288|  3.5|         145|      1|Szechuan, Restaur...|{'Monday': '0:0-0...|-_N8Z9qUSyyR2yz3s...|--86Lm2dNJbz3i4V_...|             5|     0|    0|   0|I feel so fortuna...|2020-05-21 21:02:07|        Arlington|\n",
            "|yXGwjPCV1q5f4hlDE...|Punjab Indian Res...|485 Massachusetts...|    MA|      02474|   42.4152688|   -71.1520286|  4.0|         461|      1|Pakistani, Catere...|{'Monday': '12:0-...|53Yem_5IzLuDXL4M9...|--86Lm2dNJbz3i4V_...|             5|     1|    0|   0|I absolutely love...|2020-05-21 23:11:34|        Arlington|\n",
            "|HE1l6pB4_y97Rlmf8...|26 Thai Kitchen &...|   824 Juniper St NE|    GA|      30308|   33.7770303|   -84.3831371|  4.5|         153|      1|Thai, Bars, Resta...|{'Monday': '0:0-0...|OO1GDXq8Kl86hL63W...|-2_eraIVhKpCvOQA5...|             4|     1|    1|   1|Really nice lowke...|2021-01-23 01:10:52|          Atlanta|\n",
            "|Y2R-8nnUNulCYYWVX...|       Nancy's Pizza|265 Ponce De Leon...|    GA|      30308|   33.7722004|   -84.3788054|  3.5|         635|      1|Restaurants, Chic...|{'Monday': '0:0-0...|5pCH9JNyYluPQtIjc...|-CwRpc1CQU545WxRt...|             2|     0|    0|   0|I couldn't tell y...|2020-02-22 03:59:30|          Atlanta|\n",
            "|xNm8xFkkm8ZhkSp4b...|      The Family Dog|1402 N Highland A...|    GA|      30306|   33.7927506|   -84.3525207|  3.5|          98|      1|American (New), A...|{'Tuesday': '12:0...|MPHZRLFzrqBKcMSUu...|-KylEFVLIMI8SAxUA...|             2|     0|    2|   0|Great name for th...|2020-01-21 18:40:46|          Atlanta|\n",
            "|vQvQ1o1uK05TLxIRK...| Del Frisco's Grille|3376 Peachtree Rd NE|    GA|      30326|   33.8489524|   -84.3664042|  3.5|         594|      1|Nightlife, Wine B...|{'Monday': '11:30...|snIl7lx5GUwgruws-...|-MLOv0KlSn9RDd3Zi...|             2|     0|    0|   0|We've been here  ...|2020-01-31 17:00:56|          Atlanta|\n",
            "|IOLwhRIF2wyhbTJl_...|Breakfast at Barneys|   349 Decatur St SE|    GA|      30312|    33.749735|     -84.37899|  4.5|         296|      1|Breakfast & Brunc...|{'Monday': '7:0-2...|W-3w8CGL8z0xSs2su...|-ZqY1Jvfq46ENE5DN...|             5|     1|    0|   1|Liked - Liked - L...|2020-12-02 18:43:37|          Atlanta|\n",
            "|8PcTmvfMShQkdS4qD...|    Sweet Auburn BBQ|656 N Highland Av...|    GA|      30306|    33.772481|    -84.352746|  4.0|         648|      1|Cocktail Bars, Ni...|{'Monday': '0:0-0...|sl-dS6dGw6YUL1Ogw...|-8kTpuulwQD-IUCiX...|             4|     0|    0|   0|A delicious and f...|2020-09-08 19:21:04|          Atlanta|\n",
            "|zI6_0TWC6pT51mNpr...|         Blaze Pizza|540 17th St NW, S...|    GA|      30318|33.7910780872| -84.406868003|  3.5|         110|      1|Pizza, Restaurant...|{'Monday': '11:0-...|E3wSamO-W_DSB1Szn...|-C2SnzY81QteXgHvd...|             5|     1|    1|   1|TL;DR It's my go-...|2020-02-20 01:43:36|          Atlanta|\n",
            "|qJl9D0f8KeWH1Kyeg...|            Superica|  3850 Roswell Rd NE|    GA|      30342| 33.859951015|    -84.381151|  4.0|         550|      1|New Mexican Cuisi...|{'Monday': '16:30...|Tc6eo4WC_2emQzI8l...|-Es32j-69kLjAmtbi...|             1|     0|    0|   0|Superica has been...|2020-02-22 18:47:36|          Atlanta|\n",
            "|tDv2qG4N7PsYLN0QY...|     Bulla Gastrobar|       60 11th St NE|    GA|      30309|33.7834104147|   -84.3855779|  4.5|         526|      1|Mediterranean, Re...|{'Monday': '11:30...|Nds7062B3OVI7L7PO...|-_X7G3EgdNj2TFm5t...|             5|     0|    0|   0|One of my favorit...|2020-06-07 03:51:24|          Atlanta|\n",
            "|u-4wti774tFcYRLuQ...|   Fox Bros. Bar-B-Q|  1238 Dekalb Ave NE|    GA|      30307|33.7610514725|-84.3475019932|  4.5|        3825|      1|Southern, Restaur...|{'Monday': '11:0-...|Aq82pGnB81EhTDdg3...|-in2P5QZ4ioVh5kzt...|             4|     1|    0|   1|Being a Southern ...|2020-07-06 17:41:03|          Atlanta|\n",
            "+--------------------+--------------------+--------------------+------+-----------+-------------+--------------+-----+------------+-------+--------------------+--------------------+--------------------+--------------------+--------------+------+-----+----+--------------------+-------------------+-----------------+\n",
            "only showing top 20 rows\n",
            "\n"
          ]
        }
      ],
      "source": [
        "post_df.show()"
      ]
    },
    {
      "cell_type": "code",
      "execution_count": null,
      "metadata": {
        "id": "dkD6P5gD-0Ve"
      },
      "outputs": [],
      "source": [
        "post_df.select(\"city_standardized\").distinct().count()"
      ]
    },
    {
      "cell_type": "markdown",
      "metadata": {
        "id": "7ITFtBNmJrhH"
      },
      "source": [
        "The final unique cities  of our dataset\n",
        "are 351."
      ]
    },
    {
      "cell_type": "markdown",
      "metadata": {
        "id": "3J_LkWs-gFmT"
      },
      "source": [
        "#### States"
      ]
    },
    {
      "cell_type": "markdown",
      "metadata": {
        "id": "iSKI_bphbumV"
      },
      "source": [
        "##### States - Post *Df*"
      ]
    },
    {
      "cell_type": "code",
      "execution_count": null,
      "metadata": {
        "colab": {
          "base_uri": "https://localhost:8080/"
        },
        "id": "zOO2eDy0oJAM",
        "outputId": "0de9f1e9-1528-4abf-9aea-738e390cc0cc"
      },
      "outputs": [
        {
          "data": {
            "text/plain": [
              "14"
            ]
          },
          "execution_count": 40,
          "metadata": {},
          "output_type": "execute_result"
        }
      ],
      "source": [
        "# Finding the unique states\n",
        "post_df.select(col(\"state_\")).distinct().count()"
      ]
    },
    {
      "cell_type": "markdown",
      "metadata": {
        "id": "4s-VTQXH-TB2"
      },
      "source": [
        "ABE is not a regognized USA state so let's investigate further."
      ]
    },
    {
      "cell_type": "code",
      "execution_count": null,
      "metadata": {
        "colab": {
          "base_uri": "https://localhost:8080/"
        },
        "id": "cyBy_hm19-tr",
        "outputId": "06263bdb-302f-4989-da7d-09e755cac5df"
      },
      "outputs": [
        {
          "data": {
            "text/plain": [
              "3"
            ]
          },
          "execution_count": 41,
          "metadata": {},
          "output_type": "execute_result"
        }
      ],
      "source": [
        "# Finding rows with ABE state\n",
        "post_df.filter(col(\"state_\")==\"ABE\").count()"
      ]
    },
    {
      "cell_type": "code",
      "execution_count": null,
      "metadata": {
        "colab": {
          "base_uri": "https://localhost:8080/"
        },
        "id": "mrQS6h2M-IZk",
        "outputId": "88c3d7ae-4382-4984-da7c-917759f65dd1"
      },
      "outputs": [
        {
          "name": "stdout",
          "output_type": "stream",
          "text": [
            "+-------------------+------------------+-----------------+-----------+--------+-----------+\n",
            "|name               |address           |city_standardized|postal_code|latitude|longitude  |\n",
            "+-------------------+------------------+-----------------+-----------+--------+-----------+\n",
            "|Kitanoya Guu Garlic|1698 Robson Street|Vancouver        |V6G 1C7    |49.29065|-123.133761|\n",
            "|Kitanoya Guu Garlic|1698 Robson Street|Vancouver        |V6G 1C7    |49.29065|-123.133761|\n",
            "|Kitanoya Guu Garlic|1698 Robson Street|Vancouver        |V6G 1C7    |49.29065|-123.133761|\n",
            "+-------------------+------------------+-----------------+-----------+--------+-----------+\n",
            "\n"
          ]
        }
      ],
      "source": [
        "# Displaying the details for those 3 rows\n",
        "post_df.filter(col(\"state_\") == \"ABE\") \\\n",
        "    .select(\"name\", \"address\", \"city_standardized\", \"postal_code\", \"latitude\", \"longitude\") \\\n",
        "    .show(truncate=False)"
      ]
    },
    {
      "cell_type": "markdown",
      "metadata": {
        "id": "0YC_tn77_qzh"
      },
      "source": [
        "There is no state called ABE. Actually, the above restauraunts are in the Vancouver, British Columbia, Canada, so the correct province is BC."
      ]
    },
    {
      "cell_type": "code",
      "execution_count": null,
      "metadata": {
        "id": "IqX5JIBE_7eN"
      },
      "outputs": [],
      "source": [
        "# Changing to the correct province\n",
        "post_df=post_df.withColumn(\"state_\",\n",
        "                          when((col(\"state_\") == \"ABE\") & (col(\"city_standardized\") == \"Vancouver\"), \"BC\")\n",
        "    .otherwise(col(\"state_\"))\n",
        ")"
      ]
    },
    {
      "cell_type": "code",
      "execution_count": null,
      "metadata": {
        "colab": {
          "base_uri": "https://localhost:8080/"
        },
        "id": "zwK8x65IAvps",
        "outputId": "c05bcbb4-54d3-400b-a827-107b8e1052cd"
      },
      "outputs": [
        {
          "data": {
            "text/plain": [
              "0"
            ]
          },
          "execution_count": 44,
          "metadata": {},
          "output_type": "execute_result"
        }
      ],
      "source": [
        "# Checking if the changes are applied\n",
        "post_df.filter(col(\"state_\")==\"ABE\").count()"
      ]
    },
    {
      "cell_type": "code",
      "execution_count": null,
      "metadata": {
        "colab": {
          "base_uri": "https://localhost:8080/"
        },
        "id": "ob7o1qCJAxuV",
        "outputId": "98933bfd-ba09-4334-fb5d-13cb212ae50b"
      },
      "outputs": [
        {
          "data": {
            "text/plain": [
              "13"
            ]
          },
          "execution_count": 45,
          "metadata": {},
          "output_type": "execute_result"
        }
      ],
      "source": [
        "post_df.select(\"state_\").distinct().count()"
      ]
    },
    {
      "cell_type": "code",
      "execution_count": null,
      "metadata": {
        "colab": {
          "base_uri": "https://localhost:8080/"
        },
        "id": "F3YoaCEsEiv9",
        "outputId": "91a2c07f-ab10-4bcb-dd14-e0e236c55983"
      },
      "outputs": [
        {
          "name": "stdout",
          "output_type": "stream",
          "text": [
            "+------+\n",
            "|state_|\n",
            "+------+\n",
            "|    OR|\n",
            "|    VA|\n",
            "|    WY|\n",
            "|    KY|\n",
            "|    BC|\n",
            "|    NH|\n",
            "|    WA|\n",
            "|    OH|\n",
            "|    TX|\n",
            "|    GA|\n",
            "|    MA|\n",
            "|    FL|\n",
            "|    CO|\n",
            "+------+\n",
            "\n"
          ]
        }
      ],
      "source": [
        "post_df.select(\"state_\").distinct().show()"
      ]
    },
    {
      "cell_type": "markdown",
      "metadata": {
        "id": "gQgwl1f3EcCz"
      },
      "source": [
        "In conclusion in the post covid dataset we have a total of  13  unique states."
      ]
    },
    {
      "cell_type": "code",
      "execution_count": null,
      "metadata": {
        "colab": {
          "base_uri": "https://localhost:8080/"
        },
        "id": "Az3jLxjITzio",
        "outputId": "cc1c2b6e-7076-4d66-ed77-2c3b09999782"
      },
      "outputs": [
        {
          "name": "stdout",
          "output_type": "stream",
          "text": [
            "+------+--------------+\n",
            "|state_|business_count|\n",
            "+------+--------------+\n",
            "|    WY|             1|\n",
            "|    WA|           524|\n",
            "|    VA|             1|\n",
            "|    TX|          3163|\n",
            "|    OR|          4209|\n",
            "|    OH|          2875|\n",
            "|    NH|             1|\n",
            "|    MA|          6067|\n",
            "|    KY|             1|\n",
            "|    GA|          3750|\n",
            "|    FL|          5127|\n",
            "|    CO|           480|\n",
            "|    BC|          3862|\n",
            "+------+--------------+\n",
            "\n"
          ]
        }
      ],
      "source": [
        "post_df.groupBy(\"state_\").agg(countDistinct(\"business_id\").alias(\"business_count\")).orderBy(\"state_\", ascending=False).show()"
      ]
    },
    {
      "cell_type": "markdown",
      "metadata": {
        "id": "gofqGJwZc_Mi"
      },
      "source": [
        "Florida, Massachusetts, Georgia and Texas seems to have the most restauraunts."
      ]
    },
    {
      "cell_type": "code",
      "execution_count": null,
      "metadata": {
        "id": "OJkXtRNpcAEt"
      },
      "outputs": [],
      "source": [
        "#Total number of reviews for each business in each state\n",
        "state_reviews=post_df.groupBy(\"state_\", \"business_id\").agg(sum(\"review_count\").alias(\"review_count\")).orderBy(\"review_count\", ascending=False)"
      ]
    },
    {
      "cell_type": "markdown",
      "metadata": {
        "id": "TFJzYQ4fgSO-"
      },
      "source": [
        "The top reviewed states in terms of businesses are Texas, Georgia, Oregon and Florida."
      ]
    },
    {
      "cell_type": "markdown",
      "metadata": {
        "id": "GPAVNyhHng4d"
      },
      "source": [
        "##### States - Pre Df"
      ]
    },
    {
      "cell_type": "code",
      "execution_count": null,
      "metadata": {
        "colab": {
          "base_uri": "https://localhost:8080/"
        },
        "id": "OT5QAI0MdgEG",
        "outputId": "f19463a8-aee3-4d43-80ea-a2475edb6256"
      },
      "outputs": [
        {
          "data": {
            "text/plain": [
              "16"
            ]
          },
          "execution_count": 51,
          "metadata": {},
          "output_type": "execute_result"
        }
      ],
      "source": [
        "# Finding the unique states\n",
        "pre_df.select(col(\"state_\")).distinct().count()"
      ]
    },
    {
      "cell_type": "markdown",
      "metadata": {
        "id": "FlhRaLkttGEY"
      },
      "source": [
        "The pre covid dataset contains 16 states. Two more than the post covid one.\n",
        "But let's check like before."
      ]
    },
    {
      "cell_type": "code",
      "execution_count": null,
      "metadata": {
        "colab": {
          "base_uri": "https://localhost:8080/"
        },
        "id": "rVwcxM53hsX2",
        "outputId": "6b9d9894-b8ee-419e-b0c9-46099a54306a"
      },
      "outputs": [
        {
          "name": "stdout",
          "output_type": "stream",
          "text": [
            "+------+\n",
            "|state_|\n",
            "+------+\n",
            "|    OR|\n",
            "|    WY|\n",
            "|    BC|\n",
            "|    WA|\n",
            "|    OH|\n",
            "|    TX|\n",
            "|    GA|\n",
            "|    MA|\n",
            "|    KS|\n",
            "|    FL|\n",
            "|    CO|\n",
            "|    VA|\n",
            "|    NH|\n",
            "|    MN|\n",
            "|    KY|\n",
            "|   ABE|\n",
            "+------+\n",
            "\n"
          ]
        }
      ],
      "source": [
        "# Printing Unique States\n",
        "pre_df.select(col(\"state_\")).distinct().show()"
      ]
    },
    {
      "cell_type": "markdown",
      "metadata": {
        "id": "yQwvycxeBYre"
      },
      "source": [
        "Keeping the same approach with pre covid dataset."
      ]
    },
    {
      "cell_type": "code",
      "execution_count": null,
      "metadata": {
        "colab": {
          "base_uri": "https://localhost:8080/"
        },
        "id": "lNh3jw5HBMTK",
        "outputId": "b5da1afc-cb63-4547-bf0c-9f4f36149001"
      },
      "outputs": [
        {
          "data": {
            "text/plain": [
              "11"
            ]
          },
          "execution_count": 53,
          "metadata": {},
          "output_type": "execute_result"
        }
      ],
      "source": [
        "# Finding rows with ABE state\n",
        "pre_df.filter(col(\"state_\")==\"ABE\").count()"
      ]
    },
    {
      "cell_type": "code",
      "execution_count": null,
      "metadata": {
        "colab": {
          "base_uri": "https://localhost:8080/"
        },
        "id": "6lZC9c4fBMTM",
        "outputId": "248ed435-0439-4793-fbf8-1f256f2a3f4f"
      },
      "outputs": [
        {
          "name": "stdout",
          "output_type": "stream",
          "text": [
            "+-------------------+------------------+-----------------+-----------+--------+-----------+\n",
            "|name               |address           |city_standardized|postal_code|latitude|longitude  |\n",
            "+-------------------+------------------+-----------------+-----------+--------+-----------+\n",
            "|Kitanoya Guu Garlic|1698 Robson Street|Vancouver        |V6G 1C7    |49.29065|-123.133761|\n",
            "|Kitanoya Guu Garlic|1698 Robson Street|Vancouver        |V6G 1C7    |49.29065|-123.133761|\n",
            "|Kitanoya Guu Garlic|1698 Robson Street|Vancouver        |V6G 1C7    |49.29065|-123.133761|\n",
            "|Kitanoya Guu Garlic|1698 Robson Street|Vancouver        |V6G 1C7    |49.29065|-123.133761|\n",
            "|Kitanoya Guu Garlic|1698 Robson Street|Vancouver        |V6G 1C7    |49.29065|-123.133761|\n",
            "|Kitanoya Guu Garlic|1698 Robson Street|Vancouver        |V6G 1C7    |49.29065|-123.133761|\n",
            "|Kitanoya Guu Garlic|1698 Robson Street|Vancouver        |V6G 1C7    |49.29065|-123.133761|\n",
            "|Kitanoya Guu Garlic|1698 Robson Street|Vancouver        |V6G 1C7    |49.29065|-123.133761|\n",
            "|Kitanoya Guu Garlic|1698 Robson Street|Vancouver        |V6G 1C7    |49.29065|-123.133761|\n",
            "|Kitanoya Guu Garlic|1698 Robson Street|Vancouver        |V6G 1C7    |49.29065|-123.133761|\n",
            "|Kitanoya Guu Garlic|1698 Robson Street|Vancouver        |V6G 1C7    |49.29065|-123.133761|\n",
            "+-------------------+------------------+-----------------+-----------+--------+-----------+\n",
            "\n"
          ]
        }
      ],
      "source": [
        "# Displaying the details for those 11 rows\n",
        "pre_df.filter(col(\"state_\") == \"ABE\") \\\n",
        "    .select(\"name\", \"address\", \"city_standardized\", \"postal_code\", \"latitude\", \"longitude\") \\\n",
        "    .show(truncate=False)"
      ]
    },
    {
      "cell_type": "code",
      "execution_count": null,
      "metadata": {
        "id": "9hwkhyqOBMTM"
      },
      "outputs": [],
      "source": [
        "# Changing to the correct province\n",
        "pre_df=pre_df.withColumn(\"state_\",\n",
        "                          when((col(\"state_\") == \"ABE\") & (col(\"city_standardized\") == \"Vancouver\"), \"BC\")\n",
        "    .otherwise(col(\"state_\"))\n",
        ")"
      ]
    },
    {
      "cell_type": "code",
      "execution_count": null,
      "metadata": {
        "id": "87yP1PY4BMTM"
      },
      "outputs": [],
      "source": [
        "# Checking if the changes are applied\n",
        "pre_df.filter(col(\"state_\")==\"ABE\").count()"
      ]
    },
    {
      "cell_type": "code",
      "execution_count": null,
      "metadata": {
        "colab": {
          "base_uri": "https://localhost:8080/"
        },
        "id": "t1WwdBebD28p",
        "outputId": "52c99d6b-be02-49cf-b844-536e7475f3a7"
      },
      "outputs": [
        {
          "data": {
            "text/plain": [
              "15"
            ]
          },
          "execution_count": 57,
          "metadata": {},
          "output_type": "execute_result"
        }
      ],
      "source": [
        "pre_df.select(\"state_\").distinct().count()"
      ]
    },
    {
      "cell_type": "code",
      "execution_count": null,
      "metadata": {
        "colab": {
          "base_uri": "https://localhost:8080/"
        },
        "id": "S7JjS-rVE1hJ",
        "outputId": "a33357f7-c7e4-44bf-d9ae-0ff088f8cb0f"
      },
      "outputs": [
        {
          "name": "stdout",
          "output_type": "stream",
          "text": [
            "+------+\n",
            "|state_|\n",
            "+------+\n",
            "|    MN|\n",
            "|    OR|\n",
            "|    VA|\n",
            "|    WY|\n",
            "|    KY|\n",
            "|    BC|\n",
            "|    NH|\n",
            "|    WA|\n",
            "|    OH|\n",
            "|    TX|\n",
            "|    GA|\n",
            "|    MA|\n",
            "|    KS|\n",
            "|    FL|\n",
            "|    CO|\n",
            "+------+\n",
            "\n"
          ]
        }
      ],
      "source": [
        "pre_df.select(col(\"state_\")).distinct().show()"
      ]
    },
    {
      "cell_type": "markdown",
      "metadata": {
        "id": "aczg_u6bEO3h"
      },
      "source": [
        "In conclusion we have 13 unique states in the pre dataset."
      ]
    },
    {
      "cell_type": "code",
      "execution_count": null,
      "metadata": {
        "id": "MoAtgrqJWcde"
      },
      "outputs": [],
      "source": [
        "state_counts=pre_df.groupBy(\"state_\").agg(countDistinct(\"business_id\").alias(\"business_count\")).orderBy(\"state_\", ascending=False)"
      ]
    },
    {
      "cell_type": "code",
      "execution_count": null,
      "metadata": {
        "colab": {
          "base_uri": "https://localhost:8080/"
        },
        "id": "nAUJt4V-4fzW",
        "outputId": "1b891020-4a04-447b-de27-a245073878de"
      },
      "outputs": [
        {
          "name": "stdout",
          "output_type": "stream",
          "text": [
            "+-----------+----+-------+------+-----------+--------+---------+-----+------------+-------+----------+------+---------+-------+--------------+------+-----+----+-----+-----+-----------------+\n",
            "|business_id|name|address|state_|postal_code|latitude|longitude|stars|review_count|is_open|categories| hours|review_id|user_id|customer_stars|useful|funny|cool|text_|date_|city_standardized|\n",
            "+-----------+----+-------+------+-----------+--------+---------+-----+------------+-------+----------+------+---------+-------+--------------+------+-----+----+-----+-----+-----------------+\n",
            "|          0|   0|  13453|     0|        384|       0|        0|    0|           0|      0|         0|217149|        0|      0|             0|     0|    0|   0|    0|    0|                0|\n",
            "+-----------+----+-------+------+-----------+--------+---------+-----+------------+-------+----------+------+---------+-------+--------------+------+-----+----+-----+-----+-----------------+\n",
            "\n"
          ]
        }
      ],
      "source": [
        "# Finding NULL string in columns\n",
        "#post_df = post_df.replace(\"NULL\", None)\n",
        "pre_df.select([sum(col(c).isNull().cast(\"int\")).alias(c) for c in pre_df.columns]).show()"
      ]
    },
    {
      "cell_type": "code",
      "execution_count": null,
      "metadata": {
        "id": "zEj-WlxXt9kd"
      },
      "outputs": [],
      "source": [
        "#Total number of reviews for each business in each state\n",
        "state_reviews=pre_df.groupBy(\"state_\", \"business_id\").agg(sum(\"review_count\").alias(\"review_count\")).orderBy(\"review_count\", ascending=False)"
      ]
    },
    {
      "cell_type": "markdown",
      "metadata": {
        "id": "OS8t3fSHvPZo"
      },
      "source": [
        "The states in the pre covid dataset that contain the most reviews are: Texas, Oregon,Massachusseuts and Georgia."
      ]
    },
    {
      "cell_type": "markdown",
      "metadata": {
        "id": "XI2pYbZp9w4Q"
      },
      "source": [
        "#### Hours column"
      ]
    },
    {
      "cell_type": "code",
      "execution_count": null,
      "metadata": {
        "colab": {
          "base_uri": "https://localhost:8080/"
        },
        "id": "zK6zHBvj9zHJ",
        "outputId": "07842c2d-c8cb-4b8b-87ff-63e6f7fcebdd"
      },
      "outputs": [
        {
          "name": "stdout",
          "output_type": "stream",
          "text": [
            "root\n",
            " |-- hours: string (nullable = true)\n",
            "\n"
          ]
        }
      ],
      "source": [
        "post_df.select(\"hours\").printSchema()"
      ]
    },
    {
      "cell_type": "code",
      "execution_count": null,
      "metadata": {
        "colab": {
          "base_uri": "https://localhost:8080/"
        },
        "id": "87WhGfp--jPQ",
        "outputId": "4c7879e3-490d-4f9a-e5dc-9eeb9ce43c68"
      },
      "outputs": [
        {
          "name": "stdout",
          "output_type": "stream",
          "text": [
            "root\n",
            " |-- business_id: string (nullable = true)\n",
            " |-- name: string (nullable = true)\n",
            " |-- address: string (nullable = true)\n",
            " |-- state_: string (nullable = true)\n",
            " |-- postal_code: string (nullable = true)\n",
            " |-- latitude: double (nullable = true)\n",
            " |-- longitude: double (nullable = true)\n",
            " |-- stars: double (nullable = true)\n",
            " |-- review_count: integer (nullable = true)\n",
            " |-- is_open: integer (nullable = true)\n",
            " |-- categories: string (nullable = true)\n",
            " |-- hours: map (nullable = true)\n",
            " |    |-- key: string\n",
            " |    |-- value: string (valueContainsNull = true)\n",
            " |-- review_id: string (nullable = true)\n",
            " |-- user_id: string (nullable = true)\n",
            " |-- customer_stars: integer (nullable = true)\n",
            " |-- useful: integer (nullable = true)\n",
            " |-- funny: integer (nullable = true)\n",
            " |-- cool: integer (nullable = true)\n",
            " |-- text_: string (nullable = true)\n",
            " |-- date_: timestamp (nullable = true)\n",
            " |-- city_standardized: string (nullable = true)\n",
            "\n"
          ]
        }
      ],
      "source": [
        "# convert the hours column into dictionary\n",
        "\n",
        "from pyspark.sql.types import MapType, StringType\n",
        "\n",
        "# Define the schema for the 'hours' column as a Map[String, String]\n",
        "schema = MapType(StringType(), StringType())\n",
        "\n",
        "# Convert the 'hours' column from string to a MapType\n",
        "post_df = post_df.withColumn(\"hours\", from_json(post_df[\"hours\"], schema))\n",
        "\n",
        "# Verify the schema\n",
        "post_df.printSchema()"
      ]
    },
    {
      "cell_type": "markdown",
      "metadata": {
        "id": "x6uNkp_I-p4h"
      },
      "source": [
        "Count how many businesses have null hours for all days of the week."
      ]
    },
    {
      "cell_type": "code",
      "execution_count": null,
      "metadata": {
        "colab": {
          "base_uri": "https://localhost:8080/"
        },
        "id": "ZqqVvxMg-k6q",
        "outputId": "46564109-734e-4cf4-cf5a-7dd923624a0e"
      },
      "outputs": [
        {
          "data": {
            "text/plain": [
              "11327"
            ]
          },
          "execution_count": 35,
          "metadata": {},
          "output_type": "execute_result"
        }
      ],
      "source": [
        "## Find records with null values in the hours column or where all days have null values\n",
        "\n",
        "from pyspark.sql.functions import col, size, map_values\n",
        "\n",
        "# Filter rows where 'hours' is null or where all values in the 'hours' map are null\n",
        "df_filtered = post_df.filter(\n",
        "    (col('hours').isNull()) |  # Check if the 'hours' column is null\n",
        "    ((size(map_values(col('hours'))) > 0) &  # Check if the map has any entries\n",
        "     (col('hours').getItem('Monday').isNull() &\n",
        "      col('hours').getItem('Tuesday').isNull() &\n",
        "      col('hours').getItem('Wednesday').isNull() &\n",
        "      col('hours').getItem('Thursday').isNull() &\n",
        "      col('hours').getItem('Friday').isNull() &\n",
        "      col('hours').getItem('Saturday').isNull() &\n",
        "      col('hours').getItem('Sunday').isNull())\n",
        "    )\n",
        ")\n",
        "\n",
        "df_filtered.count()"
      ]
    },
    {
      "cell_type": "markdown",
      "metadata": {
        "id": "wotwn90t-vta"
      },
      "source": [
        "Define periods:\n",
        "- Morning: 06:00-12:00\n",
        "- Afternoon: 12:00-17:00\n",
        "- Evening: 17:00 -23:00\n",
        "- LateNight: 23:00- 06:00"
      ]
    },
    {
      "cell_type": "code",
      "execution_count": null,
      "metadata": {
        "colab": {
          "base_uri": "https://localhost:8080/"
        },
        "id": "T8XP1YJc-uSV",
        "outputId": "6c25e1fa-c743-49aa-e808-20b0e811be83"
      },
      "outputs": [
        {
          "name": "stdout",
          "output_type": "stream",
          "text": [
            "+----------------------+-----------------------------------+-----------------------+------+-----------+-------------+--------------+-----+------------+-------+--------------------------------------------------------------------------------------------------------------------+------------------------------------------------------------------------------------------------------------------------------------------------------------------+----------------------+----------------------+--------------+------+-----+----+------------------------------------------------------------------------------------------------------------------------------------------------------------------------------------------------------------------------------------------------------------------------------------------------------------------------------------------------------------------------------------------------------------------------------------------------------------------------------------------------------------------------------------------------------------------------------------------------------------------------------------------------------------------------------------------------------------------------------------------------------------------------------------------------------------------------------------------------------------------------------------------------------------------------------------------------------------------------------------------------------------------------------------------------------------------------------------------------------------------------------------------------------------------------------------------------------------------------------------+-------------------+-----------------+-------------+\n",
            "|business_id           |name                               |address                |state_|postal_code|latitude     |longitude     |stars|review_count|is_open|categories                                                                                                          |hours                                                                                                                                                             |review_id             |user_id               |customer_stars|useful|funny|cool|text_                                                                                                                                                                                                                                                                                                                                                                                                                                                                                                                                                                                                                                                                                                                                                                                                                                                                                                                                                                                                                                                                                                                                                                                                                               |date_              |city_standardized|period_Monday|\n",
            "+----------------------+-----------------------------------+-----------------------+------+-----------+-------------+--------------+-----+------------+-------+--------------------------------------------------------------------------------------------------------------------+------------------------------------------------------------------------------------------------------------------------------------------------------------------+----------------------+----------------------+--------------+------+-----+----+------------------------------------------------------------------------------------------------------------------------------------------------------------------------------------------------------------------------------------------------------------------------------------------------------------------------------------------------------------------------------------------------------------------------------------------------------------------------------------------------------------------------------------------------------------------------------------------------------------------------------------------------------------------------------------------------------------------------------------------------------------------------------------------------------------------------------------------------------------------------------------------------------------------------------------------------------------------------------------------------------------------------------------------------------------------------------------------------------------------------------------------------------------------------------------------------------------------------------------+-------------------+-----------------+-------------+\n",
            "|OvfeSj9IPZPsyub5uTNe1w|Jose's Torta Mexicana              |793 Massachusetts Ave  |MA    |02476      |42.416656    |-71.1584753   |3.5  |35          |1      |Mexican, Restaurants, Tex-Mex, Latin American                                                                       |{Monday -> 11:0-22:0, Tuesday -> 11:0-22:0, Wednesday -> 11:0-22:0, Thursday -> 11:0-22:0, Friday -> 11:0-22:0, Saturday -> 11:0-22:0, Sunday -> 11:0-20:0}       |H42Nf5V7Hb3cF1fGzEJS4Q|-6Tvk3cgt4ioSsmmByfxrw|5             |0     |0    |0   |Ordered from here tonight to celebrate Cinco de Mayo and it did not disappoint. I had the steak fajitas with a side of rice and a churro. Everything arrived quickly and was still warm. Would definitely order from again!                                                                                                                                                                                                                                                                                                                                                                                                                                                                                                                                                                                                                                                                                                                                                                                                                                                                                                                                                                                                         |2020-05-06 03:35:33|Arlington        |Unknown      |\n",
            "|qKcWprJbhkoEaOiDt490sw|Woori                              |9 Medford St           |MA    |02474      |42.4149401   |-71.1506764   |4.0  |148         |1      |Restaurants, Korean                                                                                                 |{Monday -> 17:0-22:0, Tuesday -> 17:0-22:0, Wednesday -> 17:0-22:0, Thursday -> 17:0-22:0, Friday -> 17:0-22:0, Saturday -> 11:0-22:0, Sunday -> 16:30-22:0}      |O4nXRgEjmEm6hT7h8j8mhQ|-Zbn9m7YXkAPmOnUUJWvmA|5             |0     |0    |0   |We love their bibimbap and SSF chicken dumplings (spicy). They are quick and efficient for pickup and operate with good Covid precautions (e.g., pickup is at their door rather than inside)                                                                                                                                                                                                                                                                                                                                                                                                                                                                                                                                                                                                                                                                                                                                                                                                                                                                                                                                                                                                                                        |2021-01-27 22:56:25|Arlington        |Evening      |\n",
            "|SyxZX4Dj7nJeyzuIexYXXg|Rangla Punjab                      |444 Massachusetts Ave  |MA    |02474      |42.4144093   |-71.1513732   |4.5  |38          |1      |Buffets, Halal, Restaurants, Indian                                                                                 |{Monday -> 15:30-22:0, Tuesday -> 11:30-22:0, Wednesday -> 11:30-22:0, Thursday -> 11:30-22:0, Friday -> 11:30-22:0, Saturday -> 11:30-22:0, Sunday -> 11:30-22:0}|i931In60RSPp4fEp1WMPsQ|-lz-rIn7y6upmDrhE9YIvQ|5             |1     |0    |0   |I've been here many times and have been delighted with the food each. I think I have actually only gotten takeout, so I can't speak to the service inside but the people I have talked to in the restaurant have all been wonderfully kind. \\n\\nThe quality of each dish is amazing, especially the paneer dishes (my favorite is paneer kadai). I also looooove their naan and would recommend everyone try the aloo naan (think the inside of a samosa sandwiched between 2 layers of naan). \\n\\nOverall this place is a great, reliable restaurant with some of the best Indian food I've ever had. \\n\\n*note: I am whiter than a snowman so I can't speak to the authenticity of the dishes, but from what I can tell, they offer many dishes common to traditional Indian cuisine with the addition of some Indo-Chinese options.                                                                                                                                                                                                                                                                                                                                                                                              |2020-06-18 20:22:52|Arlington        |Unknown      |\n",
            "|DlsflAqTQfcSDW_J2BNexg|Twyrl Pasta Bistro                 |315 Broadway           |MA    |02474      |42.4146251   |-71.1504828   |4.5  |157         |1      |Sandwiches, Restaurants, Italian, Gluten-Free                                                                       |{Monday -> 0:0-0:0, Tuesday -> 11:30-20:0, Wednesday -> 11:30-20:0, Thursday -> 11:30-20:0, Friday -> 11:30-20:0, Saturday -> 11:30-20:0}                         |qEruFXqcOxRQsknkAB0UQg|-0xATXtF57NZd8NY6jEnVw|5             |0     |0    |0   |Twryl has become my go-to Pasta spot when I don't feel like cooking. I've been many times now with my girlfriend, both for outdoor dining (felt very safe!) and take-out. I am never disappointed. My go-to order is the chicken broccoli alfredo, which is fantastic. My friend also suggested I try the unique buffalo chicken pasta they offer so i did-- delicious! The spinach artichoke dip appetizer is incredible. I always enjoy a draft IPA whenever we dine outdoors here as well. Service is always friendly and attentive. Last Friday they only had one table left (meant for four people) but they still accommodated our party of 2 anyway. Twryl has a local, small business feel. Highly recommend this establishment!!                                                                                                                                                                                                                                                                                                                                                                                                                                                                                           |2020-09-15 19:29:53|Arlington        |Late Night   |\n",
            "|2U_sNLFyXYr9iCob0FH_6w|Andrina's Pizzeria                 |1060 Massachusetts Ave |MA    |02476      |42.4205550382|-71.1706120604|4.0  |140         |1      |Pizza, Food, Restaurants                                                                                            |{Monday -> 16:0-22:0, Tuesday -> 16:0-22:0, Wednesday -> 16:0-22:0, Thursday -> 11:0-22:0, Friday -> 11:0-23:0, Saturday -> 11:0-23:0, Sunday -> 12:0-21:0}       |akl-prvrDBsuVy6T7Xm4hA|--86Lm2dNJbz3i4V_B1pMw|5             |0     |0    |0   |I love their pizza!  One of my household members is medically-gluten free.  Their GF pizza is really terrific.  The staff is always courteous and pleasant to work with.  I definitely recommend trying this place.                                                                                                                                                                                                                                                                                                                                                                                                                                                                                                                                                                                                                                                                                                                                                                                                                                                                                                                                                                                                                 |2020-05-21 20:48:36|Arlington        |Unknown      |\n",
            "|EuiU19EjhybpGLXqBzntgw|Fresh Pond Seafood Market & Takeout|75 Summer St           |MA    |02474      |42.4192655   |-71.1564327   |4.0  |96          |1      |Seafood, Restaurants, Food                                                                                          |{Monday -> 9:0-20:0, Tuesday -> 9:0-20:0, Wednesday -> 9:0-20:0, Thursday -> 9:0-20:0, Friday -> 9:0-20:0, Saturday -> 9:0-20:0, Sunday -> 10:0-19:0}             |cUdy8X87FdM0gEVUnsKhuA|-iJ793yuSJrQ5SlEUOumUA|5             |0     |0    |0   |No frills no thrills place! You just get good tasty food here, better than the North Shore, Maine, RI and even Cape Cod, yeah I said it. \\nWe have for the last 10 years passed by the place so many times and had never bothered to even check it out, our loss. \\nThe food comes out quick, hot and tasty. the pot belly clams are the best  I have eaten till date.                                                                                                                                                                                                                                                                                                                                                                                                                                                                                                                                                                                                                                                                                                                                                                                                                                                              |2020-09-07 14:20:52|Arlington        |Unknown      |\n",
            "|jHZNMd08jtN_aS-yQer66g|Thai E-Sarn Cuisine                |1377 Massachusetts Ave |MA    |02476      |42.4246254   |-71.1843155   |3.5  |108         |1      |Thai, Restaurants                                                                                                   |{Monday -> 16:0-21:30, Tuesday -> 11:0-21:30, Wednesday -> 11:0-21:30, Thursday -> 11:0-21:30, Friday -> 11:0-22:0, Saturday -> 11:0-22:0, Sunday -> 12:0-21:30}  |CpWjLMnde6kkwgN5VcODfg|--86Lm2dNJbz3i4V_B1pMw|5             |0     |0    |0   |I love this restaurant!  My family have been coming here for years.  It is definitely our go to restaurant for Thai food.  The staff are so friendly and always greet us warmly.                                                                                                                                                                                                                                                                                                                                                                                                                                                                                                                                                                                                                                                                                                                                                                                                                                                                                                                                                                                                                                                    |2020-05-21 20:27:20|Arlington        |Unknown      |\n",
            "|rKXFbtS2EY7fyMT0uv0IEA|Home Taste                         |1312 Massachusetts Ave |MA    |02476      |42.4241118783|-71.1824017391|4.0  |64          |1      |Restaurants, Chinese                                                                                                |{Monday -> 11:30-21:0, Wednesday -> 11:30-21:0, Thursday -> 11:30-21:0, Friday -> 11:30-21:0, Saturday -> 11:30-21:0, Sunday -> 11:30-21:0}                       |FBirRF_qNqkGl6bCwPa3Ug|-3t-oXTddntKfe-ykdgzqw|5             |0     |0    |0   |The spicy, hand-pulled noodles with red chili and bok choy are always excellent -- I've had them at least a dozen times. They take about 10-15 minutes. It's cash only if you're ordering just one.                                                                                                                                                                                                                                                                                                                                                                                                                                                                                                                                                                                                                                                                                                                                                                                                                                                                                                                                                                                                                                 |2020-10-26 19:53:44|Arlington        |Unknown      |\n",
            "|H9Usf29dR9_ZtLm5IRe40Q|Szechuan's Dumpling                |1360 Massachusetts Ave |MA    |02476      |42.4242811803|-71.1839634288|3.5  |145         |1      |Szechuan, Restaurants, Dim Sum, Asian Fusion, Chinese, Taiwanese, Shanghainese                                      |{Monday -> 0:0-0:0, Tuesday -> 11:0-21:0, Wednesday -> 11:0-21:0, Thursday -> 11:0-21:0, Friday -> 11:0-21:30, Saturday -> 11:0-22:0, Sunday -> 11:30-21:0}       |-_N8Z9qUSyyR2yz3smx3jQ|--86Lm2dNJbz3i4V_B1pMw|5             |0     |0    |0   |I feel so fortunate to have this wonderful restaurant in my neighborhood! The dumplings are, of course, outstanding and delicious. The staff are always friendly and welcoming. Definitely worth checking out.                                                                                                                                                                                                                                                                                                                                                                                                                                                                                                                                                                                                                                                                                                                                                                                                                                                                                                                                                                                                                      |2020-05-21 21:02:07|Arlington        |Late Night   |\n",
            "|yXGwjPCV1q5f4hlDEa9RAg|Punjab Indian Restaurant           |485 Massachusetts Ave  |MA    |02474      |42.4152688   |-71.1520286   |4.0  |461         |1      |Pakistani, Caterers, Indian, Restaurants, Event Planning & Services                                                 |{Monday -> 12:0-22:0, Tuesday -> 12:0-22:0, Wednesday -> 12:0-22:0, Thursday -> 13:0-21:0, Friday -> 12:0-23:0, Saturday -> 12:0-23:0, Sunday -> 12:0-22:0}       |53Yem_5IzLuDXL4M9cGXKg|--86Lm2dNJbz3i4V_B1pMw|5             |1     |0    |0   |I absolutely love this restaurant!  The food is always good.  I love the large window looking into the kitchen.  I'd definitely recommend making reservations as the restaurant can be quite busy. They have a nice bar and waiting area in case you don't make a reservation in advance. Also, it can be a bit loud so perhaps try dining before it gets very busy. This place is definitely a must try when in Arlington.                                                                                                                                                                                                                                                                                                                                                                                                                                                                                                                                                                                                                                                                                                                                                                                                         |2020-05-21 23:11:34|Arlington        |Unknown      |\n",
            "|HE1l6pB4_y97Rlmf8eJeNA|26 Thai Kitchen & Bar at Midtown   |824 Juniper St NE      |GA    |30308      |33.7770303   |-84.3831371   |4.5  |153         |1      |Thai, Bars, Restaurants, Nightlife                                                                                  |{Monday -> 0:0-0:0, Tuesday -> 11:30-22:0, Wednesday -> 11:30-22:0, Thursday -> 11:30-22:0, Friday -> 16:0-23:0, Saturday -> 12:0-23:0, Sunday -> 12:0-22:0}      |OO1GDXq8Kl86hL63W-MHqw|-2_eraIVhKpCvOQA5lNsdA|4             |1     |1    |1   |Really nice lowkey Thai spot in the heart of the city! \\nThe only thing about this place is it's a little pricey for what it is, especially compared to typical Thai food pricing but it is quality food! I would suggest getting a curry like Panang (my fav) or the Thai fried rice if you wanna play it safe!                                                                                                                                                                                                                                                                                                                                                                                                                                                                                                                                                                                                                                                                                                                                                                                                                                                                                                                    |2021-01-23 01:10:52|Atlanta          |Late Night   |\n",
            "|Y2R-8nnUNulCYYWVXaEGAA|Nancy's Pizza                      |265 Ponce De Leon Ave  |GA    |30308      |33.7722004   |-84.3788054   |3.5  |635         |1      |Restaurants, Chicken Wings, Italian, Pizza, Food Delivery Services, Food                                            |{Monday -> 0:0-0:0, Tuesday -> 12:0-21:0, Wednesday -> 12:0-21:0, Thursday -> 12:0-21:0, Friday -> 12:0-23:0, Saturday -> 12:0-23:0, Sunday -> 12:0-22:0}         |5pCH9JNyYluPQtIjcCGxhQ|-CwRpc1CQU545WxRtvuuFw|2             |0     |0    |0   |I couldn't tell you how the pizza tasted because it took an hour and a half to get it! Horrible service. We walked in and no one acknowledged us and once someone came over 20 minutes later they told us they lost our order and we had to reorder. We left and came back 30 min later and they said they just put it in. Told us it was in the oven multiple times, and they haven't even started on it.                                                                                                                                                                                                                                                                                                                                                                                                                                                                                                                                                                                                                                                                                                                                                                                                                          |2020-02-22 03:59:30|Atlanta          |Late Night   |\n",
            "|xNm8xFkkm8ZhkSp4btnNvQ|The Family Dog                     |1402 N Highland Ave NE |GA    |30306      |33.7927506   |-84.3525207   |3.5  |98          |1      |American (New), Arts & Entertainment, Nightlife, Bars, Sports Bars, Music Venues, Tapas/Small Plates, Restaurants   |{Tuesday -> 12:0-20:0, Wednesday -> 12:0-20:0, Thursday -> 12:0-20:0, Friday -> 12:0-21:0, Saturday -> 12:0-21:0, Sunday -> 12:0-20:0}                            |MPHZRLFzrqBKcMSUuZRd-A|-KylEFVLIMI8SAxUAIjI3w|2             |0     |2    |0   |Great name for this place as the food, service and management are \"Ruff\"...                                                                                                                                                                                                                                                                                                                                                                                                                                                                                                                                                                                                                                                                                                                                                                                                                                                                                                                                                                                                                                                                                                                                                         |2020-01-21 18:40:46|Atlanta          |Closed       |\n",
            "|vQvQ1o1uK05TLxIRK-01qQ|Del Frisco's Grille                |3376 Peachtree Rd NE   |GA    |30326      |33.8489524   |-84.3664042   |3.5  |594         |1      |Nightlife, Wine Bars, American (New), Beer, Wine & Spirits, Restaurants, Food, Bars, Breakfast & Brunch, Steakhouses|{Monday -> 11:30-21:0, Tuesday -> 11:30-21:0, Wednesday -> 11:30-21:0, Thursday -> 11:30-21:0, Friday -> 11:30-23:0, Saturday -> 11:30-23:0, Sunday -> 11:30-21:0}|snIl7lx5GUwgruws-T2CjQ|-MLOv0KlSn9RDd3ZidytBg|2             |0     |0    |0   |We've been here  3 or 4 times over the past 6 months. The first two visits were great and the thIrd was \"ok\" and the fourth sucked. Appetizers and salads were fine, drinks were fine and server was fine but that's where it ends. Two of four main  dishes were just disgusting and when they brought out replacements one of the two was so  gross in taste that I spit it up right then  and there on the plate. We paid for what we were happy with and left. Clearly will not be returning and after we left we found  a news article that thEy failed the  health inspection WOW go  figure!                                                                                                                                                                                                                                                                                                                                                                                                                                                                                                                                                                                                                                 |2020-01-31 17:00:56|Atlanta          |Unknown      |\n",
            "|IOLwhRIF2wyhbTJl_J2khw|Breakfast at Barneys               |349 Decatur St SE      |GA    |30312      |33.749735    |-84.37899     |4.5  |296         |1      |Breakfast & Brunch, Restaurants, Food                                                                               |{Monday -> 7:0-20:0, Tuesday -> 7:0-20:0, Wednesday -> 7:0-20:0, Thursday -> 7:0-20:0, Friday -> 7:0-20:0, Saturday -> 7:0-20:0, Sunday -> 7:0-20:0}              |W-3w8CGL8z0xSs2suuzkbQ|-ZqY1Jvfq46ENE5DNXNS8Q|5             |1     |0    |1   |Liked - Liked - Liked - Liked - Liked - Liked - Liked - Liked - Liked - Liked - \\n\\nPretty Interior Design \\n\\nCOVID Cautious; staff masked, space out \\n\\nSalmon Croquette and Eggs: Pickled Onion on this dish was a really good touch. \\n\\nPancakes \\n\\nFrench Toast \\n\\nFresh Pressed Juices and Non-Alcoholic Drink Menu was tasty and cute \\n\\n\\n\\n\\n- Disliked - Disliked - Disliked - Disliked - Disliked - Disliked - Disliked - Disliked \\n\\nLamb and Eggs were very disappointing. It was like the lamb was boiled,  and the portion was very skimpy. It was not good at all. Bland, no seasoning. \\n\\nI know they are working on this but they don't have a liquor license yet, (I don't think), so I assume that's why there are no alcoholic beverages yet. But it was still a great brunch.                                                                                                                                                                                                                                                                                                                                                                                                                          |2020-12-02 18:43:37|Atlanta          |Unknown      |\n",
            "|8PcTmvfMShQkdS4qDbyzog|Sweet Auburn BBQ                   |656 N Highland Ave NE  |GA    |30306      |33.772481    |-84.352746    |4.0  |648         |1      |Cocktail Bars, Nightlife, Restaurants, Barbeque, Asian Fusion, Bars, Sandwiches                                     |{Monday -> 0:0-0:0, Tuesday -> 12:0-21:0, Wednesday -> 12:0-21:0, Thursday -> 12:0-21:0, Friday -> 12:0-21:0, Saturday -> 12:0-21:0, Sunday -> 12:0-21:0}         |sl-dS6dGw6YUL1OgwXBv2w|-8kTpuulwQD-IUCiXOUROw|4             |0     |0    |0   |A delicious and flavorful spot with unique and tasty twists on classic BBQ food. I especially loved their smoked wings. Nice atmosphere. The only negative is this place is fairly pricey for a below average amount of food, but if you're OK paying extra for some good food, then check this place out (quality over quantity is the language here).                                                                                                                                                                                                                                                                                                                                                                                                                                                                                                                                                                                                                                                                                                                                                                                                                                                                             |2020-09-08 19:21:04|Atlanta          |Late Night   |\n",
            "|zI6_0TWC6pT51mNprnwl1w|Blaze Pizza                        |540 17th St NW, Ste 410|GA    |30318      |33.7910780872|-84.406868003 |3.5  |110         |1      |Pizza, Restaurants, Salad, Fast Food                                                                                |{Monday -> 11:0-23:0, Tuesday -> 11:0-23:0, Wednesday -> 11:0-23:0, Thursday -> 11:0-23:0, Friday -> 11:0-0:0, Saturday -> 11:0-0:0, Sunday -> 11:0-23:0}         |E3wSamO-W_DSB1SznI6vrQ|-C2SnzY81QteXgHvdShyTQ|5             |1     |1    |1   |TL;DR It's my go-to alternative when I don't want Chipotle but I want my own stuff in large(r) quantities. Until 11pm this is my place for late(r) night bites. Past 11? Try Cookout or WaHo. \\n\\nI was first introduced to this style of pizza 5 years ago at a place called Pieology in LA. The memory of that pizza is what I compare all future pizza places that don't fall under the giant chains (e.g. domino's). At the first bite, all those wonderful flavors transported me back in time.\\n\\nBuild-your-own pizza places are such a godsend. No more pineapple on pizza debates. No more trying to figure out which pairings the group wants that still fit that \"two-topping\" deal. Plus I'm the type of guy to get almost every free add on I can  ... Hey, it's economical! You know what else is economical? The size of that Your Pie which borders chipotle levels of filling. The drinks are also unique and high quality. Although a little pricey, the unlimited refills of the Blood Orange Lemonade ... errrr the pear one ya that one... means I'm up there 3+ times when I eat in. \\n\\nAt under 10$, as yelp would say: \"it's as good as it gets\". Fits my college motto and has Mama Zhan's value approval.|2020-02-20 01:43:36|Atlanta          |Late Night   |\n",
            "|qJl9D0f8KeWH1Kyegx6rfw|Superica                           |3850 Roswell Rd NE     |GA    |30342      |33.859951015 |-84.381151    |4.0  |550         |1      |New Mexican Cuisine, Bars, Breakfast & Brunch, Restaurants, Beer Bar, Mexican, Diners, Nightlife, Tex-Mex           |{Monday -> 16:30-22:0, Tuesday -> 16:30-22:0, Wednesday -> 16:30-22:0, Thursday -> 16:30-22:0, Friday -> 11:0-23:0, Saturday -> 11:0-23:0, Sunday -> 11:0-22:0}   |Tc6eo4WC_2emQzI8lqIjmg|-Es32j-69kLjAmtbifDCbA|1             |0     |0    |0   |Superica has been my favorite Tex-Mex since you opened. As a native Texan I was happy to find your restaurant which brought back memories of my favorite cuisine. Although when I dined there yesterday with my Mom it was a disappointment. Not a fan of your new pared down menu and the quality of food has declined. But, my bigggest complaint is the $12.00 I was charged for 1 ONE scoop of guacamole! I can't believe it! Asked the server, because I thought it must be a mistake! He confirmed that the charge was correct as it's market price! You've got to be kidding me! It's not Lobster! So disappointed in my former favorite Tex-Mex :-(\\n\\nAt a local grocery store, an avocado can usually retail for $1 to $2.50 each. The price will usually depend on the time of the season and where you purchase it. Walmart, for example, sells a five pack of Del Monte Avocados for $4.                                                                                                                                                                                                                                                                                                                               |2020-02-22 18:47:36|Atlanta          |Unknown      |\n",
            "|tDv2qG4N7PsYLN0QYuuaZQ|Bulla Gastrobar                    |60 11th St NE          |GA    |30309      |33.7834104147|-84.3855779   |4.5  |526         |1      |Mediterranean, Restaurants, Tapas/Small Plates, Spanish, Gastropubs, Tapas Bars                                     |{Monday -> 11:30-16:0, Tuesday -> 11:30-22:0, Wednesday -> 11:30-22:0, Thursday -> 11:30-22:0, Friday -> 11:30-23:0, Saturday -> 11:30-23:0, Sunday -> 11:0-22:0} |Nds7062B3OVI7L7POBEBUA|-_X7G3EgdNj2TFm5tcwNYg|5             |0     |0    |0   |One of my favorite places to eat! Food and drinks are fantastic and the service is always great. Highly recommend and they do a great job following COVID guidelines.                                                                                                                                                                                                                                                                                                                                                                                                                                                                                                                                                                                                                                                                                                                                                                                                                                                                                                                                                                                                                                                               |2020-06-07 03:51:24|Atlanta          |Unknown      |\n",
            "|u-4wti774tFcYRLuQrnHEg|Fox Bros. Bar-B-Q                  |1238 Dekalb Ave NE     |GA    |30307      |33.7610514725|-84.3475019932|4.5  |3825        |1      |Southern, Restaurants, Barbeque, American (Traditional)                                                             |{Monday -> 11:0-21:0, Tuesday -> 11:0-21:0, Wednesday -> 11:0-21:0, Thursday -> 11:0-21:0, Friday -> 11:0-22:0, Saturday -> 11:0-22:0, Sunday -> 11:0-21:0}       |Aq82pGnB81EhTDdg3qx4SA|-in2P5QZ4ioVh5kzt9PONg|4             |1     |0    |1   |Being a Southern girl, I do love barbecue. I wish I had a metabolism of a teenage boy so I could go hog wild and try everything on their menu but I'm a middle aged woman...and here we are. We had gone on a little road trip and found ourselves near Fox Bros. Every time I have wanted to try this place it had been so crowded we couldn't get in. My fiancé had been to eat there before for lunch and he really enjoyed it. \\n\\nThe parking lot was packed, it's tight. There were people double parked. There were tents set up for takeout. It was brisk. There was as much takeout as there were people eating. I guess Fourth of July weekend is super busy for them! \\n\\nI ordered the barbecue salad. He ordered the pulled pork plate and frito pie. \\n\\nI ordered my salad with the smoked chicken and barbecue vinaigrette. The salad was so fresh and the chicken was amazing! I have never had barbecue vinaigrette before it was so tasty! Definitely will get this again!                                                                                                                                                                                                                                       |2020-07-06 17:41:03|Atlanta          |Unknown      |\n",
            "+----------------------+-----------------------------------+-----------------------+------+-----------+-------------+--------------+-----+------------+-------+--------------------------------------------------------------------------------------------------------------------+------------------------------------------------------------------------------------------------------------------------------------------------------------------+----------------------+----------------------+--------------+------+-----+----+------------------------------------------------------------------------------------------------------------------------------------------------------------------------------------------------------------------------------------------------------------------------------------------------------------------------------------------------------------------------------------------------------------------------------------------------------------------------------------------------------------------------------------------------------------------------------------------------------------------------------------------------------------------------------------------------------------------------------------------------------------------------------------------------------------------------------------------------------------------------------------------------------------------------------------------------------------------------------------------------------------------------------------------------------------------------------------------------------------------------------------------------------------------------------------------------------------------------------------+-------------------+-----------------+-------------+\n",
            "only showing top 20 rows\n",
            "\n"
          ]
        }
      ],
      "source": [
        "from pyspark.sql.functions import col, udf\n",
        "from pyspark.sql.types import StringType\n",
        "import datetime\n",
        "\n",
        "# Define a UDF to categorize the period based on opening and closing times\n",
        "def categorize_period(opening_closing_str):\n",
        "    try:\n",
        "        opening, closing = opening_closing_str.split('-')\n",
        "        opening_hour, opening_minute = map(int, opening.split(':'))\n",
        "        closing_hour, closing_minute = map(int, closing.split(':'))\n",
        "\n",
        "        # Combine the time into a datetime object for comparison\n",
        "        opening_time = datetime.time(opening_hour, opening_minute)\n",
        "        closing_time = datetime.time(closing_hour, closing_minute)\n",
        "\n",
        "        # Define time ranges (assuming the times are in the format \"HH:MM\")\n",
        "        if opening_time >= datetime.time(6, 0) and closing_time <= datetime.time(12, 0):\n",
        "            return 'Morning'\n",
        "        elif opening_time >= datetime.time(12, 0) and closing_time <= datetime.time(17, 0):\n",
        "            return 'Afternoon'\n",
        "        elif opening_time >= datetime.time(17, 0) and closing_time <= datetime.time(23, 0):\n",
        "            return 'Evening'\n",
        "        elif closing_time >= datetime.time(23, 0) or opening_time <= datetime.time(6, 0):\n",
        "            return 'Late Night'\n",
        "        else:\n",
        "            return 'Unknown'\n",
        "    except Exception as e:\n",
        "        return 'Closed'\n",
        "\n",
        "# Register UDF with Spark\n",
        "categorize_period_udf = udf(categorize_period, StringType())\n",
        "\n",
        "# Add new column 'period' by applying the UDF on each day in the 'hours' map\n",
        "df_with_period = post_df.withColumn(\n",
        "    'period_Monday',\n",
        "    categorize_period_udf(col('hours').getItem('Monday'))  # Example for Monday, repeat for other days if needed\n",
        ")\n",
        "\n",
        "df_with_period.show(truncate=False)"
      ]
    },
    {
      "cell_type": "code",
      "execution_count": null,
      "metadata": {
        "id": "bv_5BF-a-2yD"
      },
      "outputs": [],
      "source": [
        "df_with_period = df_with_period.withColumn(\n",
        "    'period_Tuesday',\n",
        "    categorize_period_udf(col('hours').getItem('Tuesday'))  # Example for Monday, repeat for other days if needed\n",
        ")\n",
        "df_with_period = df_with_period.withColumn(\n",
        "    'period_Wednesday',\n",
        "    categorize_period_udf(col('hours').getItem('Wednesday'))  # Example for Monday, repeat for other days if needed\n",
        ")\n",
        "df_with_period = df_with_period.withColumn(\n",
        "    'period_Thursday',\n",
        "    categorize_period_udf(col('hours').getItem('Thursday'))  # Example for Monday, repeat for other days if needed\n",
        ")\n",
        "df_with_period = df_with_period.withColumn(\n",
        "    'period_Friday',\n",
        "    categorize_period_udf(col('hours').getItem('Friday'))  # Example for Monday, repeat for other days if needed\n",
        ")\n",
        "df_with_period = df_with_period.withColumn(\n",
        "    'period_Saturday',\n",
        "    categorize_period_udf(col('hours').getItem('Saturday'))  # Example for Monday, repeat for other days if needed\n",
        ")\n",
        "df_with_period = df_with_period.withColumn(\n",
        "    'period_Sunday',\n",
        "    categorize_period_udf(col('hours').getItem('Sunday'))  # Example for Monday, repeat for other days if needed\n",
        ")"
      ]
    },
    {
      "cell_type": "code",
      "execution_count": null,
      "metadata": {
        "colab": {
          "base_uri": "https://localhost:8080/"
        },
        "id": "NXtLCSkH-5DD",
        "outputId": "0f6f5c96-982b-4464-87de-c16fd2beb097"
      },
      "outputs": [
        {
          "name": "stdout",
          "output_type": "stream",
          "text": [
            "+-------------+--------------+----------------+---------------+-------------+---------------+-------------+\n",
            "|period_Monday|period_Tuesday|period_Wednesday|period_Thursday|period_Friday|period_Saturday|period_Sunday|\n",
            "+-------------+--------------+----------------+---------------+-------------+---------------+-------------+\n",
            "|Late Night   |Closed        |Unknown         |Unknown        |Unknown      |Unknown        |Unknown      |\n",
            "|Late Night   |Morning       |Morning         |Morning        |Morning      |Morning        |Morning      |\n",
            "|Late Night   |Late Night    |Late Night      |Late Night     |Late Night   |Late Night     |Late Night   |\n",
            "|Unknown      |Unknown       |Unknown         |Morning        |Unknown      |Unknown        |Unknown      |\n",
            "|Unknown      |Unknown       |Unknown         |Unknown        |Unknown      |Unknown        |Unknown      |\n",
            "|Late Night   |Late Night    |Late Night      |Late Night     |Morning      |Morning        |Morning      |\n",
            "|Late Night   |Unknown       |Unknown         |Unknown        |Unknown      |Unknown        |Unknown      |\n",
            "|Unknown      |Unknown       |Unknown         |Unknown        |Unknown      |Unknown        |Unknown      |\n",
            "|Late Night   |Evening       |Evening         |Evening        |Evening      |Evening        |Evening      |\n",
            "|Unknown      |Unknown       |Unknown         |Unknown        |Late Night   |Late Night     |Unknown      |\n",
            "|Unknown      |Unknown       |Unknown         |Unknown        |Unknown      |Unknown        |Unknown      |\n",
            "|Unknown      |Unknown       |Unknown         |Unknown        |Unknown      |Unknown        |Unknown      |\n",
            "|Unknown      |Unknown       |Unknown         |Unknown        |Unknown      |Evening        |Closed       |\n",
            "|Unknown      |Unknown       |Unknown         |Unknown        |Unknown      |Unknown        |Unknown      |\n",
            "|Evening      |Evening       |Evening         |Unknown        |Evening      |Late Night     |Late Night   |\n",
            "|Closed       |Closed        |Closed          |Closed         |Closed       |Closed         |Closed       |\n",
            "|Late Night   |Late Night    |Late Night      |Late Night     |Late Night   |Late Night     |Late Night   |\n",
            "|Closed       |Closed        |Closed          |Closed         |Closed       |Closed         |Closed       |\n",
            "|Closed       |Closed        |Closed          |Closed         |Closed       |Closed         |Closed       |\n",
            "|Closed       |Closed        |Closed          |Unknown        |Unknown      |Unknown        |Unknown      |\n",
            "+-------------+--------------+----------------+---------------+-------------+---------------+-------------+\n",
            "only showing top 20 rows\n",
            "\n"
          ]
        }
      ],
      "source": [
        "from pyspark.sql.functions import col\n",
        "\n",
        "# Select only columns whose name contains the word 'period'\n",
        "df_with_period.select([col(column) for column in df_with_period.columns if 'period' in column.lower()]).show(truncate=False)"
      ]
    },
    {
      "cell_type": "markdown",
      "metadata": {
        "id": "SU-ZlLA510p3"
      },
      "source": [
        "# Classification Modelling on Reviews column (Approach 1) - Manually chosen features for the logistic regression\n",
        "\n",
        "\n"
      ]
    },
    {
      "cell_type": "markdown",
      "metadata": {
        "id": "5jCDGuvf1-2o"
      },
      "source": [
        "We are going to perform sentiment analysis, through Logistic Regression, in order to predict the category at which each review of each customer falls.\n",
        "1. We will first create a new columns that will be our label. This column will be called \"customer_stars_category\" and will be generated by the \"customer_stars\" as follows:\n",
        "- if \"customer_star\" == 4 OR 5 => \"customer_stars_category\" == \"Positive\"\n",
        "- if \"customer_star\" == 3 => \"customer_stars_category\" == \"Neutral\"\n",
        "- if \"customer_star\" == 1 OR 2 => \"customer_stars_category\" == \"Negative\"\n",
        "\n",
        "2. Then, we will filter out all the reviews that are not in English language.\n",
        "\n",
        "3. The next step will be a preprocessing step of the \"Reviews\" column. We will do TF-IDF in order to measure the importance of each word in the reviews collection. We will start by tokenizing the text and removing stopwords. After we will create a CountVectorizer, fit & transform. This will allows us to convert text data into a numerical format snce it will generate a matrix of term frequency counts for each review. Finally, we will use IDF to weight the word frequencies.\n",
        "\n",
        "4. Afterwards, we will continue with more pre-processing steps in other columns:\n",
        "  - Changing to the correct province (Vancouver is in BC not ABE).\n",
        "  - One-hot-encoding at the states column.\n",
        "\n",
        "5. Then, we split the dataset in train(80%) and test(20%) datasets.\n",
        "\n",
        "6. Then, we create the VectorAssembler that includes all the features that we will use to train the Logistic Regression model and label encode the label, \"customer_stars_category\" on train data.\n",
        "\n",
        "7. Train and fit Logistic Regression on train data.\n",
        "\n",
        "8. Create VectorAssembler for test data and label encode the label, \"customer_stars_category\" on test data.\n",
        "\n",
        "9. Make predictions\n",
        "\n",
        "10. Calculate metrics\n",
        "\n",
        "\n",
        "*Note: The above process will be performed at a random sample of 10% of the pre-covid dataset*"
      ]
    },
    {
      "cell_type": "code",
      "execution_count": null,
      "metadata": {
        "id": "WB0ZJhHIyo7u"
      },
      "outputs": [],
      "source": [
        "pre_df.sample(fraction=0.1, seed=42).write.mode('overwrite').parquet(\"sample_data\")"
      ]
    },
    {
      "cell_type": "code",
      "execution_count": null,
      "metadata": {
        "id": "8ski8EVi14l9"
      },
      "outputs": [],
      "source": [
        "\"\"\"\n",
        "First we start by taking a proportion of our dataset - we take the 10%\n",
        "\"\"\"\n",
        "\n",
        "# sampled_pre_df3 = pre_df.sample(fraction=0.1, seed=42)\n",
        "sampled_pre_df3 = spark.read.parquet(\"sample_data\")\n",
        "# sampled_pre_df3.count()"
      ]
    },
    {
      "cell_type": "code",
      "execution_count": null,
      "metadata": {
        "id": "JOCEhCTZyo7u"
      },
      "outputs": [],
      "source": [
        "sampled_pre_df3 = sampled_pre_df3.sample(fraction=0.5, seed=42)"
      ]
    },
    {
      "cell_type": "code",
      "execution_count": null,
      "metadata": {
        "id": "yplGuMahyo7u",
        "outputId": "87905d82-ed33-40a2-c1c7-a052d6a18e76"
      },
      "outputs": [
        {
          "data": {
            "text/plain": [
              "259586"
            ]
          },
          "execution_count": 101,
          "metadata": {},
          "output_type": "execute_result"
        }
      ],
      "source": [
        "sampled_pre_df3.count()"
      ]
    },
    {
      "cell_type": "code",
      "execution_count": null,
      "metadata": {
        "id": "ZGGY70cayo7v"
      },
      "outputs": [],
      "source": [
        "sampled_pre_df3 = sampled_pre_df3.cache()"
      ]
    },
    {
      "cell_type": "code",
      "execution_count": null,
      "metadata": {
        "id": "1Cso9T3Xyo7v",
        "outputId": "1a1d5696-2589-45d7-f24b-51ceff4b5c21"
      },
      "outputs": [
        {
          "data": {
            "text/plain": [
              "259123"
            ]
          },
          "execution_count": 120,
          "metadata": {},
          "output_type": "execute_result"
        }
      ],
      "source": [
        "sampled_pre_df3.count()"
      ]
    },
    {
      "cell_type": "code",
      "execution_count": null,
      "metadata": {
        "id": "by17HrGS2hTQ",
        "outputId": "be9de277-109e-4f24-b3ea-b3bd879503a8"
      },
      "outputs": [
        {
          "name": "stdout",
          "output_type": "stream",
          "text": [
            "root\n",
            " |-- business_id: string (nullable = true)\n",
            " |-- name: string (nullable = true)\n",
            " |-- address: string (nullable = true)\n",
            " |-- state_: string (nullable = true)\n",
            " |-- postal_code: string (nullable = true)\n",
            " |-- latitude: double (nullable = true)\n",
            " |-- longitude: double (nullable = true)\n",
            " |-- stars: double (nullable = true)\n",
            " |-- review_count: integer (nullable = true)\n",
            " |-- is_open: integer (nullable = true)\n",
            " |-- categories: string (nullable = true)\n",
            " |-- hours: string (nullable = true)\n",
            " |-- review_id: string (nullable = true)\n",
            " |-- user_id: string (nullable = true)\n",
            " |-- customer_stars: integer (nullable = true)\n",
            " |-- useful: integer (nullable = true)\n",
            " |-- funny: integer (nullable = true)\n",
            " |-- cool: integer (nullable = true)\n",
            " |-- text_: string (nullable = true)\n",
            " |-- date_: timestamp (nullable = true)\n",
            " |-- city_standardized: string (nullable = true)\n",
            "\n"
          ]
        }
      ],
      "source": [
        "\"\"\"\n",
        "Printing schema of my sampled_pre_df dataset and shoe the first 5 cols\n",
        "\"\"\"\n",
        "sampled_pre_df3.printSchema()\n",
        "#sampled_pre_df3.show(5)"
      ]
    },
    {
      "cell_type": "code",
      "execution_count": null,
      "metadata": {
        "id": "8UdWAYgY2kXE",
        "outputId": "05711060-67fa-43a7-9ad1-bb0c5dfa13e3"
      },
      "outputs": [
        {
          "name": "stdout",
          "output_type": "stream",
          "text": [
            "+----------------------+----------------------------------+-----------------------+------+-----------+------------------+------------------+-----+------------+-------+--------------------------------------------------------------------------------------------+--------------------------------------------------------------------------------------------------------------------------------------------------------------------------------------+----------------------+----------------------+--------------+------+-----+----+----------------------------------------------------------------------------------------------------------------------------------------------------------------------------------------------------------------------------------------------------------------------------------------------------------------------------------------------------------------------------------------------------------------------------------------------------------------------------------------------------------------------------------------------------------------------------------------------------------------------------------------------------------------------------------------------------------------------------------------------------------------------------------------------------------------------------------------------------------------------------------------------------------------------------------------------------------------------------------------------------------------------------------------------------------------------------------------------------------------------------------------------------------------------------------------------------------------------------------------------------------------------------------------------------------------------------------------------------------------------------------------------------------------------------------------------------------------------------------------------------------------------------------------------------------------------------------------------------------------------------------------------------------------------------------------------------------------------------------------------------------------------------------------------------------------------------------------------------------------------------------------------------------------------------------------------------------------------------------------------------------------------------------------------------------------------------------------------------------------------------------------------------------------------------------------------------------------------------------------------------------------------------------------------+-------------------+-----------------+-----------------------+\n",
            "|business_id           |name                              |address                |state_|postal_code|latitude          |longitude         |stars|review_count|is_open|categories                                                                                  |hours                                                                                                                                                                                 |review_id             |user_id               |customer_stars|useful|funny|cool|text_                                                                                                                                                                                                                                                                                                                                                                                                                                                                                                                                                                                                                                                                                                                                                                                                                                                                                                                                                                                                                                                                                                                                                                                                                                                                                                                                                                                                                                                                                                                                                                                                                                                                                                                                                                                                                                                                                                                                                                                                                                                                                                                                                                                                                                                                                         |date_              |city_standardized|customer_stars_category|\n",
            "+----------------------+----------------------------------+-----------------------+------+-----------+------------------+------------------+-----+------------+-------+--------------------------------------------------------------------------------------------+--------------------------------------------------------------------------------------------------------------------------------------------------------------------------------------+----------------------+----------------------+--------------+------+-----+----+----------------------------------------------------------------------------------------------------------------------------------------------------------------------------------------------------------------------------------------------------------------------------------------------------------------------------------------------------------------------------------------------------------------------------------------------------------------------------------------------------------------------------------------------------------------------------------------------------------------------------------------------------------------------------------------------------------------------------------------------------------------------------------------------------------------------------------------------------------------------------------------------------------------------------------------------------------------------------------------------------------------------------------------------------------------------------------------------------------------------------------------------------------------------------------------------------------------------------------------------------------------------------------------------------------------------------------------------------------------------------------------------------------------------------------------------------------------------------------------------------------------------------------------------------------------------------------------------------------------------------------------------------------------------------------------------------------------------------------------------------------------------------------------------------------------------------------------------------------------------------------------------------------------------------------------------------------------------------------------------------------------------------------------------------------------------------------------------------------------------------------------------------------------------------------------------------------------------------------------------------------------------------------------------+-------------------+-----------------+-----------------------+\n",
            "|jfgO-kZE1eBhQxD-VQYamw|The Aztec Restaurant              |2 Waverly St           |MA    |01702      |42.280219         |-71.399759        |3.5  |123         |1      |Restaurants, Desserts, Seafood, Mexican, Food                                               |{'Monday': '0:0-0:0', 'Tuesday': '11:0-21:0', 'Wednesday': '11:0-21:0', 'Thursday': '11:0-21:0', 'Friday': '11:0-22:0', 'Saturday': '11:0-22:0', 'Sunday': '11:0-20:0'}               |oC1Kx5rpno4vRW6MdroczQ|GwlrUwkULm4ZLN-Kum5nag|3             |2     |0    |2   |This place is a favorite lunch spot with my former team leaders. As you enter the restaurant, it has that cozy kitchen dining atmosphere (you seat yourself) and there is a TV on with Mexican programming. There are usually a few lunch specials on the board as well as an everyday lunch menu with good prices. I like the complementary chips and salsa here. The homemade fried chips are very large and crispy and the salsa is good too. I've ordered the Tacos, Burritos, Pupusas, and Chimichangas, which are served with Mexican rice and refried beans. In general, the Mexican fare here is just average.                                                                                                                                                                                                                                                                                                                                                                                                                                                                                                                                                                                                                                                                                                                                                                                                                                                                                                                                                                                                                                                                                                                                                                                                                                                                                                                                                                                                                                                                                                                                                                                                                                                                        |2007-03-01 00:36:06|Framingham       |neutral                |\n",
            "|eS23Opvv1b6JCU_dN8_o5g|Ken's Steak House                 |95 Worcester Rd        |MA    |01701      |42.29913270000001 |-71.3982858       |3.0  |299         |1      |American (New), Restaurants, Bars, Steakhouses, Nightlife, Cocktail Bars                    |{'Monday': '11:30-21:0', 'Tuesday': '11:30-21:0', 'Wednesday': '11:30-21:0', 'Thursday': '11:30-22:0', 'Friday': '11:30-23:0', 'Saturday': '11:30-23:0', 'Sunday': '12:0-21:0'}       |yBcW-teWtgSTHAoZjgmitQ|H1t9_KmUFY3XZn4gZenpJw|1             |1     |0    |1   |Eating here was awful. The service in the bar area was beyond terrible. They really needed another 2 waitresses. We sat down Saturday at 8p and we waited 30 minutes before we even received a menu. Another 20 min before we ordered a drink. When the drinks came we immediately ordered dinner because we knew if we didn't we would be there a very long time. After receiving dinner, I could not believe a hamburger at a steak restaurant could be so well-done. I asked for another hamburger cooked medium rare as I ordered, but after waiting 10 minutes, we just decided to get the check for our drinks and leave. Wouldn't you know like 2-3 waiters came over immediately and removed the salad and french fries as they wanted to make sure we didn't eat. Definitely a disaster and will never return.  \\n\\nBtw, this is my second yelp review.                                                                                                                                                                                                                                                                                                                                                                                                                                                                                                                                                                                                                                                                                                                                                                                                                                                                                                                                                                                                                                                                                                                                                                                                                                                                                                                                                                                                                              |2019-11-24 05:26:05|Framingham       |negative               |\n",
            "|SVNkzkyiEnozlhyEvehLdg|J & M Diner                       |50 Worcester Rd, Ste 9e|MA    |01702      |42.298187899999995|-71.395108        |4.5  |931         |1      |Food, Diners, American (Traditional), Active Life, Donuts, Breakfast & Brunch, Restaurants  |{'Monday': '7:0-14:0', 'Tuesday': '7:0-13:0', 'Wednesday': '7:0-13:0', 'Thursday': '7:0-13:0', 'Friday': '7:0-13:0', 'Saturday': '7:0-14:0', 'Sunday': '7:0-14:0'}                    |-SPfxPYoWfsIQMMcl_11cw|bL6riS68ThXn-1jJkCuXyQ|2             |2     |1    |1   |J&M Diner seems to be the only breakfast place that gets decent review in the Metro West area! We went for breakfast and had the eggs benedict with canadian bacon and the corned beef hash. The holandaise sauce was unfortunately way (way!) too lemony and the canadian bacon too thick/dry. The corned beef hash was great - with the exception of the corned beef (sausage, bacon, eggs, potatoes were great), which looked and tasted no different from canned one. Coffee was average. I would stick with the standards - service is friendly.                                                                                                                                                                                                                                                                                                                                                                                                                                                                                                                                                                                                                                                                                                                                                                                                                                                                                                                                                                                                                                                                                                                                                                                                                                                                                                                                                                                                                                                                                                                                                                                                                                                                                                                                         |2013-10-07 22:04:19|Framingham       |negative               |\n",
            "|SVNkzkyiEnozlhyEvehLdg|J & M Diner                       |50 Worcester Rd, Ste 9e|MA    |01702      |42.298187899999995|-71.395108        |4.5  |931         |1      |Food, Diners, American (Traditional), Active Life, Donuts, Breakfast & Brunch, Restaurants  |{'Monday': '7:0-14:0', 'Tuesday': '7:0-13:0', 'Wednesday': '7:0-13:0', 'Thursday': '7:0-13:0', 'Friday': '7:0-13:0', 'Saturday': '7:0-14:0', 'Sunday': '7:0-14:0'}                    |BpoONW-L8eGhDu1_JDt9nQ|TDS0Xyytjyv-rANb8UFFBQ|5             |0     |0    |0   |J & M is an outstanding family owned diner. Food quality is very high with care taken to provide grass fed beef in many dishes. Portions are big but not so much as to be wasteful. My favorite dish is the sweet potato hash with bacon, grass-fed beef, and cranberries. That's a staple item that we always get for the table to share. The other dish I go for often is the pancakes. The things are the size of dinner plates, thick and fluffy. \\nService is usually great with a dedicated staff, most of whom are in pictures on the wall as children- legitimately a family run place. \\nExpect a solid wait on the weekend and to leave happy and full. \\n\\nBest diner in the area easily. \\n\\nCash only, ATM on site.                                                                                                                                                                                                                                                                                                                                                                                                                                                                                                                                                                                                                                                                                                                                                                                                                                                                                                                                                                                                                                                                                                                                                                                                                                                                                                                                                                                                                                                                                                                                                              |2016-05-05 15:16:33|Framingham       |positive               |\n",
            "|Wi66Fw1fdr4W71J55PIoow|Chick-fil-A                       |359 Cochituate Rd      |MA    |01701      |42.3034956        |-71.398905        |3.5  |136         |1      |Fast Food, Food, Caterers, Event Planning & Services, Food Delivery Services, Restaurants   |{'Monday': '0:0-0:0', 'Tuesday': '6:30-22:0', 'Wednesday': '6:30-22:0', 'Thursday': '6:30-22:0', 'Friday': '6:30-20:0', 'Saturday': '10:30-20:0'}                                     |ZugCpcSSRzejpdKRFj-6jQ|ehj-BOtYkh6IbQRuRhhozQ|5             |0     |0    |0   |Every week I come in here to indulge in some awesome chicken on my lunch break. Every time I come in here there's this one man who is working harder than everyone else and is the kindest being I've ever met. His names Paul and he is the sweetest man at this establishment! I get excited every week now because I get to see Paul! This is hands down your best employee!                                                                                                                                                                                                                                                                                                                                                                                                                                                                                                                                                                                                                                                                                                                                                                                                                                                                                                                                                                                                                                                                                                                                                                                                                                                                                                                                                                                                                                                                                                                                                                                                                                                                                                                                                                                                                                                                                                               |2019-07-25 17:54:41|Framingham       |positive               |\n",
            "|lNF47qQFkXigPTYUZa6oFw|Bollywood Grill                   |50 Worcester Rd        |MA    |01702      |42.298195         |-71.39498499999999|3.5  |59          |0      |Restaurants, Indian                                                                         |{'Monday': '16:0-22:30', 'Tuesday': '16:0-22:30', 'Wednesday': '16:0-22:30', 'Thursday': '16:0-22:30', 'Friday': '16:0-22:30', 'Saturday': '16:0-22:30', 'Sunday': '16:0-22:30'}      |36bXBtjKALfscMcnT1tNsw|cR_si7hchpAStj2km5DLqg|3             |0     |0    |0   |good buffet.  Has not been consistent for the past 5 times I've been there. \\nI'll keep going back for now.                                                                                                                                                                                                                                                                                                                                                                                                                                                                                                                                                                                                                                                                                                                                                                                                                                                                                                                                                                                                                                                                                                                                                                                                                                                                                                                                                                                                                                                                                                                                                                                                                                                                                                                                                                                                                                                                                                                                                                                                                                                                                                                                                                                   |2012-03-27 19:41:18|Framingham       |neutral                |\n",
            "|Wi66Fw1fdr4W71J55PIoow|Chick-fil-A                       |359 Cochituate Rd      |MA    |01701      |42.3034956        |-71.398905        |3.5  |136         |1      |Fast Food, Food, Caterers, Event Planning & Services, Food Delivery Services, Restaurants   |{'Monday': '0:0-0:0', 'Tuesday': '6:30-22:0', 'Wednesday': '6:30-22:0', 'Thursday': '6:30-22:0', 'Friday': '6:30-20:0', 'Saturday': '10:30-20:0'}                                     |ZSneTbNBCCHLsqK2bwbo-A|d6n5t48ktcrtQK_vtJzeuw|2             |0     |0    |0   |This drive thru guy needs to go back to Chick-fil-A school I think.. and no gravy biscuits at this one                                                                                                                                                                                                                                                                                                                                                                                                                                                                                                                                                                                                                                                                                                                                                                                                                                                                                                                                                                                                                                                                                                                                                                                                                                                                                                                                                                                                                                                                                                                                                                                                                                                                                                                                                                                                                                                                                                                                                                                                                                                                                                                                                                                        |2017-12-28 15:03:37|Framingham       |negative               |\n",
            "|iJuKurmGcMzvDknKn9ik5g|British Beer Company              |120 Worcester Rd       |MA    |01701      |42.2982437        |-71.3990127       |3.0  |325         |0      |Pizza, Irish, American (Traditional), Restaurants, Pubs, Nightlife, British, Bars           |{'Monday': '11:0-23:30', 'Tuesday': '11:0-0:30', 'Wednesday': '11:0-23:30', 'Thursday': '11:0-0:30', 'Friday': '11:0-1:0', 'Saturday': '11:0-1:0', 'Sunday': '11:0-23:30'}            |afkbepy-0FS6RjXhkRFWEg|v1JFuHxPS6tN-4GrYeT0nQ|2             |0     |1    |0   |Mediocre beer selection, food was ok, service was friendly but hard to get her attention. Trivia was fun and always a clear view of the television                                                                                                                                                                                                                                                                                                                                                                                                                                                                                                                                                                                                                                                                                                                                                                                                                                                                                                                                                                                                                                                                                                                                                                                                                                                                                                                                                                                                                                                                                                                                                                                                                                                                                                                                                                                                                                                                                                                                                                                                                                                                                                                                            |2014-06-17 00:12:25|Framingham       |negative               |\n",
            "|JFJX1Ll0OuaztTZd0ITHYQ|Big Fresh                         |50 Worcester Rd        |MA    |01702      |42.298195         |-71.39498499999999|4.0  |59          |0      |Restaurants, Vegetarian, Asian Fusion, Food, Organic Stores, Mediterranean                  |{'Monday': '11:0-21:0', 'Tuesday': '11:0-21:0', 'Wednesday': '11:0-21:0', 'Thursday': '11:0-21:0', 'Friday': '11:0-21:0', 'Saturday': '11:0-21:0', 'Sunday': '11:0-21:0'}             |TWTdyiUCA00tUpE6bUmAfQ|vwISC_XUJoTcf63KefZ9Og|5             |1     |0    |0   |This is our third time here, and I thought it about time to leave a review.\\n\\nFood is very good --today's falafel wrap might be my favorite so far -- and the salads are fresh and crisp (not just dumped out of a bag) -- but beyond that this place just sparkles.  \\n\\nFrom the to windows to the glassware, I get the sense these guys REALLY care.\\n\\nOn the chance anyone working at Big Fresh on the front lines reads this-- please know your work is appreciated!                                                                                                                                                                                                                                                                                                                                                                                                                                                                                                                                                                                                                                                                                                                                                                                                                                                                                                                                                                                                                                                                                                                                                                                                                                                                                                                                                                                                                                                                                                                                                                                                                                                                                                                                                                                                                   |2017-03-05 17:46:55|Framingham       |positive               |\n",
            "|GSf8e_Jc4nNMkUSEtdlcFQ|The Melting Pot                   |92 Worcester Rd        |MA    |01702      |42.2969109325     |-71.3974250886    |3.5  |380         |0      |Bars, Real Estate, Real Estate Services, Restaurants, Nightlife, Home Services, Fondue      |{'Monday': '0:0-0:0', 'Tuesday': '17:0-22:0', 'Wednesday': '17:0-22:0', 'Thursday': '17:0-22:0', 'Friday': '17:0-23:0', 'Saturday': '12:0-23:0', 'Sunday': '12:0-22:0'}               |kXV7E-lFLAhXEs_8M3WOHw|WdF2RGd-Mbq-V0X0C3ER6w|4             |1     |0    |0   |Those who go here for the first time must have hard experience.  You have to pick menu, the way of cooking, and when you get foods, you have to pay attention them to cook.  But it is amazingly fun.\\n\\nIf you pick course, you will get Cheese fondue, salad, Entree, and Chocolate fondue.\\n\\nWe did course, but I think I didn't need some of them.  Next time, I am not going to order salad.  However, Chocolate fondue is must order item.  So I want to start with either entree or cheese fondue.  Then finish with chocolate foundue.\\n\\nCourse makes us sooo full.  I made a lot of leftover and these are hardest things to bring back.\\n\\nEntree is actually almost same as Asian countries' hot pot.                                                                                                                                                                                                                                                                                                                                                                                                                                                                                                                                                                                                                                                                                                                                                                                                                                                                                                                                                                                                                                                                                                                                                                                                                                                                                                                                                                                                                                                                                                                                                                            |2007-06-12 03:30:06|Framingham       |positive               |\n",
            "|o56tgSF7UwGE_OzdlknGxA|John Harvard's Brewery & Ale House|1 Worcester Rd         |MA    |01701      |42.304195         |-71.396231        |3.5  |375         |0      |Bars, Pubs, Nightlife, Brewpubs, Breweries, American (Traditional), Restaurants, Food       |{'Monday': '11:30-22:30', 'Tuesday': '11:30-22:30', 'Wednesday': '11:30-22:30', 'Thursday': '11:30-22:30', 'Friday': '11:30-23:30', 'Saturday': '11:30-23:30', 'Sunday': '11:30-22:0'}|oWsSv1xYTyYVivoAV4OV-w|ogXqKT_Fp1EofJueOJZl4Q|2             |2     |0    |0   |If you're craving mediocre service and below average pub food - well you've found your spot.\\nThe three of us went for dinner the other night at John Harvard's and I wouldn't go again.\\nOne of my friends pasta with chicken.  Not GOOD basic pasta with chicken, unfortunately.\\nOne of my friends had an that could be described as \"OK\".\\nThe appetizers - nachos, were also fairly basic and the large portion wasn't very large.\\nThe tables and chairs were sticky.  The silverware wasn't quite clean.  The waitstaff brought most of the food, but needed to be asked 3 times for the other items we requested.  Until it was time for the check, no one came to ask if we needed anything else.  \\nOn the positive side?  The beer was pretty good.                                                                                                                                                                                                                                                                                                                                                                                                                                                                                                                                                                                                                                                                                                                                                                                                                                                                                                                                                                                                                                                                                                                                                                                                                                                                                                                                                                                                                                                                                                                                |2019-02-20 15:27:01|Framingham       |negative               |\n",
            "|44aayUeim_2FlnmEMwy7zg|Joe's American Bar & Grill        |1 Worcester Rd         |MA    |01702      |42.300745         |-71.39625         |3.0  |145         |0      |American (Traditional), American (New), Restaurants, Burgers, Nightlife, Cocktail Bars, Bars|{'Monday': '11:0-22:0', 'Tuesday': '11:0-22:0', 'Wednesday': '11:0-22:0', 'Thursday': '11:0-22:0', 'Friday': '11:0-23:0', 'Saturday': '11:0-23:0', 'Sunday': '11:0-22:0'}             |187FwoaGN1KXBiI3jB1pdQ|3LoYuCtgY5zmVd9n0HnMUg|2             |0     |0    |0   |Not bad but not my favorite place. The service was slow. There were only a few full tables in the whole restaurant and it took about 5 mins to get our drinks. I ordered the sour blueberry cooler soda which was delicious. The only issue was it was $4.50 for this tiny glass which was filled 3/4 of the way with ice. For an appetizer I got to try the hoison pork belly. I liked it but I feel like the sauce didn't go with it that well. I'm happy they had it though because I can never find pork belly anywhere. I ended up getting the tuna tartare and a fish taco. The tuna wasn't bad but the sesame chips that came with it were way too salty. I love salty foods but these chips were like licking table salt. Last and most certainly least is the fish taco. It's only $4 per taco but you end up seeing why. When you look inside it you can see a burnt tortilla with a mound of below average slaw. On top of the slaw holds a bite sized piece of delicious fried fish. It also had a little bit of spicy sauce which was actually too spicy ( I like spicy foods too). If the slaw to fish ratio was switched I would have probably ordered another taco. I would not come here again for the food but I would definitely be back for the sour blueberry cooler soda, it was unbelievable.                                                                                                                                                                                                                                                                                                                                                                                                                                                                                                                                                                                                                                                                                                                                                                                                                                                                                                                                                                          |2017-01-13 00:03:08|Framingham       |negative               |\n",
            "|iJuKurmGcMzvDknKn9ik5g|British Beer Company              |120 Worcester Rd       |MA    |01701      |42.2982437        |-71.3990127       |3.0  |325         |0      |Pizza, Irish, American (Traditional), Restaurants, Pubs, Nightlife, British, Bars           |{'Monday': '11:0-23:30', 'Tuesday': '11:0-0:30', 'Wednesday': '11:0-23:30', 'Thursday': '11:0-0:30', 'Friday': '11:0-1:0', 'Saturday': '11:0-1:0', 'Sunday': '11:0-23:30'}            |8mMVz5fko3-71hMacJgsYg|Xi_nxf_3Givn_pB8cuaq5A|2             |0     |0    |0   |Ehhhh... \\n\\nSo, not my first choice to come here but I was going along with friends.\\n\\nI'm not a beer fanatic but I'm sure their selection is good; I had a cocktail with dinner, which was great. If this review was for the drinks, I'd say they were fine.\\n\\nDinner however was a little weird. My friend ordered salmon on her salad that as she got to the middle was just about RAW. I had a salad that tasted like the salad wasn't very fresh. It took forever to hound a server down re: my friend's fish, and he took it back to the kitchen. Almost 30 min later they bring a new fish, but no salad.. just a small plate with nothing but the salmon. By this point we asked for it to go and the staff just looked depressed.\\n\\nDefinitely not my fiRst choice for a restaurant:                                                                                                                                                                                                                                                                                                                                                                                                                                                                                                                                                                                                                                                                                                                                                                                                                                                                                                                                                                                                                                                                                                                                                                                                                                                                                                                                                                                                                                                                                             |2017-01-08 22:03:16|Framingham       |negative               |\n",
            "|WF2L2lz8w85uQJZxCwNfXQ|Olive Garden Italian Restaurant   |1 Worcester Rd         |MA    |01701      |42.299325         |-71.394553        |2.5  |183         |1      |Restaurants, Salad, Nightlife, Wine Bars, Soup, Bars, Italian                               |{'Monday': '0:0-0:0', 'Tuesday': '11:0-22:0', 'Wednesday': '11:0-22:0', 'Thursday': '11:0-20:0', 'Friday': '11:0-23:0', 'Saturday': '11:0-23:0', 'Sunday': '11:0-22:0'}               |AecAS4oa-XVh5WsqwrxVLg|qK1obcGEg1v349rhBXUsXw|5             |0     |0    |0   |We had an absolutely incredible meal at Olive Garden.  We called ahead and got seated right away.  Our Sever was awesome.  She was very attentive and made a few really go suggestions.  The deserts were incredible as well.                                                                                                                                                                                                                                                                                                                                                                                                                                                                                                                                                                                                                                                                                                                                                                                                                                                                                                                                                                                                                                                                                                                                                                                                                                                                                                                                                                                                                                                                                                                                                                                                                                                                                                                                                                                                                                                                                                                                                                                                                                                                 |2017-02-24 23:01:04|Framingham       |positive               |\n",
            "|SVNkzkyiEnozlhyEvehLdg|J & M Diner                       |50 Worcester Rd, Ste 9e|MA    |01702      |42.298187899999995|-71.395108        |4.5  |931         |1      |Food, Diners, American (Traditional), Active Life, Donuts, Breakfast & Brunch, Restaurants  |{'Monday': '7:0-14:0', 'Tuesday': '7:0-13:0', 'Wednesday': '7:0-13:0', 'Thursday': '7:0-13:0', 'Friday': '7:0-13:0', 'Saturday': '7:0-14:0', 'Sunday': '7:0-14:0'}                    |MiWos2DBPz1WVUY7Tn247Q|doGj3_A7WcVmuur6_Dd8Jg|4             |0     |0    |0   |Lived by here for five years never went in. Looks are deceiving it is in a strip mall and does not stand out. Little wait not bad though. The food was excellent though. Our omelets were big and tasty and service was quick and very friendly. Great value for your money. I will be back.                                                                                                                                                                                                                                                                                                                                                                                                                                                                                                                                                                                                                                                                                                                                                                                                                                                                                                                                                                                                                                                                                                                                                                                                                                                                                                                                                                                                                                                                                                                                                                                                                                                                                                                                                                                                                                                                                                                                                                                                  |2009-07-24 17:27:32|Framingham       |positive               |\n",
            "|CZXrdxJsQtrSS41A7IVDWQ|Chinese Mirch                     |140 Worcester Rd       |MA    |01702      |42.298532         |-71.399635        |3.0  |259         |0      |Asian Fusion, Noodles, Chinese, Restaurants, Indian                                         |{'Monday': '11:30-22:0', 'Tuesday': '11:30-22:0', 'Wednesday': '11:30-22:0', 'Thursday': '11:30-22:0', 'Friday': '11:30-22:30', 'Saturday': '11:30-22:30', 'Sunday': '11:30-22:0'}    |IrckPfVhS_yNdw42FifMbw|gEM08Os1cj14etfEyDt8Qg|4             |2     |0    |1   |As many fellow Indians will agree, indian chinese food is an exciting fusion cuisine much relished. I've tasted some phenomenal IndoChinese food in South India, New York and New Jersey.  I'm always ready to try a new venue so when my family & friends decided to try Chinese Mirch I was excited to see what these mixed reviews were all about. \\nLet me say that I think the food is pretty good and creative. \\nI like that the dishes weren't bland food soaked in a myriad of sauces to disguise the flavor deficit. I would have ordered spicier dishes but I kept it conservative given everyone had different levels of tolerance.  \\nWe tried the Gobi Lollipops, the szchuan fried rice, eggplant paneer, chilli paneer and hot and sour soup. Again, I think the flavor was good and paneer of good quality but I would have preferred a spicier dish for my Indian palate. \\nI was intrigued by the Chaat Gaali cart and would have loved to try some of their creative options but alas it is not available on the weekends as the chef is off.  \\nAmbience/Service: Parking was limited in the front but there's a sign indicating rear parking is also available. Well designed and pleasant interior decor. Seating wasn't cramped and our group of 8 was quite comfortable. We came in at 12:30 on a Sat and were seated immediately. There were several other families there. Our waiter approached us for an order at a reasonable time and the food was brought out at a decent time interval (not too soon and not too long).  Food was warmer than warm but not piping hot. For dessert we shared the wonton mithai, gulab jamun, assorted mochi, and rasamali.  Nothing was extraordinary but most was the jamun and rasamali were decent enough if you're craving some sweet. \\nI was, however, disappointed with the indian chai. Several Indian restaurants are putting chai on  their menus but upon further inquiry I've been told that it's nothing more than a regular teabag. If you're expecting real Indian Chai make sure you ask!\\nThis isn't as good as some of the other places I've been to but I certainly didn't think it's as bad as some of the other reviews seemed to indicate. \\nOverall, I'd definitely recommend and try this place again.|2014-07-06 16:05:00|Framingham       |positive               |\n",
            "|SVNkzkyiEnozlhyEvehLdg|J & M Diner                       |50 Worcester Rd, Ste 9e|MA    |01702      |42.298187899999995|-71.395108        |4.5  |931         |1      |Food, Diners, American (Traditional), Active Life, Donuts, Breakfast & Brunch, Restaurants  |{'Monday': '7:0-14:0', 'Tuesday': '7:0-13:0', 'Wednesday': '7:0-13:0', 'Thursday': '7:0-13:0', 'Friday': '7:0-13:0', 'Saturday': '7:0-14:0', 'Sunday': '7:0-14:0'}                    |oxB3QBXntt0qQTe8IO82Tw|17S6d950OtCYS5y9nWZiJg|5             |0     |0    |0   |Great Diner and fun vibe! Corned beef hash was crispy and flavorful. Poached eggs nicely cooked! Look forward to trying other offerings in the future!                                                                                                                                                                                                                                                                                                                                                                                                                                                                                                                                                                                                                                                                                                                                                                                                                                                                                                                                                                                                                                                                                                                                                                                                                                                                                                                                                                                                                                                                                                                                                                                                                                                                                                                                                                                                                                                                                                                                                                                                                                                                                                                                        |2019-08-09 13:46:57|Framingham       |positive               |\n",
            "|VTsggSvO_mcVlPuJvOGpPQ|Margaritas Mexican Restaurant     |725 Cochituate Rd      |MA    |01710      |42.308288         |-71.38296600000001|3.0  |287         |1      |Mexican, Restaurants, Nightlife, Bars                                                       |{'Monday': '0:0-0:0', 'Tuesday': '15:0-1:0', 'Wednesday': '15:0-1:0', 'Thursday': '15:0-21:0', 'Friday': '15:0-1:0', 'Saturday': '12:0-1:0', 'Sunday': '12:0-1:0'}                    |oyfVU-wFqDv2zTKPY8j1TQ|SczcR9uGW6MEFl2n6L7vvA|2             |0     |2    |0   |We really wanted to give this restaurant a chance, for the reputation was \"good\" at best! The few dedicated employees are SO out weighted by those who are clueless and who really do not care about trying at all but getting an undeserved tip. The barmaid was at the mercy of a waiter to deliver our salsa and chips, 10 minutes passed by. I felt so badly for her, for she tried so hard but could not leave her station. I went out side for some air, and the hostess came out and asked me if I saw \"anyone who looked like they were waiting for take-out!\" OMG I am thinking, they actually have advertised \"curb-side-take-out!\" I then identified the car, and she was so happy I did her a favor. When she walked back up, she said, \"I have to tell MY MANAGER about this service!!!!!!!!\" AGAIN......OMG!!!!!!!!!!!!!!! Then our so-called waiter, \"Justin\" put the frosting on the Mexican cake! I had ordered a glass of wine and a glass of water, kind of easy, right? 20 Minutes go by and then I finally saw our waiter, Justin, I asked him what was going on; he was very quick to say that  the bar was understaffed and he would go back and check. If that was truly the case, why did I still not have my water?, does that come from the bar too?  OWN IT JUSTIN! Then, I was asked to score our experience and food, I was glad to do, and actually saw the hostess throw it out in the trash. WILL NEVER GO THER AGAIN OR EVER RECOMMEND. They obviously do not know what is important in the current day of customer satisfaction, when we are all trying to attract forever clients. Best of luck!                                                                                                                                                                                                                                                                                                                                                                                                                                                                                                                                                                                                                                                          |2011-05-31 11:18:56|Framingham       |negative               |\n",
            "|SVNkzkyiEnozlhyEvehLdg|J & M Diner                       |50 Worcester Rd, Ste 9e|MA    |01702      |42.298187899999995|-71.395108        |4.5  |931         |1      |Food, Diners, American (Traditional), Active Life, Donuts, Breakfast & Brunch, Restaurants  |{'Monday': '7:0-14:0', 'Tuesday': '7:0-13:0', 'Wednesday': '7:0-13:0', 'Thursday': '7:0-13:0', 'Friday': '7:0-13:0', 'Saturday': '7:0-14:0', 'Sunday': '7:0-14:0'}                    |9yKDfLLZlDkdi5kGjuv6kQ|eIIxEI839bNdo_UHa4UEPQ|5             |1     |0    |0   |First I would like to say the staff was great when we entered we were seated and treated as if we were right at home!\\n                                                         Now the good part the food delicious in all aspects better then expected the place is a hidden gem, this  is by far the best breakfast diner in Massachusetts I would even go as far as saying it's the best in New England!!\\n                                                          The service was perfect better then I could imagine! The food was to good to be true yes I said that I appreciate the hospitality and all the above, if anyone is traveling early morning and looking to be full and happy this would be the place to go take my word for it you won't be disappointed !                                                                                                                                                                                                                                                                                                                                                                                                                                                                                                                                                                                                                                                                                                                                                                                                                                                                                                                                                                                                                                                                                                                                                                                                                                                                                                                                                                                                                                                                                                             |2016-04-16 11:02:28|Framingham       |positive               |\n",
            "|Wi66Fw1fdr4W71J55PIoow|Chick-fil-A                       |359 Cochituate Rd      |MA    |01701      |42.3034956        |-71.398905        |3.5  |136         |1      |Fast Food, Food, Caterers, Event Planning & Services, Food Delivery Services, Restaurants   |{'Monday': '0:0-0:0', 'Tuesday': '6:30-22:0', 'Wednesday': '6:30-22:0', 'Thursday': '6:30-22:0', 'Friday': '6:30-20:0', 'Saturday': '10:30-20:0'}                                     |HtNjqzZUp7DGC0hmIeoY7Q|pLA_QsWp6Gc5mkM1zqh0Gw|2             |0     |0    |0   |I love me some Chik-fil-A, but this location leaves much to be desired. The customer service isn't great (which is honestly what Chik-fi-A is known for, outside of its amazing chicken). The real reason behind the 2-star rating is because I've been trying to get a hold of someone about hosting a birthday party there for close to a week and absolutely no one will get back to me. I've called, emailed, FB messaged and even stopped by the location and I can't get anyone to give me any answers. Guess we won't be celebrating there.                                                                                                                                                                                                                                                                                                                                                                                                                                                                                                                                                                                                                                                                                                                                                                                                                                                                                                                                                                                                                                                                                                                                                                                                                                                                                                                                                                                                                                                                                                                                                                                                                                                                                                                                            |2017-10-23 18:28:23|Framingham       |negative               |\n",
            "+----------------------+----------------------------------+-----------------------+------+-----------+------------------+------------------+-----+------------+-------+--------------------------------------------------------------------------------------------+--------------------------------------------------------------------------------------------------------------------------------------------------------------------------------------+----------------------+----------------------+--------------+------+-----+----+----------------------------------------------------------------------------------------------------------------------------------------------------------------------------------------------------------------------------------------------------------------------------------------------------------------------------------------------------------------------------------------------------------------------------------------------------------------------------------------------------------------------------------------------------------------------------------------------------------------------------------------------------------------------------------------------------------------------------------------------------------------------------------------------------------------------------------------------------------------------------------------------------------------------------------------------------------------------------------------------------------------------------------------------------------------------------------------------------------------------------------------------------------------------------------------------------------------------------------------------------------------------------------------------------------------------------------------------------------------------------------------------------------------------------------------------------------------------------------------------------------------------------------------------------------------------------------------------------------------------------------------------------------------------------------------------------------------------------------------------------------------------------------------------------------------------------------------------------------------------------------------------------------------------------------------------------------------------------------------------------------------------------------------------------------------------------------------------------------------------------------------------------------------------------------------------------------------------------------------------------------------------------------------------+-------------------+-----------------+-----------------------+\n",
            "only showing top 20 rows\n",
            "\n"
          ]
        }
      ],
      "source": [
        "\"\"\"\n",
        "1)\n",
        "\"\"\"\n",
        "\"\"\"\n",
        "Creating a new column named \"customer_stars_category\" and categorizing customer_stars column as it follows: 1,2 => negative, 3 => neutral, 4,5 => positive\n",
        "Then, cout how much i have from each category.\n",
        "\"\"\"\n",
        "\n",
        "sampled_pre_df3 = sampled_pre_df3.withColumn(\n",
        "    \"customer_stars_category\",\n",
        "    when(col(\"customer_stars\").isin([4, 5]), \"positive\")\n",
        "    .when(col(\"customer_stars\").isin([1, 2]), \"negative\")\n",
        "    .otherwise(\"neutral\")\n",
        ")\n",
        "\n",
        "sampled_pre_df3.show(20, truncate=False)\n",
        "# sampled_pre_df3.groupBy(\"customer_stars_category\").count().show()"
      ]
    },
    {
      "cell_type": "code",
      "execution_count": null,
      "metadata": {
        "id": "rzxp4-fo2mnb"
      },
      "outputs": [],
      "source": [
        "\"\"\"\n",
        "2)\n",
        "\"\"\"\n",
        "\"\"\"\n",
        "Filter out all non-Enlgish reviews from the \"text_\" columns\n",
        "\"\"\"\n",
        "from pyspark.sql.functions import udf\n",
        "from pyspark.sql.types import StringType\n",
        "from langdetect import detect, DetectorFactory\n",
        "import langdetect\n",
        "\n",
        "# Set seed for consistent results\n",
        "DetectorFactory.seed = 42\n",
        "\n",
        "# Define UDF to detect language\n",
        "def detect_language(text):\n",
        "    try:\n",
        "        return detect(text)\n",
        "    except:\n",
        "        return \"unknown\"\n",
        "\n",
        "detect_language_udf = udf(detect_language, StringType())\n",
        "\n",
        "# Apply UDF to create a new column for language\n",
        "sampled_pre_df3 = sampled_pre_df3.withColumn(\"language\", detect_language_udf(sampled_pre_df3[\"text_\"]))\n",
        "\n",
        "# Filter the DataFrame to only include English-language reviews\n",
        "sampled_pre_df3 = sampled_pre_df3.filter(sampled_pre_df3[\"language\"] == \"en\")\n",
        "\n",
        "\n",
        "# Show rows where the text is not English\n",
        "#sampled_pre_df_with_sentiment.filter(sampled_pre_df_with_sentiment[\"language\"] != \"en\").select(\"text_\", \"language\").show()"
      ]
    },
    {
      "cell_type": "code",
      "execution_count": null,
      "metadata": {
        "id": "B_-Maai_2mjE"
      },
      "outputs": [],
      "source": [
        "#sampled_pre_df3.show(10)"
      ]
    },
    {
      "cell_type": "code",
      "execution_count": null,
      "metadata": {
        "id": "0ljDdxGd2meE",
        "outputId": "8a9ebd69-8c9c-440e-ae65-887f48443162"
      },
      "outputs": [
        {
          "name": "stdout",
          "output_type": "stream",
          "text": [
            "--- tokenized reviews ---\n",
            "--- remove stop words from reviews ---\n"
          ]
        }
      ],
      "source": [
        "\"\"\"\n",
        "3) A)\n",
        "\"\"\"\n",
        "\"\"\"\n",
        "We preprocess the review column (\"text_\") (1)\n",
        "\"\"\"\n",
        "\"\"\"\n",
        "starting by tokenize and remove stop words from the reviews column\n",
        "\"\"\"\n",
        "sampled_pre_df_dataset_filtered3 = sampled_pre_df3.dropna() #filtering out NAs\n",
        "tokenizer2 = RegexTokenizer(inputCol=\"text_\", outputCol=\"words\", pattern=\"\\\\W\")\n",
        "\n",
        "tokenized_raw3 = tokenizer2.transform(sampled_pre_df_dataset_filtered3)\n",
        "print(\"--- tokenized reviews ---\")\n",
        "# tokenized_raw3.select(\"words\").show(5)\n",
        "\n",
        "remover3 = StopWordsRemover(inputCol=\"words\", outputCol=\"filtered\")\n",
        "df_cleaned3 = remover3.transform(tokenized_raw3)\n",
        "print(\"--- remove stop words from reviews ---\")\n",
        "# df_cleaned3.select(\"filtered\").show(5)"
      ]
    },
    {
      "cell_type": "code",
      "execution_count": null,
      "metadata": {
        "id": "OnqxJgzz2mWo"
      },
      "outputs": [],
      "source": [
        "\"\"\"\n",
        "3) B)\n",
        "\"\"\"\n",
        "\"\"\"\n",
        "Now, we create a CountVectorizer, fit & transform\n",
        "This will allows us to convert text data into a numerical format.\n",
        "It will generate a matrix of term frequency counts for each review\n",
        "\"\"\"\n",
        "\"\"\"\n",
        "For CountVectorizer we use as input the column that was the output from the StopWordsRemover. In addition, set vocabSize=5000, minDF=10.0\n",
        "\"\"\"\n",
        "\n",
        "hashingTF = HashingTF(inputCol=\"filtered\", outputCol=\"raw_features\", numFeatures=1000)\n",
        "result_cv3 = hashingTF.transform(df_cleaned3)\n",
        "#result_cv3.show(5)"
      ]
    },
    {
      "cell_type": "code",
      "execution_count": null,
      "metadata": {
        "id": "DTSawxkP29yf"
      },
      "outputs": [],
      "source": [
        "\"\"\"\n",
        "3) C)\n",
        "\"\"\"\n",
        "\"\"\"\n",
        "Continue with preprocess of Reviews column (3)\n",
        "Here, we use IDF to weight the word frequencies.\n",
        "\"\"\"\n",
        "idf3 = IDF(inputCol=\"raw_features\", outputCol=\"reviews\")\n",
        "idfModel3 = idf3.fit(result_cv3)\n",
        "result_tfidf3 = idfModel3.transform(result_cv3)\n",
        "#result_tfidf3.show(5)"
      ]
    },
    {
      "cell_type": "code",
      "execution_count": null,
      "metadata": {
        "id": "HzrbKHO429wx"
      },
      "outputs": [],
      "source": [
        "# \"\"\"\n",
        "# 4) A)\n",
        "# \"\"\"\n",
        "# \"\"\"\n",
        "# Changing to the correct province\n",
        "# \"\"\"\n",
        "# result_tfidf3=result_tfidf3.withColumn(\"state_\",\n",
        "#                           when((col(\"state_\") == \"ABE\") & (col(\"city\") == \"Vancouver\"), \"BC\")\n",
        "#     .otherwise(col(\"state_\"))\n",
        "# )"
      ]
    },
    {
      "cell_type": "code",
      "execution_count": null,
      "metadata": {
        "id": "ZHbMZTqM29u9"
      },
      "outputs": [],
      "source": [
        "\"\"\"\n",
        "4) B)\n",
        "\"\"\"\n",
        "\"\"\"\n",
        "state_: Apply one-hot encoding at the \"states\" column\n",
        "\"\"\"\n",
        "from pyspark.ml.feature import OneHotEncoder\n",
        "states = [(\"MN\",), (\"OR\",), (\"KY\",), (\"BC\",), (\"NH\",), (\"WA\",), (\"OH\",), (\"TX\",),(\"GA\",), (\"MA\",), (\"KS\",), (\"FL\",), (\"CO\",)]\n",
        "states_df = spark.createDataFrame(states, [\"state_\"])\n",
        "\n",
        "states_indexer = StringIndexer(inputCol=\"state_\", outputCol=\"state_index\")\n",
        "\n",
        "states_encoder = OneHotEncoder(inputCol=\"state_index\", outputCol=\"state_ohe\")\n",
        "\n",
        "pipeline = Pipeline(stages=[states_indexer, states_encoder])\n",
        "\n",
        "pipeline_model = pipeline.fit(states_df)\n",
        "df_encoded = pipeline_model.transform(states_df)\n",
        "result_tfidf3 = result_tfidf3.join(\n",
        "    df_encoded.select(\"state_\", \"state_index\", \"state_ohe\"),\n",
        "    on=\"state_\",\n",
        "    how=\"left\"\n",
        ")"
      ]
    },
    {
      "cell_type": "code",
      "execution_count": null,
      "metadata": {
        "id": "4yhHB1zPyo7x"
      },
      "outputs": [],
      "source": [
        "# result_tfidf3.write.mode('overwrite').parquet(\"features\")"
      ]
    },
    {
      "cell_type": "code",
      "execution_count": null,
      "metadata": {
        "id": "ihppTHYWyo7x"
      },
      "outputs": [],
      "source": [
        "# sampled_pre_df3 = spark.read.parquet(\"features\")\n",
        "# sampled_pre_df3.count()"
      ]
    },
    {
      "cell_type": "code",
      "execution_count": null,
      "metadata": {
        "id": "2f8_Vi2c29s1"
      },
      "outputs": [],
      "source": [
        "\"\"\"\n",
        "5)\n",
        "\"\"\"\n",
        "\"\"\"\n",
        "We split to train and test\n",
        "\"\"\"\n",
        "train_data, test_data = result_tfidf3.randomSplit([0.8, 0.2], seed=42)"
      ]
    },
    {
      "cell_type": "code",
      "execution_count": null,
      "metadata": {
        "id": "quH93JsX29qX"
      },
      "outputs": [],
      "source": [
        "\"\"\"\n",
        "6)\n",
        "\"\"\"\n",
        "\"\"\"\n",
        "We create the VectorAssembler that includes all the features on train data\n",
        "\"\"\"\n",
        "assembler_lr = VectorAssembler(\n",
        "    inputCols=[\"review_count\",\"stars\", \"state_ohe\", \"reviews\"],\n",
        "    outputCol=\"all_features\"\n",
        ")\n",
        "df_final_train = assembler_lr.transform(train_data)"
      ]
    },
    {
      "cell_type": "code",
      "execution_count": null,
      "metadata": {
        "id": "Mywpx58_3LoR"
      },
      "outputs": [],
      "source": [
        "#Label Encoding the \"customer_stars_category\"\n",
        "df_final_train = df_final_train.withColumn(\n",
        "    \"customer_stars_category_labeled\",when((col(\"customer_stars_category\") == \"positive\"), 0).when((col(\"customer_stars_category\") == \"neutral\"), 1).otherwise(2)\n",
        ")"
      ]
    },
    {
      "cell_type": "code",
      "execution_count": null,
      "metadata": {
        "id": "3LRM2Vnn3kHg"
      },
      "outputs": [],
      "source": [
        "\"\"\"\n",
        "7)\n",
        "\"\"\"\n",
        "\"\"\"\n",
        "Perform logistic regression\n",
        "\"\"\"\n",
        "#Train logistic regression\n",
        "from pyspark.ml.classification import LogisticRegression\n",
        "\n",
        "df_train = df_final_train.select(\"all_features\", \"customer_stars_category_labeled\")\n",
        "df_train = df_train.cache()\n",
        "\n",
        "lr = LogisticRegression(featuresCol=\"all_features\", labelCol=\"customer_stars_category_labeled\")\n",
        "lr_model = lr.fit(df_train)"
      ]
    },
    {
      "cell_type": "code",
      "execution_count": null,
      "metadata": {
        "id": "ZTmKJQrc3kCA"
      },
      "outputs": [],
      "source": [
        "\"\"\"\n",
        "8)\n",
        "\"\"\"\n",
        "\"\"\"\n",
        "We create the VectorAssembler that includes all the features on test data\n",
        "\"\"\"\n",
        "assembler_lr_test = VectorAssembler(\n",
        "    inputCols=[\"review_count\",\"stars\", \"state_ohe\", \"reviews\"],\n",
        "    outputCol=\"all_features\"\n",
        ")\n",
        "df_final_test = assembler_lr_test.transform(test_data)"
      ]
    },
    {
      "cell_type": "code",
      "execution_count": null,
      "metadata": {
        "id": "OPC-Dp_Q3j_s"
      },
      "outputs": [],
      "source": [
        "df_final_test = df_final_test.withColumn(\n",
        "    \"customer_stars_category_labeled\",when((col(\"customer_stars_category\") == \"positive\"), 0).when((col(\"customer_stars_category\") == \"neutral\"), 1).otherwise(2)\n",
        ")"
      ]
    },
    {
      "cell_type": "code",
      "execution_count": null,
      "metadata": {
        "id": "D77p5TQI3j9J"
      },
      "outputs": [],
      "source": [
        "\"\"\"\n",
        "9)\n",
        "\"\"\"\n",
        "\"\"\"\n",
        "Make predictions\n",
        "\"\"\"\n",
        "\n",
        "predictions = lr_model.transform(df_final_test)\n",
        "# predictions.select(\"customer_stars_category_labeled\", \"prediction\").show(10)"
      ]
    },
    {
      "cell_type": "code",
      "execution_count": null,
      "metadata": {
        "id": "1batpU-v3xpf",
        "outputId": "46c0b98f-0fdf-480d-8284-c0173e5463b4"
      },
      "outputs": [
        {
          "name": "stdout",
          "output_type": "stream",
          "text": [
            "Test F1-score: 0.7798786547563238\n"
          ]
        }
      ],
      "source": [
        "\"\"\"\n",
        "10)\n",
        "\"\"\"\n",
        "\"\"\"\n",
        "Calculate metrics\n",
        "\"\"\"\n",
        "from pyspark.ml.evaluation import MulticlassClassificationEvaluator\n",
        "evaluator = MulticlassClassificationEvaluator(labelCol=\"customer_stars_category_labeled\",\n",
        "                                              predictionCol=\"prediction\",\n",
        "                                              metricName=\"f1\")\n",
        "\n",
        "f1_score = evaluator.evaluate(predictions)\n",
        "\n",
        "print(f\"Test F1-score: {f1_score}\")"
      ]
    },
    {
      "cell_type": "markdown",
      "metadata": {
        "id": "nCaWbkJW9Fat"
      },
      "source": [
        "# Classification Modelling on Reviews column (Approach 2) - Used just the reviews in the model, and used hashingDF instead of count vectorizer.\n"
      ]
    },
    {
      "cell_type": "markdown",
      "metadata": {
        "id": "BpOkbIXIkyzT"
      },
      "source": [
        "We are going to perform sentiment analysis, through Logistic Regression, in order to predict the category at which each review of each customer falls. We create a pipeline for this as it follows:\n",
        "1. We will first create a new columns that will be our label. This column will be called \"customer_stars_category\" and will be generated by the \"customer_stars\" as follows:\n",
        "- if \"customer_star\" == 4 OR 5 => \"customer_stars_category\" == \"Positive\"\n",
        "- if \"customer_star\" == 3 => \"customer_stars_category\" == \"Neutral\"\n",
        "- if \"customer_star\" == 1 OR 2 => \"customer_stars_category\" == \"Negative\"\n",
        "\n",
        "2. Then, we will filter out all the reviews that are not in English language.\n",
        "\n",
        "3. The next step will be a preprocessing step of the \"Reviews\" column. We will apply TF-IDF to measure the importance of each word in the collection of reviews. First, we will tokenize the text into individual words and remove common stopwords. Then, we will use HashingTF to convert the filtered tokens into fixed-length numerical feature vectors using a hashing function. Finally, we will use IDF to weight the word frequencies.\n",
        "\n",
        "4. We encode the target label \"customer_stars_category\" into numerical values, which are required for machine learning algorithms. We assign: 0 to \"positive\", 1 to \"neutral\", and 2 to \"negative\" reviews.\n",
        "\n",
        "\n",
        "5. Define the Logistic Regression, which will predict the sentiment category based on the features extracted from the text using HashingTF and IDF.\n",
        "\n",
        "6. Build a pipeline that tokenizes the text, removes stopwords, converts the text into numerical features using HashingTF, applies IDF for weighting, and trains a Logistic Regression model to predict sentiment, as created above.\n",
        "\n",
        "7. Split the data into training (80%) and testing (20%) sets. Use the training data to train the model, and the test data to evaluate it.\n",
        "\n",
        "8. Use the trained pipeline to make predictions on the test data. The model will predict the sentiment for each review.\n",
        "\n",
        "9. Evaluate the model's performance using the F1-score, which gives a measure of how well the model balances precision and recall.\n",
        "\n",
        "\n",
        "*Note: The above process will be performed at a random sample of 1% of the pre-covid dataset*"
      ]
    },
    {
      "cell_type": "code",
      "execution_count": null,
      "metadata": {
        "id": "QJnDt7hb9E7Q",
        "outputId": "bae60156-d7cb-4c75-e715-bde7bbe3e8ab"
      },
      "outputs": [
        {
          "name": "stdout",
          "output_type": "stream",
          "text": [
            "Test F1-score: 0.7568601442610665\n"
          ]
        }
      ],
      "source": [
        "\n",
        "# Step 1: Add customer_stars_category column\n",
        "sampled_pre_df3 = sampled_pre_df3.withColumn(\n",
        "    \"customer_stars_category\",\n",
        "    when(col(\"customer_stars\").isin([4, 5]), \"positive\")\n",
        "    .when(col(\"customer_stars\").isin([1, 2]), \"negative\")\n",
        "    .otherwise(\"neutral\")\n",
        ")\n",
        "\n",
        "# Step 2: Language detection\n",
        "def detect_language(text):\n",
        "    try:\n",
        "        return detect(text)\n",
        "    except:\n",
        "        return \"unknown\"\n",
        "\n",
        "detect_language_udf = udf(detect_language, StringType())\n",
        "sampled_pre_df3 = sampled_pre_df3.withColumn(\"language\", detect_language_udf(\"text_\"))\n",
        "sampled_pre_df3 = sampled_pre_df3.filter(col(\"language\") == \"en\")\n",
        "\n",
        "sampled_pre_df3 = sampled_pre_df3.cache()\n",
        "\n",
        "# Step 3: Text preprocessing (tokenize → stopwords → hashing→ TF-IDF)\n",
        "tokenizer = RegexTokenizer(inputCol=\"text_\", outputCol=\"words\", pattern=\"\\\\W\")\n",
        "remover = StopWordsRemover(inputCol=\"words\", outputCol=\"filtered\")\n",
        "hashingTF = HashingTF(inputCol=\"filtered\", outputCol=\"raw_features\", numFeatures=1000)\n",
        "idf = IDF(inputCol=\"raw_features\", outputCol=\"reviews\")\n",
        "\n",
        "# Step 4: Encode label\n",
        "sampled_pre_df3 = sampled_pre_df3.withColumn(\n",
        "    \"customer_stars_category_labeled\",\n",
        "    when(col(\"customer_stars_category\") == \"positive\", 0)\n",
        "    .when(col(\"customer_stars_category\") == \"neutral\", 1)\n",
        "    .otherwise(2)\n",
        ")\n",
        "\n",
        "# Step 5: Define model\n",
        "lr = LogisticRegression(\n",
        "    featuresCol=\"reviews\",\n",
        "    labelCol=\"customer_stars_category_labeled\",\n",
        "    family=\"multinomial\",\n",
        "    maxIter=10,\n",
        "    regParam=0.01\n",
        ")\n",
        "\n",
        "# Step 6: Build pipeline\n",
        "pipeline = Pipeline(stages=[\n",
        "    tokenizer,\n",
        "    remover,\n",
        "    hashingTF,\n",
        "    idf,\n",
        "    lr\n",
        "])\n",
        "\n",
        "# Step 7: Split and fit\n",
        "train_data, test_data = sampled_pre_df3.randomSplit([0.8, 0.2], seed=42)\n",
        "model = pipeline.fit(train_data)\n",
        "\n",
        "# Step 8: Predict\n",
        "predictions = model.transform(test_data)\n",
        "\n",
        "# Step 9: Evaluate\n",
        "\n",
        "evaluator = MulticlassClassificationEvaluator(\n",
        "    labelCol=\"customer_stars_category_labeled\",\n",
        "    predictionCol=\"prediction\",\n",
        "    metricName=\"f1\"\n",
        ")\n",
        "f1_score = evaluator.evaluate(predictions)\n",
        "print(f\"Test F1-score: {f1_score}\")\n"
      ]
    }
  ],
  "metadata": {
    "colab": {
      "collapsed_sections": [
        "7_TncfSIghDY",
        "XI2pYbZp9w4Q"
      ],
      "provenance": [],
      "include_colab_link": true
    },
    "kernelspec": {
      "display_name": "Python 3 (ipykernel)",
      "language": "python",
      "name": "python3"
    },
    "language_info": {
      "codemirror_mode": {
        "name": "ipython",
        "version": 3
      },
      "file_extension": ".py",
      "mimetype": "text/x-python",
      "name": "python",
      "nbconvert_exporter": "python",
      "pygments_lexer": "ipython3",
      "version": "3.11.6"
    }
  },
  "nbformat": 4,
  "nbformat_minor": 0
}