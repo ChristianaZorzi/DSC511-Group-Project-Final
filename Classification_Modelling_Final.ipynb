{
  "cells": [
    {
      "cell_type": "markdown",
      "metadata": {
        "id": "view-in-github",
        "colab_type": "text"
      },
      "source": [
        "<a href=\"https://colab.research.google.com/github/ChristianaZorzi/DSC511-Group-Project-Final/blob/main/Classification_Modelling_Final.ipynb\" target=\"_parent\"><img src=\"https://colab.research.google.com/assets/colab-badge.svg\" alt=\"Open In Colab\"/></a>"
      ]
    },
    {
      "cell_type": "markdown",
      "source": [
        "# Logistic Regression Model for predicting the sentiment of the reviews"
      ],
      "metadata": {
        "id": "11wAzbfU3h8a"
      }
    },
    {
      "cell_type": "markdown",
      "source": [
        "Regarding the pre-processing needed for the Logistic regression, since we used just the pre-Covid dataset, in this file we left just the pre-processing steps of the pre-Covid dataset needed to run the logistic regression."
      ],
      "metadata": {
        "id": "APdkmkTsPntj"
      }
    },
    {
      "cell_type": "markdown",
      "metadata": {
        "id": "F-IMTVVCNwN9"
      },
      "source": [
        "## Loading libraries"
      ]
    },
    {
      "cell_type": "code",
      "execution_count": null,
      "metadata": {
        "colab": {
          "base_uri": "https://localhost:8080/"
        },
        "id": "BMswIgdMaJBx",
        "outputId": "08c16051-775d-4a9e-a268-53f68b7eef34"
      },
      "outputs": [
        {
          "name": "stdout",
          "output_type": "stream",
          "text": [
            "Requirement already satisfied: pyspark in /usr/local/lib/python3.11/dist-packages (3.5.1)\n",
            "Requirement already satisfied: py4j==0.10.9.7 in /usr/local/lib/python3.11/dist-packages (from pyspark) (0.10.9.7)\n"
          ]
        }
      ],
      "source": [
        "# Installing pyspark\n",
        "! pip3 install pyspark"
      ]
    },
    {
      "cell_type": "code",
      "execution_count": null,
      "metadata": {
        "colab": {
          "base_uri": "https://localhost:8080/"
        },
        "id": "l122K8cx2mr0",
        "outputId": "d0701de6-36d8-491e-da94-13f89624f50c"
      },
      "outputs": [
        {
          "name": "stdout",
          "output_type": "stream",
          "text": [
            "Collecting langdetect\n",
            "  Downloading langdetect-1.0.9.tar.gz (981 kB)\n",
            "\u001b[?25l     \u001b[90m━━━━━━━━━━━━━━━━━━━━━━━━━━━━━━━━━━━━━━━━\u001b[0m \u001b[32m0.0/981.5 kB\u001b[0m \u001b[31m?\u001b[0m eta \u001b[36m-:--:--\u001b[0m\r",
            "\u001b[2K     \u001b[91m━━━━\u001b[0m\u001b[91m╸\u001b[0m\u001b[90m━━━━━━━━━━━━━━━━━━━━━━━━━━━━━━━━━━\u001b[0m \u001b[32m122.9/981.5 kB\u001b[0m \u001b[31m4.5 MB/s\u001b[0m eta \u001b[36m0:00:01\u001b[0m\r",
            "\u001b[2K     \u001b[91m━━━━━━━━━━━━━━━━━━━━━━━━━━━━━━━━━━━━━\u001b[0m\u001b[91m╸\u001b[0m \u001b[32m972.8/981.5 kB\u001b[0m \u001b[31m15.1 MB/s\u001b[0m eta \u001b[36m0:00:01\u001b[0m\r",
            "\u001b[2K     \u001b[90m━━━━━━━━━━━━━━━━━━━━━━━━━━━━━━━━━━━━━━━\u001b[0m \u001b[32m981.5/981.5 kB\u001b[0m \u001b[31m9.9 MB/s\u001b[0m eta \u001b[36m0:00:00\u001b[0m\n",
            "\u001b[?25h  Preparing metadata (setup.py) ... \u001b[?25l\u001b[?25hdone\n",
            "Requirement already satisfied: six in /usr/local/lib/python3.11/dist-packages (from langdetect) (1.17.0)\n",
            "Building wheels for collected packages: langdetect\n",
            "  Building wheel for langdetect (setup.py) ... \u001b[?25l\u001b[?25hdone\n",
            "  Created wheel for langdetect: filename=langdetect-1.0.9-py3-none-any.whl size=993223 sha256=ee3500a67516e61b887c7f092aaae24416b7ced2b6ec4bd99c073eaabdf6137e\n",
            "  Stored in directory: /root/.cache/pip/wheels/0a/f2/b2/e5ca405801e05eb7c8ed5b3b4bcf1fcabcd6272c167640072e\n",
            "Successfully built langdetect\n",
            "Installing collected packages: langdetect\n",
            "Successfully installed langdetect-1.0.9\n"
          ]
        }
      ],
      "source": [
        "# Installing langdetect\n",
        "!pip install langdetect"
      ]
    },
    {
      "cell_type": "code",
      "execution_count": null,
      "metadata": {
        "id": "Hu4hr54Sy3rs"
      },
      "outputs": [],
      "source": [
        "from pyspark.sql import SparkSession\n",
        "from pyspark.sql.functions import *\n",
        "from pyspark.sql.window import Window\n",
        "from pyspark.sql.types import ArrayType, DoubleType, StringType\n",
        "from pyspark.ml import Pipeline\n",
        "from pyspark.ml.feature import CountVectorizer, OneHotEncoder\n",
        "from pyspark.ml.clustering import LDA\n",
        "from pyspark.ml.linalg import Vectors, DenseVector\n",
        "from pyspark.ml.classification import LogisticRegression\n",
        "from pyspark.ml.evaluation import MulticlassClassificationEvaluator\n",
        "from langdetect import detect, DetectorFactory\n",
        "import langdetect"
      ]
    },
    {
      "cell_type": "code",
      "execution_count": null,
      "metadata": {
        "id": "otW_HDezSamD"
      },
      "outputs": [],
      "source": [
        "spark = SparkSession.builder \\\n",
        "        .master(\"local[24]\") \\\n",
        "       .config(\"spark.driver.memory\", \"70g\") \\\n",
        "       .config(\"spark.executor.instances\", \"6\") \\\n",
        "       .config(\"spark.executor.cores\", \"7\") \\\n",
        "       .config(\"spark.executor.memory\", \"70g\") \\\n",
        "       .config(\"spark.memory.fraction\", \"0.8\") \\\n",
        "       .config(\"spark.memory.storageFraction\", \"0.2\") \\\n",
        "       .config(\"spark.default.parallelism\", \"288\") \\\n",
        "       .config(\"spark.sql.autoBroadcastJoinThreshold\", \"-1\") \\\n",
        "       .config(\"spark.kryoserializer.buffer.max\", \"128m\") \\\n",
        "       .config(\"spark.driver.extraJavaOptions\", \"-Xss1024m\") \\\n",
        "       .config(\"spark.executor.extraJavaOptions\", \"-Xss1024m\") \\\n",
        "       .appName(\"Group_Project_Reviews_Covid\") \\\n",
        "       .getOrCreate()"
      ]
    },
    {
      "cell_type": "markdown",
      "metadata": {
        "id": "b-MSc98ITBqJ"
      },
      "source": [
        "## Loading the datasets"
      ]
    },
    {
      "cell_type": "code",
      "execution_count": null,
      "metadata": {
        "id": "MQenpOIKSzaw"
      },
      "outputs": [],
      "source": [
        "parquet_path_post = \"data/parquet\"\n",
        "post_df = spark.read.parquet(parquet_path_post)"
      ]
    },
    {
      "cell_type": "code",
      "execution_count": null,
      "metadata": {
        "id": "2_ATT1SR98om"
      },
      "outputs": [],
      "source": [
        "parquet_path_pre = \"data/pre_parquet\"\n",
        "pre_df = spark.read.parquet(parquet_path_pre)"
      ]
    },
    {
      "cell_type": "markdown",
      "metadata": {
        "id": "1ZeHJYcudQjr"
      },
      "source": [
        "## Data Preprocessing"
      ]
    },
    {
      "cell_type": "markdown",
      "metadata": {
        "id": "vADMn2JpdUVm"
      },
      "source": [
        "Checking for missing values\n"
      ]
    },
    {
      "cell_type": "code",
      "execution_count": null,
      "metadata": {
        "id": "FvwduZe6dGU4"
      },
      "outputs": [],
      "source": [
        "# check for missing values\n",
        "pre_df = pre_df.replace(\"NULL\", None)\n",
        "#pre_df.select([sum(col(c).isNull().cast(\"int\")).alias(c) for c in pre_df.columns]).show()"
      ]
    },
    {
      "cell_type": "code",
      "execution_count": null,
      "metadata": {
        "id": "9P8BIwGWdf_m"
      },
      "outputs": [],
      "source": [
        "# check for missing values\n",
        "post_df = post_df.replace(\"NULL\", None)\n",
        "#post_df.select([sum(col(c).isNull().cast(\"int\")).alias(c) for c in post_df.columns]).show()"
      ]
    },
    {
      "cell_type": "markdown",
      "metadata": {
        "id": "G4vucra9fTIR"
      },
      "source": [
        "Both datasets have some missing values in address,hours and postal code columns.\n",
        "Since we will mostly focus on the reviews we decided to not drop them.\n",
        "Only the one missing review was removed."
      ]
    },
    {
      "cell_type": "code",
      "execution_count": null,
      "metadata": {
        "id": "rjiWp270fSux"
      },
      "outputs": [],
      "source": [
        "pre_df = pre_df.dropna(subset=[\"text_\"])"
      ]
    },
    {
      "cell_type": "markdown",
      "metadata": {
        "id": "ErG_LeLCfqJa"
      },
      "source": [
        "Removing duplicated reviews"
      ]
    },
    {
      "cell_type": "code",
      "execution_count": null,
      "metadata": {
        "id": "lb6tURWQs2fq"
      },
      "outputs": [],
      "source": [
        "# Checking for duplicated values\n",
        "#print(pre_df.count())\n",
        "pre_df = pre_df.dropDuplicates()\n",
        "#print(pre_df.count())\n",
        "# there are no duplicated rows"
      ]
    },
    {
      "cell_type": "code",
      "execution_count": null,
      "metadata": {
        "id": "8dhj0dNgtPFQ"
      },
      "outputs": [],
      "source": [
        "# Checking for duplicated values\n",
        "#print(post_df.count())\n",
        "post_df = post_df.dropDuplicates()\n",
        "#print(post_df.count())\n",
        "# there are no duplicated rows"
      ]
    },
    {
      "cell_type": "code",
      "execution_count": null,
      "metadata": {
        "id": "Z12pxUznz1eE"
      },
      "outputs": [],
      "source": [
        "# Drop duplicate reviews (same user, business, and text)\n",
        "post_df = post_df.dropDuplicates([\"user_id\", \"business_id\", \"text_\"])\n",
        "#post_df.count()\n",
        "# Number of rows before removing duplicated reviews: 400295"
      ]
    },
    {
      "cell_type": "code",
      "execution_count": null,
      "metadata": {
        "id": "xFB1RzzO0DBT"
      },
      "outputs": [],
      "source": [
        "# Drop duplicate reviews (same user, business, and text)\n",
        "pre_df = pre_df.dropDuplicates([\"user_id\", \"business_id\", \"text_\"])\n",
        "#pre_df.count()\n",
        "# Number of rows before removing duplicated reviews: 5172198"
      ]
    },
    {
      "cell_type": "markdown",
      "metadata": {
        "id": "T1WJrcHUCjbe"
      },
      "source": [
        "Date Range of Post and Pre Covid dataset"
      ]
    },
    {
      "cell_type": "code",
      "execution_count": null,
      "metadata": {
        "colab": {
          "base_uri": "https://localhost:8080/"
        },
        "id": "tG5ASqEoxqXM",
        "outputId": "83aa05bf-2c80-47f0-c40b-4ad02210f561"
      },
      "outputs": [
        {
          "name": "stdout",
          "output_type": "stream",
          "text": [
            "Date Range Pre-Covid: 2004-10-13 00:03:20 - 2019-12-30 23:59:16\n",
            "Date Range Post-Covid: 2020-01-01 00:00:01 - 2021-01-27 23:59:54\n"
          ]
        }
      ],
      "source": [
        "print('Date Range Pre-Covid:', pre_df.select(min('date_')).collect()[0][0], '-', pre_df.select(max('date_')).collect()[0][0])\n",
        "print('Date Range Post-Covid:', post_df.select(min('date_')).collect()[0][0], '-', post_df.select(max('date_')).collect()[0][0])"
      ]
    },
    {
      "cell_type": "markdown",
      "metadata": {
        "id": "-juEMopY6w3Z"
      },
      "source": [
        " The first American case was reported on January 20, and Health and Human Services Secretary Alex Azar declared a public health emergency on January 31.\n",
        " https://en.wikipedia.org/wiki/COVID-19_pandemic_in_the_United_States"
      ]
    },
    {
      "cell_type": "code",
      "execution_count": null,
      "metadata": {
        "id": "7ooZoDxxMrYZ"
      },
      "outputs": [],
      "source": [
        "pre_covid_reviews = post_df.filter(col(\"date_\")< to_timestamp(lit(\"2020-01-20 00:00:01\")))\n",
        "#pre_covid_reviews.count()"
      ]
    },
    {
      "cell_type": "markdown",
      "metadata": {
        "id": "vlzopfLv64qY"
      },
      "source": [
        " There are 31633 reviews that were written before 20/01,which was when the first covid case was reported in America"
      ]
    },
    {
      "cell_type": "markdown",
      "metadata": {
        "id": "XWB0IJ887347"
      },
      "source": [
        "Removing those reviews from the post covid dataset"
      ]
    },
    {
      "cell_type": "code",
      "execution_count": null,
      "metadata": {
        "colab": {
          "base_uri": "https://localhost:8080/"
        },
        "id": "q6hBeU0POjMU",
        "outputId": "7079efc8-fb29-40a7-9ca1-ab2a43b8b37c"
      },
      "outputs": [
        {
          "data": {
            "text/plain": [
              "368193"
            ]
          },
          "execution_count": 16,
          "metadata": {},
          "output_type": "execute_result"
        }
      ],
      "source": [
        "post_df =post_df.filter(col(\"date_\") >= to_timestamp(lit(\"2020-01-20 00:00:01\")))\n",
        "post_df.count()"
      ]
    },
    {
      "cell_type": "markdown",
      "metadata": {
        "id": "XwUHhV-I7HLc"
      },
      "source": [
        "Adding those reviews in the pre covid dataset"
      ]
    },
    {
      "cell_type": "code",
      "execution_count": null,
      "metadata": {
        "id": "FT_agwrtPVlM"
      },
      "outputs": [],
      "source": [
        "pre_df = pre_df.union(pre_covid_reviews)\n",
        "#pre_df.show()"
      ]
    },
    {
      "cell_type": "markdown",
      "metadata": {
        "id": "7_TncfSIghDY"
      },
      "source": [
        "#### Location"
      ]
    },
    {
      "cell_type": "markdown",
      "metadata": {
        "id": "7oLrqbl0Owj5"
      },
      "source": [
        "##### Location - Preprocessing - Pre df"
      ]
    },
    {
      "cell_type": "markdown",
      "metadata": {
        "id": "hgyJ6YKHkpCo"
      },
      "source": [
        "At a first sight in the pre covid dataset we have a total of 450 cities.\n",
        "But lets check like before."
      ]
    },
    {
      "cell_type": "markdown",
      "metadata": {
        "id": "Cg0uNGXckVWL"
      },
      "source": [
        "Same approach we used in post covid dataframe."
      ]
    },
    {
      "cell_type": "code",
      "execution_count": null,
      "metadata": {
        "id": "tP_SmIB0kPj9"
      },
      "outputs": [],
      "source": [
        "# Let's clean and normalize city column\n",
        "# Converting the first letters to capital ones and by using trim we remove\n",
        "# extra spaces\n",
        "pre_df=pre_df.withColumn(\"city\",initcap(trim(col(\"city\"))))\n",
        "#pre_df.show()"
      ]
    },
    {
      "cell_type": "code",
      "execution_count": null,
      "metadata": {
        "colab": {
          "base_uri": "https://localhost:8080/"
        },
        "id": "GyE7wk7DlYwm",
        "outputId": "7696feba-015d-4d39-b417-177ed3432360"
      },
      "outputs": [
        {
          "data": {
            "text/plain": [
              "415"
            ]
          },
          "execution_count": 28,
          "metadata": {},
          "output_type": "execute_result"
        }
      ],
      "source": [
        "# Finding the unique cities\n",
        "pre_df.select(col(\"city\")).distinct().count()"
      ]
    },
    {
      "cell_type": "markdown",
      "metadata": {
        "id": "1sjfC_Mwletb"
      },
      "source": [
        "As we expected the unique cities are reduced. Now we have a total of 415."
      ]
    },
    {
      "cell_type": "code",
      "execution_count": null,
      "metadata": {
        "id": "VxYnFYyWkPmt"
      },
      "outputs": [],
      "source": [
        "# Removing any punctuations and extra spaces for comparison\n",
        "# e.g. St.Cloud now will be stcloud or St.  Cloud and St. Cloud are treated\n",
        "# as two distincts cities\n",
        "\n",
        "pre_df = pre_df.withColumn(\"city_key\", lower(regexp_replace(col(\"city\"), r\"[^a-zA-Z0-9]\", \"\")))"
      ]
    },
    {
      "cell_type": "code",
      "execution_count": null,
      "metadata": {
        "id": "vx1vEuh8mLGW"
      },
      "outputs": [],
      "source": [
        "# Creating window to rank cities by count per city_key\n",
        "# For each group of rows with the same city_key sort them by how often they appear\n",
        "windowSpec = Window.partitionBy(\"city_key\").orderBy(col(\"count\").desc())\n",
        "\n",
        "# Counting how many times city name appears per city\n",
        "city_counts = pre_df.groupBy(\"city_key\", \"city\").count()\n",
        "\n",
        "# Picking the most common city_clean for each city_key\n",
        "standard_cities = city_counts.withColumn(\"rank\", row_number().over(windowSpec)).filter(col(\"rank\") == 1)\n",
        "\n",
        "### Now we have a standarized column, e.g. stcloud-> St. Cloud"
      ]
    },
    {
      "cell_type": "code",
      "execution_count": null,
      "metadata": {
        "id": "B8H_y8IQmLGX"
      },
      "outputs": [],
      "source": [
        "# Renaming the selected column\n",
        "standard_cities = standard_cities.withColumnRenamed(\"city\", \"city_standardized\")\n",
        "\n",
        "# Preforming join to have a final dataframe\n",
        "pre_df = pre_df.join(\n",
        "    standard_cities.select(\"city_key\", \"city_standardized\"),\n",
        "    on=\"city_key\",\n",
        "    how=\"left\"\n",
        ")\n"
      ]
    },
    {
      "cell_type": "code",
      "execution_count": null,
      "metadata": {
        "id": "2P7Hd8tkmuFg"
      },
      "outputs": [],
      "source": [
        "# Dropping city key and city columns, because they are not useful\n",
        "pre_df=pre_df.drop(\"city_key\", \"city\")"
      ]
    },
    {
      "cell_type": "code",
      "execution_count": null,
      "metadata": {
        "colab": {
          "base_uri": "https://localhost:8080/"
        },
        "id": "cpW_YfOnkPwS",
        "outputId": "3781ea62-4d30-41f6-ed73-18c895a8cab9"
      },
      "outputs": [
        {
          "data": {
            "text/plain": [
              "404"
            ]
          },
          "execution_count": 34,
          "metadata": {},
          "output_type": "execute_result"
        }
      ],
      "source": [
        "pre_df.select(\"city_standardized\").distinct().count()"
      ]
    },
    {
      "cell_type": "markdown",
      "metadata": {
        "id": "zngy49gcm-Jz"
      },
      "source": [
        "The final total number of cities in the pre covid dataframe is 351."
      ]
    },
    {
      "cell_type": "markdown",
      "metadata": {
        "id": "3J_LkWs-gFmT"
      },
      "source": [
        "#### States"
      ]
    },
    {
      "cell_type": "markdown",
      "metadata": {
        "id": "GPAVNyhHng4d"
      },
      "source": [
        "##### States - Pre Df"
      ]
    },
    {
      "cell_type": "code",
      "execution_count": null,
      "metadata": {
        "colab": {
          "base_uri": "https://localhost:8080/"
        },
        "id": "OT5QAI0MdgEG",
        "outputId": "f19463a8-aee3-4d43-80ea-a2475edb6256"
      },
      "outputs": [
        {
          "data": {
            "text/plain": [
              "16"
            ]
          },
          "execution_count": 51,
          "metadata": {},
          "output_type": "execute_result"
        }
      ],
      "source": [
        "# Finding the unique states\n",
        "pre_df.select(col(\"state_\")).distinct().count()"
      ]
    },
    {
      "cell_type": "markdown",
      "metadata": {
        "id": "FlhRaLkttGEY"
      },
      "source": [
        "The pre covid dataset contains 16 states. Two more than the post covid one.\n",
        "But let's check like before."
      ]
    },
    {
      "cell_type": "code",
      "execution_count": null,
      "metadata": {
        "colab": {
          "base_uri": "https://localhost:8080/"
        },
        "id": "rVwcxM53hsX2",
        "outputId": "6b9d9894-b8ee-419e-b0c9-46099a54306a"
      },
      "outputs": [
        {
          "name": "stdout",
          "output_type": "stream",
          "text": [
            "+------+\n",
            "|state_|\n",
            "+------+\n",
            "|    OR|\n",
            "|    WY|\n",
            "|    BC|\n",
            "|    WA|\n",
            "|    OH|\n",
            "|    TX|\n",
            "|    GA|\n",
            "|    MA|\n",
            "|    KS|\n",
            "|    FL|\n",
            "|    CO|\n",
            "|    VA|\n",
            "|    NH|\n",
            "|    MN|\n",
            "|    KY|\n",
            "|   ABE|\n",
            "+------+\n",
            "\n"
          ]
        }
      ],
      "source": [
        "# Printing Unique States\n",
        "pre_df.select(col(\"state_\")).distinct().show()"
      ]
    },
    {
      "cell_type": "markdown",
      "metadata": {
        "id": "yQwvycxeBYre"
      },
      "source": [
        "Keeping the same approach with pre covid dataset."
      ]
    },
    {
      "cell_type": "code",
      "execution_count": null,
      "metadata": {
        "colab": {
          "base_uri": "https://localhost:8080/"
        },
        "id": "lNh3jw5HBMTK",
        "outputId": "b5da1afc-cb63-4547-bf0c-9f4f36149001"
      },
      "outputs": [
        {
          "data": {
            "text/plain": [
              "11"
            ]
          },
          "execution_count": 53,
          "metadata": {},
          "output_type": "execute_result"
        }
      ],
      "source": [
        "# Finding rows with ABE state\n",
        "pre_df.filter(col(\"state_\")==\"ABE\").count()"
      ]
    },
    {
      "cell_type": "code",
      "execution_count": null,
      "metadata": {
        "colab": {
          "base_uri": "https://localhost:8080/"
        },
        "id": "6lZC9c4fBMTM",
        "outputId": "248ed435-0439-4793-fbf8-1f256f2a3f4f"
      },
      "outputs": [
        {
          "name": "stdout",
          "output_type": "stream",
          "text": [
            "+-------------------+------------------+-----------------+-----------+--------+-----------+\n",
            "|name               |address           |city_standardized|postal_code|latitude|longitude  |\n",
            "+-------------------+------------------+-----------------+-----------+--------+-----------+\n",
            "|Kitanoya Guu Garlic|1698 Robson Street|Vancouver        |V6G 1C7    |49.29065|-123.133761|\n",
            "|Kitanoya Guu Garlic|1698 Robson Street|Vancouver        |V6G 1C7    |49.29065|-123.133761|\n",
            "|Kitanoya Guu Garlic|1698 Robson Street|Vancouver        |V6G 1C7    |49.29065|-123.133761|\n",
            "|Kitanoya Guu Garlic|1698 Robson Street|Vancouver        |V6G 1C7    |49.29065|-123.133761|\n",
            "|Kitanoya Guu Garlic|1698 Robson Street|Vancouver        |V6G 1C7    |49.29065|-123.133761|\n",
            "|Kitanoya Guu Garlic|1698 Robson Street|Vancouver        |V6G 1C7    |49.29065|-123.133761|\n",
            "|Kitanoya Guu Garlic|1698 Robson Street|Vancouver        |V6G 1C7    |49.29065|-123.133761|\n",
            "|Kitanoya Guu Garlic|1698 Robson Street|Vancouver        |V6G 1C7    |49.29065|-123.133761|\n",
            "|Kitanoya Guu Garlic|1698 Robson Street|Vancouver        |V6G 1C7    |49.29065|-123.133761|\n",
            "|Kitanoya Guu Garlic|1698 Robson Street|Vancouver        |V6G 1C7    |49.29065|-123.133761|\n",
            "|Kitanoya Guu Garlic|1698 Robson Street|Vancouver        |V6G 1C7    |49.29065|-123.133761|\n",
            "+-------------------+------------------+-----------------+-----------+--------+-----------+\n",
            "\n"
          ]
        }
      ],
      "source": [
        "# Displaying the details for those 11 rows\n",
        "pre_df.filter(col(\"state_\") == \"ABE\") \\\n",
        "    .select(\"name\", \"address\", \"city_standardized\", \"postal_code\", \"latitude\", \"longitude\") \\\n",
        "    .show(truncate=False)"
      ]
    },
    {
      "cell_type": "code",
      "execution_count": null,
      "metadata": {
        "id": "9hwkhyqOBMTM"
      },
      "outputs": [],
      "source": [
        "# Changing to the correct province\n",
        "pre_df=pre_df.withColumn(\"state_\",\n",
        "                          when((col(\"state_\") == \"ABE\") & (col(\"city_standardized\") == \"Vancouver\"), \"BC\")\n",
        "    .otherwise(col(\"state_\"))\n",
        ")"
      ]
    },
    {
      "cell_type": "code",
      "execution_count": null,
      "metadata": {
        "id": "87yP1PY4BMTM"
      },
      "outputs": [],
      "source": [
        "# Checking if the changes are applied\n",
        "pre_df.filter(col(\"state_\")==\"ABE\").count()"
      ]
    },
    {
      "cell_type": "code",
      "execution_count": null,
      "metadata": {
        "colab": {
          "base_uri": "https://localhost:8080/"
        },
        "id": "t1WwdBebD28p",
        "outputId": "52c99d6b-be02-49cf-b844-536e7475f3a7"
      },
      "outputs": [
        {
          "data": {
            "text/plain": [
              "15"
            ]
          },
          "execution_count": 57,
          "metadata": {},
          "output_type": "execute_result"
        }
      ],
      "source": [
        "pre_df.select(\"state_\").distinct().count()"
      ]
    },
    {
      "cell_type": "code",
      "execution_count": null,
      "metadata": {
        "colab": {
          "base_uri": "https://localhost:8080/"
        },
        "id": "S7JjS-rVE1hJ",
        "outputId": "a33357f7-c7e4-44bf-d9ae-0ff088f8cb0f"
      },
      "outputs": [
        {
          "name": "stdout",
          "output_type": "stream",
          "text": [
            "+------+\n",
            "|state_|\n",
            "+------+\n",
            "|    MN|\n",
            "|    OR|\n",
            "|    VA|\n",
            "|    WY|\n",
            "|    KY|\n",
            "|    BC|\n",
            "|    NH|\n",
            "|    WA|\n",
            "|    OH|\n",
            "|    TX|\n",
            "|    GA|\n",
            "|    MA|\n",
            "|    KS|\n",
            "|    FL|\n",
            "|    CO|\n",
            "+------+\n",
            "\n"
          ]
        }
      ],
      "source": [
        "pre_df.select(col(\"state_\")).distinct().show()"
      ]
    },
    {
      "cell_type": "markdown",
      "metadata": {
        "id": "aczg_u6bEO3h"
      },
      "source": [
        "In conclusion we have 13 unique states in the pre dataset."
      ]
    },
    {
      "cell_type": "code",
      "execution_count": null,
      "metadata": {
        "id": "MoAtgrqJWcde"
      },
      "outputs": [],
      "source": [
        "state_counts=pre_df.groupBy(\"state_\").agg(countDistinct(\"business_id\").alias(\"business_count\")).orderBy(\"state_\", ascending=False)"
      ]
    },
    {
      "cell_type": "code",
      "execution_count": null,
      "metadata": {
        "colab": {
          "base_uri": "https://localhost:8080/"
        },
        "id": "nAUJt4V-4fzW",
        "outputId": "1b891020-4a04-447b-de27-a245073878de"
      },
      "outputs": [
        {
          "name": "stdout",
          "output_type": "stream",
          "text": [
            "+-----------+----+-------+------+-----------+--------+---------+-----+------------+-------+----------+------+---------+-------+--------------+------+-----+----+-----+-----+-----------------+\n",
            "|business_id|name|address|state_|postal_code|latitude|longitude|stars|review_count|is_open|categories| hours|review_id|user_id|customer_stars|useful|funny|cool|text_|date_|city_standardized|\n",
            "+-----------+----+-------+------+-----------+--------+---------+-----+------------+-------+----------+------+---------+-------+--------------+------+-----+----+-----+-----+-----------------+\n",
            "|          0|   0|  13453|     0|        384|       0|        0|    0|           0|      0|         0|217149|        0|      0|             0|     0|    0|   0|    0|    0|                0|\n",
            "+-----------+----+-------+------+-----------+--------+---------+-----+------------+-------+----------+------+---------+-------+--------------+------+-----+----+-----+-----+-----------------+\n",
            "\n"
          ]
        }
      ],
      "source": [
        "# Finding NULL string in columns\n",
        "#post_df = post_df.replace(\"NULL\", None)\n",
        "pre_df.select([sum(col(c).isNull().cast(\"int\")).alias(c) for c in pre_df.columns]).show()"
      ]
    },
    {
      "cell_type": "code",
      "execution_count": null,
      "metadata": {
        "id": "zEj-WlxXt9kd"
      },
      "outputs": [],
      "source": [
        "#Total number of reviews for each business in each state\n",
        "state_reviews=pre_df.groupBy(\"state_\", \"business_id\").agg(sum(\"review_count\").alias(\"review_count\")).orderBy(\"review_count\", ascending=False)"
      ]
    },
    {
      "cell_type": "markdown",
      "metadata": {
        "id": "OS8t3fSHvPZo"
      },
      "source": [
        "The states in the pre covid dataset that contain the most reviews are: Texas, Oregon,Massachusseuts and Georgia."
      ]
    },
    {
      "cell_type": "markdown",
      "metadata": {
        "id": "SU-ZlLA510p3"
      },
      "source": [
        "# Classification Modelling on Reviews column (Approach 1) - Manually chosen features for the logistic regression\n",
        "\n",
        "\n"
      ]
    },
    {
      "cell_type": "markdown",
      "metadata": {
        "id": "5jCDGuvf1-2o"
      },
      "source": [
        "We are going to perform sentiment analysis, through Logistic Regression, in order to predict the category at which each review of each customer falls.\n",
        "1. We will first create a new columns that will be our label. This column will be called \"customer_stars_category\" and will be generated by the \"customer_stars\" as follows:\n",
        "- if \"customer_star\" == 4 OR 5 => \"customer_stars_category\" == \"Positive\"\n",
        "- if \"customer_star\" == 3 => \"customer_stars_category\" == \"Neutral\"\n",
        "- if \"customer_star\" == 1 OR 2 => \"customer_stars_category\" == \"Negative\"\n",
        "\n",
        "2. Then, we will filter out all the reviews that are not in English language.\n",
        "\n",
        "3. The next step will be a preprocessing step of the \"Reviews\" column. We will do TF-IDF in order to measure the importance of each word in the reviews collection. We will start by tokenizing the text and removing stopwords. After we will create a CountVectorizer, fit & transform. This will allows us to convert text data into a numerical format snce it will generate a matrix of term frequency counts for each review. Finally, we will use IDF to weight the word frequencies.\n",
        "\n",
        "4. Afterwards, we will do one-hot-encoding at the states column.\n",
        "\n",
        "5. Then, we split the dataset in train(80%) and test(20%) datasets.\n",
        "\n",
        "6. Then, we create the VectorAssembler that includes all the features that we will use to train the Logistic Regression model and label encode the label, \"customer_stars_category\" on train data.\n",
        "\n",
        "7. Train and fit Logistic Regression on train data.\n",
        "\n",
        "8. Create VectorAssembler for test data and label encode the label, \"customer_stars_category\" on test data.\n",
        "\n",
        "9. Make predictions\n",
        "\n",
        "10. Calculate metrics\n",
        "\n",
        "\n",
        "*Note: The above process will be performed at a random sample of 10% of the pre-covid dataset*"
      ]
    },
    {
      "cell_type": "code",
      "execution_count": null,
      "metadata": {
        "id": "WB0ZJhHIyo7u"
      },
      "outputs": [],
      "source": [
        "pre_df.sample(fraction=0.1, seed=42).write.mode('overwrite').parquet(\"sample_data\")"
      ]
    },
    {
      "cell_type": "code",
      "execution_count": null,
      "metadata": {
        "id": "8ski8EVi14l9"
      },
      "outputs": [],
      "source": [
        "\"\"\"\n",
        "First we start by taking a proportion of our dataset - we take the 10%\n",
        "\"\"\"\n",
        "\n",
        "# sampled_pre_df3 = pre_df.sample(fraction=0.1, seed=42)\n",
        "sampled_pre_df3 = spark.read.parquet(\"sample_data\")\n",
        "# sampled_pre_df3.count()"
      ]
    },
    {
      "cell_type": "code",
      "execution_count": null,
      "metadata": {
        "id": "JOCEhCTZyo7u"
      },
      "outputs": [],
      "source": [
        "sampled_pre_df3 = sampled_pre_df3.sample(fraction=0.5, seed=42)"
      ]
    },
    {
      "cell_type": "code",
      "execution_count": null,
      "metadata": {
        "id": "yplGuMahyo7u",
        "outputId": "87905d82-ed33-40a2-c1c7-a052d6a18e76"
      },
      "outputs": [
        {
          "data": {
            "text/plain": [
              "259586"
            ]
          },
          "execution_count": 101,
          "metadata": {},
          "output_type": "execute_result"
        }
      ],
      "source": [
        "sampled_pre_df3.count()"
      ]
    },
    {
      "cell_type": "code",
      "execution_count": null,
      "metadata": {
        "id": "ZGGY70cayo7v"
      },
      "outputs": [],
      "source": [
        "sampled_pre_df3 = sampled_pre_df3.cache()"
      ]
    },
    {
      "cell_type": "code",
      "execution_count": null,
      "metadata": {
        "id": "1Cso9T3Xyo7v",
        "outputId": "1a1d5696-2589-45d7-f24b-51ceff4b5c21"
      },
      "outputs": [
        {
          "data": {
            "text/plain": [
              "259123"
            ]
          },
          "execution_count": 120,
          "metadata": {},
          "output_type": "execute_result"
        }
      ],
      "source": [
        "sampled_pre_df3.count()"
      ]
    },
    {
      "cell_type": "code",
      "execution_count": null,
      "metadata": {
        "id": "by17HrGS2hTQ",
        "outputId": "be9de277-109e-4f24-b3ea-b3bd879503a8"
      },
      "outputs": [
        {
          "name": "stdout",
          "output_type": "stream",
          "text": [
            "root\n",
            " |-- business_id: string (nullable = true)\n",
            " |-- name: string (nullable = true)\n",
            " |-- address: string (nullable = true)\n",
            " |-- state_: string (nullable = true)\n",
            " |-- postal_code: string (nullable = true)\n",
            " |-- latitude: double (nullable = true)\n",
            " |-- longitude: double (nullable = true)\n",
            " |-- stars: double (nullable = true)\n",
            " |-- review_count: integer (nullable = true)\n",
            " |-- is_open: integer (nullable = true)\n",
            " |-- categories: string (nullable = true)\n",
            " |-- hours: string (nullable = true)\n",
            " |-- review_id: string (nullable = true)\n",
            " |-- user_id: string (nullable = true)\n",
            " |-- customer_stars: integer (nullable = true)\n",
            " |-- useful: integer (nullable = true)\n",
            " |-- funny: integer (nullable = true)\n",
            " |-- cool: integer (nullable = true)\n",
            " |-- text_: string (nullable = true)\n",
            " |-- date_: timestamp (nullable = true)\n",
            " |-- city_standardized: string (nullable = true)\n",
            "\n"
          ]
        }
      ],
      "source": [
        "\"\"\"\n",
        "Printing schema of my sampled_pre_df dataset and shoe the first 5 cols\n",
        "\"\"\"\n",
        "sampled_pre_df3.printSchema()\n",
        "#sampled_pre_df3.show(5)"
      ]
    },
    {
      "cell_type": "code",
      "execution_count": null,
      "metadata": {
        "id": "8UdWAYgY2kXE",
        "outputId": "05711060-67fa-43a7-9ad1-bb0c5dfa13e3"
      },
      "outputs": [
        {
          "name": "stdout",
          "output_type": "stream",
          "text": [
            "+----------------------+----------------------------------+-----------------------+------+-----------+------------------+------------------+-----+------------+-------+--------------------------------------------------------------------------------------------+--------------------------------------------------------------------------------------------------------------------------------------------------------------------------------------+----------------------+----------------------+--------------+------+-----+----+----------------------------------------------------------------------------------------------------------------------------------------------------------------------------------------------------------------------------------------------------------------------------------------------------------------------------------------------------------------------------------------------------------------------------------------------------------------------------------------------------------------------------------------------------------------------------------------------------------------------------------------------------------------------------------------------------------------------------------------------------------------------------------------------------------------------------------------------------------------------------------------------------------------------------------------------------------------------------------------------------------------------------------------------------------------------------------------------------------------------------------------------------------------------------------------------------------------------------------------------------------------------------------------------------------------------------------------------------------------------------------------------------------------------------------------------------------------------------------------------------------------------------------------------------------------------------------------------------------------------------------------------------------------------------------------------------------------------------------------------------------------------------------------------------------------------------------------------------------------------------------------------------------------------------------------------------------------------------------------------------------------------------------------------------------------------------------------------------------------------------------------------------------------------------------------------------------------------------------------------------------------------------------------------+-------------------+-----------------+-----------------------+\n",
            "|business_id           |name                              |address                |state_|postal_code|latitude          |longitude         |stars|review_count|is_open|categories                                                                                  |hours                                                                                                                                                                                 |review_id             |user_id               |customer_stars|useful|funny|cool|text_                                                                                                                                                                                                                                                                                                                                                                                                                                                                                                                                                                                                                                                                                                                                                                                                                                                                                                                                                                                                                                                                                                                                                                                                                                                                                                                                                                                                                                                                                                                                                                                                                                                                                                                                                                                                                                                                                                                                                                                                                                                                                                                                                                                                                                                                                         |date_              |city_standardized|customer_stars_category|\n",
            "+----------------------+----------------------------------+-----------------------+------+-----------+------------------+------------------+-----+------------+-------+--------------------------------------------------------------------------------------------+--------------------------------------------------------------------------------------------------------------------------------------------------------------------------------------+----------------------+----------------------+--------------+------+-----+----+----------------------------------------------------------------------------------------------------------------------------------------------------------------------------------------------------------------------------------------------------------------------------------------------------------------------------------------------------------------------------------------------------------------------------------------------------------------------------------------------------------------------------------------------------------------------------------------------------------------------------------------------------------------------------------------------------------------------------------------------------------------------------------------------------------------------------------------------------------------------------------------------------------------------------------------------------------------------------------------------------------------------------------------------------------------------------------------------------------------------------------------------------------------------------------------------------------------------------------------------------------------------------------------------------------------------------------------------------------------------------------------------------------------------------------------------------------------------------------------------------------------------------------------------------------------------------------------------------------------------------------------------------------------------------------------------------------------------------------------------------------------------------------------------------------------------------------------------------------------------------------------------------------------------------------------------------------------------------------------------------------------------------------------------------------------------------------------------------------------------------------------------------------------------------------------------------------------------------------------------------------------------------------------------+-------------------+-----------------+-----------------------+\n",
            "|jfgO-kZE1eBhQxD-VQYamw|The Aztec Restaurant              |2 Waverly St           |MA    |01702      |42.280219         |-71.399759        |3.5  |123         |1      |Restaurants, Desserts, Seafood, Mexican, Food                                               |{'Monday': '0:0-0:0', 'Tuesday': '11:0-21:0', 'Wednesday': '11:0-21:0', 'Thursday': '11:0-21:0', 'Friday': '11:0-22:0', 'Saturday': '11:0-22:0', 'Sunday': '11:0-20:0'}               |oC1Kx5rpno4vRW6MdroczQ|GwlrUwkULm4ZLN-Kum5nag|3             |2     |0    |2   |This place is a favorite lunch spot with my former team leaders. As you enter the restaurant, it has that cozy kitchen dining atmosphere (you seat yourself) and there is a TV on with Mexican programming. There are usually a few lunch specials on the board as well as an everyday lunch menu with good prices. I like the complementary chips and salsa here. The homemade fried chips are very large and crispy and the salsa is good too. I've ordered the Tacos, Burritos, Pupusas, and Chimichangas, which are served with Mexican rice and refried beans. In general, the Mexican fare here is just average.                                                                                                                                                                                                                                                                                                                                                                                                                                                                                                                                                                                                                                                                                                                                                                                                                                                                                                                                                                                                                                                                                                                                                                                                                                                                                                                                                                                                                                                                                                                                                                                                                                                                        |2007-03-01 00:36:06|Framingham       |neutral                |\n",
            "|eS23Opvv1b6JCU_dN8_o5g|Ken's Steak House                 |95 Worcester Rd        |MA    |01701      |42.29913270000001 |-71.3982858       |3.0  |299         |1      |American (New), Restaurants, Bars, Steakhouses, Nightlife, Cocktail Bars                    |{'Monday': '11:30-21:0', 'Tuesday': '11:30-21:0', 'Wednesday': '11:30-21:0', 'Thursday': '11:30-22:0', 'Friday': '11:30-23:0', 'Saturday': '11:30-23:0', 'Sunday': '12:0-21:0'}       |yBcW-teWtgSTHAoZjgmitQ|H1t9_KmUFY3XZn4gZenpJw|1             |1     |0    |1   |Eating here was awful. The service in the bar area was beyond terrible. They really needed another 2 waitresses. We sat down Saturday at 8p and we waited 30 minutes before we even received a menu. Another 20 min before we ordered a drink. When the drinks came we immediately ordered dinner because we knew if we didn't we would be there a very long time. After receiving dinner, I could not believe a hamburger at a steak restaurant could be so well-done. I asked for another hamburger cooked medium rare as I ordered, but after waiting 10 minutes, we just decided to get the check for our drinks and leave. Wouldn't you know like 2-3 waiters came over immediately and removed the salad and french fries as they wanted to make sure we didn't eat. Definitely a disaster and will never return.  \\n\\nBtw, this is my second yelp review.                                                                                                                                                                                                                                                                                                                                                                                                                                                                                                                                                                                                                                                                                                                                                                                                                                                                                                                                                                                                                                                                                                                                                                                                                                                                                                                                                                                                                              |2019-11-24 05:26:05|Framingham       |negative               |\n",
            "|SVNkzkyiEnozlhyEvehLdg|J & M Diner                       |50 Worcester Rd, Ste 9e|MA    |01702      |42.298187899999995|-71.395108        |4.5  |931         |1      |Food, Diners, American (Traditional), Active Life, Donuts, Breakfast & Brunch, Restaurants  |{'Monday': '7:0-14:0', 'Tuesday': '7:0-13:0', 'Wednesday': '7:0-13:0', 'Thursday': '7:0-13:0', 'Friday': '7:0-13:0', 'Saturday': '7:0-14:0', 'Sunday': '7:0-14:0'}                    |-SPfxPYoWfsIQMMcl_11cw|bL6riS68ThXn-1jJkCuXyQ|2             |2     |1    |1   |J&M Diner seems to be the only breakfast place that gets decent review in the Metro West area! We went for breakfast and had the eggs benedict with canadian bacon and the corned beef hash. The holandaise sauce was unfortunately way (way!) too lemony and the canadian bacon too thick/dry. The corned beef hash was great - with the exception of the corned beef (sausage, bacon, eggs, potatoes were great), which looked and tasted no different from canned one. Coffee was average. I would stick with the standards - service is friendly.                                                                                                                                                                                                                                                                                                                                                                                                                                                                                                                                                                                                                                                                                                                                                                                                                                                                                                                                                                                                                                                                                                                                                                                                                                                                                                                                                                                                                                                                                                                                                                                                                                                                                                                                         |2013-10-07 22:04:19|Framingham       |negative               |\n",
            "|SVNkzkyiEnozlhyEvehLdg|J & M Diner                       |50 Worcester Rd, Ste 9e|MA    |01702      |42.298187899999995|-71.395108        |4.5  |931         |1      |Food, Diners, American (Traditional), Active Life, Donuts, Breakfast & Brunch, Restaurants  |{'Monday': '7:0-14:0', 'Tuesday': '7:0-13:0', 'Wednesday': '7:0-13:0', 'Thursday': '7:0-13:0', 'Friday': '7:0-13:0', 'Saturday': '7:0-14:0', 'Sunday': '7:0-14:0'}                    |BpoONW-L8eGhDu1_JDt9nQ|TDS0Xyytjyv-rANb8UFFBQ|5             |0     |0    |0   |J & M is an outstanding family owned diner. Food quality is very high with care taken to provide grass fed beef in many dishes. Portions are big but not so much as to be wasteful. My favorite dish is the sweet potato hash with bacon, grass-fed beef, and cranberries. That's a staple item that we always get for the table to share. The other dish I go for often is the pancakes. The things are the size of dinner plates, thick and fluffy. \\nService is usually great with a dedicated staff, most of whom are in pictures on the wall as children- legitimately a family run place. \\nExpect a solid wait on the weekend and to leave happy and full. \\n\\nBest diner in the area easily. \\n\\nCash only, ATM on site.                                                                                                                                                                                                                                                                                                                                                                                                                                                                                                                                                                                                                                                                                                                                                                                                                                                                                                                                                                                                                                                                                                                                                                                                                                                                                                                                                                                                                                                                                                                                                              |2016-05-05 15:16:33|Framingham       |positive               |\n",
            "|Wi66Fw1fdr4W71J55PIoow|Chick-fil-A                       |359 Cochituate Rd      |MA    |01701      |42.3034956        |-71.398905        |3.5  |136         |1      |Fast Food, Food, Caterers, Event Planning & Services, Food Delivery Services, Restaurants   |{'Monday': '0:0-0:0', 'Tuesday': '6:30-22:0', 'Wednesday': '6:30-22:0', 'Thursday': '6:30-22:0', 'Friday': '6:30-20:0', 'Saturday': '10:30-20:0'}                                     |ZugCpcSSRzejpdKRFj-6jQ|ehj-BOtYkh6IbQRuRhhozQ|5             |0     |0    |0   |Every week I come in here to indulge in some awesome chicken on my lunch break. Every time I come in here there's this one man who is working harder than everyone else and is the kindest being I've ever met. His names Paul and he is the sweetest man at this establishment! I get excited every week now because I get to see Paul! This is hands down your best employee!                                                                                                                                                                                                                                                                                                                                                                                                                                                                                                                                                                                                                                                                                                                                                                                                                                                                                                                                                                                                                                                                                                                                                                                                                                                                                                                                                                                                                                                                                                                                                                                                                                                                                                                                                                                                                                                                                                               |2019-07-25 17:54:41|Framingham       |positive               |\n",
            "|lNF47qQFkXigPTYUZa6oFw|Bollywood Grill                   |50 Worcester Rd        |MA    |01702      |42.298195         |-71.39498499999999|3.5  |59          |0      |Restaurants, Indian                                                                         |{'Monday': '16:0-22:30', 'Tuesday': '16:0-22:30', 'Wednesday': '16:0-22:30', 'Thursday': '16:0-22:30', 'Friday': '16:0-22:30', 'Saturday': '16:0-22:30', 'Sunday': '16:0-22:30'}      |36bXBtjKALfscMcnT1tNsw|cR_si7hchpAStj2km5DLqg|3             |0     |0    |0   |good buffet.  Has not been consistent for the past 5 times I've been there. \\nI'll keep going back for now.                                                                                                                                                                                                                                                                                                                                                                                                                                                                                                                                                                                                                                                                                                                                                                                                                                                                                                                                                                                                                                                                                                                                                                                                                                                                                                                                                                                                                                                                                                                                                                                                                                                                                                                                                                                                                                                                                                                                                                                                                                                                                                                                                                                   |2012-03-27 19:41:18|Framingham       |neutral                |\n",
            "|Wi66Fw1fdr4W71J55PIoow|Chick-fil-A                       |359 Cochituate Rd      |MA    |01701      |42.3034956        |-71.398905        |3.5  |136         |1      |Fast Food, Food, Caterers, Event Planning & Services, Food Delivery Services, Restaurants   |{'Monday': '0:0-0:0', 'Tuesday': '6:30-22:0', 'Wednesday': '6:30-22:0', 'Thursday': '6:30-22:0', 'Friday': '6:30-20:0', 'Saturday': '10:30-20:0'}                                     |ZSneTbNBCCHLsqK2bwbo-A|d6n5t48ktcrtQK_vtJzeuw|2             |0     |0    |0   |This drive thru guy needs to go back to Chick-fil-A school I think.. and no gravy biscuits at this one                                                                                                                                                                                                                                                                                                                                                                                                                                                                                                                                                                                                                                                                                                                                                                                                                                                                                                                                                                                                                                                                                                                                                                                                                                                                                                                                                                                                                                                                                                                                                                                                                                                                                                                                                                                                                                                                                                                                                                                                                                                                                                                                                                                        |2017-12-28 15:03:37|Framingham       |negative               |\n",
            "|iJuKurmGcMzvDknKn9ik5g|British Beer Company              |120 Worcester Rd       |MA    |01701      |42.2982437        |-71.3990127       |3.0  |325         |0      |Pizza, Irish, American (Traditional), Restaurants, Pubs, Nightlife, British, Bars           |{'Monday': '11:0-23:30', 'Tuesday': '11:0-0:30', 'Wednesday': '11:0-23:30', 'Thursday': '11:0-0:30', 'Friday': '11:0-1:0', 'Saturday': '11:0-1:0', 'Sunday': '11:0-23:30'}            |afkbepy-0FS6RjXhkRFWEg|v1JFuHxPS6tN-4GrYeT0nQ|2             |0     |1    |0   |Mediocre beer selection, food was ok, service was friendly but hard to get her attention. Trivia was fun and always a clear view of the television                                                                                                                                                                                                                                                                                                                                                                                                                                                                                                                                                                                                                                                                                                                                                                                                                                                                                                                                                                                                                                                                                                                                                                                                                                                                                                                                                                                                                                                                                                                                                                                                                                                                                                                                                                                                                                                                                                                                                                                                                                                                                                                                            |2014-06-17 00:12:25|Framingham       |negative               |\n",
            "|JFJX1Ll0OuaztTZd0ITHYQ|Big Fresh                         |50 Worcester Rd        |MA    |01702      |42.298195         |-71.39498499999999|4.0  |59          |0      |Restaurants, Vegetarian, Asian Fusion, Food, Organic Stores, Mediterranean                  |{'Monday': '11:0-21:0', 'Tuesday': '11:0-21:0', 'Wednesday': '11:0-21:0', 'Thursday': '11:0-21:0', 'Friday': '11:0-21:0', 'Saturday': '11:0-21:0', 'Sunday': '11:0-21:0'}             |TWTdyiUCA00tUpE6bUmAfQ|vwISC_XUJoTcf63KefZ9Og|5             |1     |0    |0   |This is our third time here, and I thought it about time to leave a review.\\n\\nFood is very good --today's falafel wrap might be my favorite so far -- and the salads are fresh and crisp (not just dumped out of a bag) -- but beyond that this place just sparkles.  \\n\\nFrom the to windows to the glassware, I get the sense these guys REALLY care.\\n\\nOn the chance anyone working at Big Fresh on the front lines reads this-- please know your work is appreciated!                                                                                                                                                                                                                                                                                                                                                                                                                                                                                                                                                                                                                                                                                                                                                                                                                                                                                                                                                                                                                                                                                                                                                                                                                                                                                                                                                                                                                                                                                                                                                                                                                                                                                                                                                                                                                   |2017-03-05 17:46:55|Framingham       |positive               |\n",
            "|GSf8e_Jc4nNMkUSEtdlcFQ|The Melting Pot                   |92 Worcester Rd        |MA    |01702      |42.2969109325     |-71.3974250886    |3.5  |380         |0      |Bars, Real Estate, Real Estate Services, Restaurants, Nightlife, Home Services, Fondue      |{'Monday': '0:0-0:0', 'Tuesday': '17:0-22:0', 'Wednesday': '17:0-22:0', 'Thursday': '17:0-22:0', 'Friday': '17:0-23:0', 'Saturday': '12:0-23:0', 'Sunday': '12:0-22:0'}               |kXV7E-lFLAhXEs_8M3WOHw|WdF2RGd-Mbq-V0X0C3ER6w|4             |1     |0    |0   |Those who go here for the first time must have hard experience.  You have to pick menu, the way of cooking, and when you get foods, you have to pay attention them to cook.  But it is amazingly fun.\\n\\nIf you pick course, you will get Cheese fondue, salad, Entree, and Chocolate fondue.\\n\\nWe did course, but I think I didn't need some of them.  Next time, I am not going to order salad.  However, Chocolate fondue is must order item.  So I want to start with either entree or cheese fondue.  Then finish with chocolate foundue.\\n\\nCourse makes us sooo full.  I made a lot of leftover and these are hardest things to bring back.\\n\\nEntree is actually almost same as Asian countries' hot pot.                                                                                                                                                                                                                                                                                                                                                                                                                                                                                                                                                                                                                                                                                                                                                                                                                                                                                                                                                                                                                                                                                                                                                                                                                                                                                                                                                                                                                                                                                                                                                                            |2007-06-12 03:30:06|Framingham       |positive               |\n",
            "|o56tgSF7UwGE_OzdlknGxA|John Harvard's Brewery & Ale House|1 Worcester Rd         |MA    |01701      |42.304195         |-71.396231        |3.5  |375         |0      |Bars, Pubs, Nightlife, Brewpubs, Breweries, American (Traditional), Restaurants, Food       |{'Monday': '11:30-22:30', 'Tuesday': '11:30-22:30', 'Wednesday': '11:30-22:30', 'Thursday': '11:30-22:30', 'Friday': '11:30-23:30', 'Saturday': '11:30-23:30', 'Sunday': '11:30-22:0'}|oWsSv1xYTyYVivoAV4OV-w|ogXqKT_Fp1EofJueOJZl4Q|2             |2     |0    |0   |If you're craving mediocre service and below average pub food - well you've found your spot.\\nThe three of us went for dinner the other night at John Harvard's and I wouldn't go again.\\nOne of my friends pasta with chicken.  Not GOOD basic pasta with chicken, unfortunately.\\nOne of my friends had an that could be described as \"OK\".\\nThe appetizers - nachos, were also fairly basic and the large portion wasn't very large.\\nThe tables and chairs were sticky.  The silverware wasn't quite clean.  The waitstaff brought most of the food, but needed to be asked 3 times for the other items we requested.  Until it was time for the check, no one came to ask if we needed anything else.  \\nOn the positive side?  The beer was pretty good.                                                                                                                                                                                                                                                                                                                                                                                                                                                                                                                                                                                                                                                                                                                                                                                                                                                                                                                                                                                                                                                                                                                                                                                                                                                                                                                                                                                                                                                                                                                                |2019-02-20 15:27:01|Framingham       |negative               |\n",
            "|44aayUeim_2FlnmEMwy7zg|Joe's American Bar & Grill        |1 Worcester Rd         |MA    |01702      |42.300745         |-71.39625         |3.0  |145         |0      |American (Traditional), American (New), Restaurants, Burgers, Nightlife, Cocktail Bars, Bars|{'Monday': '11:0-22:0', 'Tuesday': '11:0-22:0', 'Wednesday': '11:0-22:0', 'Thursday': '11:0-22:0', 'Friday': '11:0-23:0', 'Saturday': '11:0-23:0', 'Sunday': '11:0-22:0'}             |187FwoaGN1KXBiI3jB1pdQ|3LoYuCtgY5zmVd9n0HnMUg|2             |0     |0    |0   |Not bad but not my favorite place. The service was slow. There were only a few full tables in the whole restaurant and it took about 5 mins to get our drinks. I ordered the sour blueberry cooler soda which was delicious. The only issue was it was $4.50 for this tiny glass which was filled 3/4 of the way with ice. For an appetizer I got to try the hoison pork belly. I liked it but I feel like the sauce didn't go with it that well. I'm happy they had it though because I can never find pork belly anywhere. I ended up getting the tuna tartare and a fish taco. The tuna wasn't bad but the sesame chips that came with it were way too salty. I love salty foods but these chips were like licking table salt. Last and most certainly least is the fish taco. It's only $4 per taco but you end up seeing why. When you look inside it you can see a burnt tortilla with a mound of below average slaw. On top of the slaw holds a bite sized piece of delicious fried fish. It also had a little bit of spicy sauce which was actually too spicy ( I like spicy foods too). If the slaw to fish ratio was switched I would have probably ordered another taco. I would not come here again for the food but I would definitely be back for the sour blueberry cooler soda, it was unbelievable.                                                                                                                                                                                                                                                                                                                                                                                                                                                                                                                                                                                                                                                                                                                                                                                                                                                                                                                                                                          |2017-01-13 00:03:08|Framingham       |negative               |\n",
            "|iJuKurmGcMzvDknKn9ik5g|British Beer Company              |120 Worcester Rd       |MA    |01701      |42.2982437        |-71.3990127       |3.0  |325         |0      |Pizza, Irish, American (Traditional), Restaurants, Pubs, Nightlife, British, Bars           |{'Monday': '11:0-23:30', 'Tuesday': '11:0-0:30', 'Wednesday': '11:0-23:30', 'Thursday': '11:0-0:30', 'Friday': '11:0-1:0', 'Saturday': '11:0-1:0', 'Sunday': '11:0-23:30'}            |8mMVz5fko3-71hMacJgsYg|Xi_nxf_3Givn_pB8cuaq5A|2             |0     |0    |0   |Ehhhh... \\n\\nSo, not my first choice to come here but I was going along with friends.\\n\\nI'm not a beer fanatic but I'm sure their selection is good; I had a cocktail with dinner, which was great. If this review was for the drinks, I'd say they were fine.\\n\\nDinner however was a little weird. My friend ordered salmon on her salad that as she got to the middle was just about RAW. I had a salad that tasted like the salad wasn't very fresh. It took forever to hound a server down re: my friend's fish, and he took it back to the kitchen. Almost 30 min later they bring a new fish, but no salad.. just a small plate with nothing but the salmon. By this point we asked for it to go and the staff just looked depressed.\\n\\nDefinitely not my fiRst choice for a restaurant:                                                                                                                                                                                                                                                                                                                                                                                                                                                                                                                                                                                                                                                                                                                                                                                                                                                                                                                                                                                                                                                                                                                                                                                                                                                                                                                                                                                                                                                                                             |2017-01-08 22:03:16|Framingham       |negative               |\n",
            "|WF2L2lz8w85uQJZxCwNfXQ|Olive Garden Italian Restaurant   |1 Worcester Rd         |MA    |01701      |42.299325         |-71.394553        |2.5  |183         |1      |Restaurants, Salad, Nightlife, Wine Bars, Soup, Bars, Italian                               |{'Monday': '0:0-0:0', 'Tuesday': '11:0-22:0', 'Wednesday': '11:0-22:0', 'Thursday': '11:0-20:0', 'Friday': '11:0-23:0', 'Saturday': '11:0-23:0', 'Sunday': '11:0-22:0'}               |AecAS4oa-XVh5WsqwrxVLg|qK1obcGEg1v349rhBXUsXw|5             |0     |0    |0   |We had an absolutely incredible meal at Olive Garden.  We called ahead and got seated right away.  Our Sever was awesome.  She was very attentive and made a few really go suggestions.  The deserts were incredible as well.                                                                                                                                                                                                                                                                                                                                                                                                                                                                                                                                                                                                                                                                                                                                                                                                                                                                                                                                                                                                                                                                                                                                                                                                                                                                                                                                                                                                                                                                                                                                                                                                                                                                                                                                                                                                                                                                                                                                                                                                                                                                 |2017-02-24 23:01:04|Framingham       |positive               |\n",
            "|SVNkzkyiEnozlhyEvehLdg|J & M Diner                       |50 Worcester Rd, Ste 9e|MA    |01702      |42.298187899999995|-71.395108        |4.5  |931         |1      |Food, Diners, American (Traditional), Active Life, Donuts, Breakfast & Brunch, Restaurants  |{'Monday': '7:0-14:0', 'Tuesday': '7:0-13:0', 'Wednesday': '7:0-13:0', 'Thursday': '7:0-13:0', 'Friday': '7:0-13:0', 'Saturday': '7:0-14:0', 'Sunday': '7:0-14:0'}                    |MiWos2DBPz1WVUY7Tn247Q|doGj3_A7WcVmuur6_Dd8Jg|4             |0     |0    |0   |Lived by here for five years never went in. Looks are deceiving it is in a strip mall and does not stand out. Little wait not bad though. The food was excellent though. Our omelets were big and tasty and service was quick and very friendly. Great value for your money. I will be back.                                                                                                                                                                                                                                                                                                                                                                                                                                                                                                                                                                                                                                                                                                                                                                                                                                                                                                                                                                                                                                                                                                                                                                                                                                                                                                                                                                                                                                                                                                                                                                                                                                                                                                                                                                                                                                                                                                                                                                                                  |2009-07-24 17:27:32|Framingham       |positive               |\n",
            "|CZXrdxJsQtrSS41A7IVDWQ|Chinese Mirch                     |140 Worcester Rd       |MA    |01702      |42.298532         |-71.399635        |3.0  |259         |0      |Asian Fusion, Noodles, Chinese, Restaurants, Indian                                         |{'Monday': '11:30-22:0', 'Tuesday': '11:30-22:0', 'Wednesday': '11:30-22:0', 'Thursday': '11:30-22:0', 'Friday': '11:30-22:30', 'Saturday': '11:30-22:30', 'Sunday': '11:30-22:0'}    |IrckPfVhS_yNdw42FifMbw|gEM08Os1cj14etfEyDt8Qg|4             |2     |0    |1   |As many fellow Indians will agree, indian chinese food is an exciting fusion cuisine much relished. I've tasted some phenomenal IndoChinese food in South India, New York and New Jersey.  I'm always ready to try a new venue so when my family & friends decided to try Chinese Mirch I was excited to see what these mixed reviews were all about. \\nLet me say that I think the food is pretty good and creative. \\nI like that the dishes weren't bland food soaked in a myriad of sauces to disguise the flavor deficit. I would have ordered spicier dishes but I kept it conservative given everyone had different levels of tolerance.  \\nWe tried the Gobi Lollipops, the szchuan fried rice, eggplant paneer, chilli paneer and hot and sour soup. Again, I think the flavor was good and paneer of good quality but I would have preferred a spicier dish for my Indian palate. \\nI was intrigued by the Chaat Gaali cart and would have loved to try some of their creative options but alas it is not available on the weekends as the chef is off.  \\nAmbience/Service: Parking was limited in the front but there's a sign indicating rear parking is also available. Well designed and pleasant interior decor. Seating wasn't cramped and our group of 8 was quite comfortable. We came in at 12:30 on a Sat and were seated immediately. There were several other families there. Our waiter approached us for an order at a reasonable time and the food was brought out at a decent time interval (not too soon and not too long).  Food was warmer than warm but not piping hot. For dessert we shared the wonton mithai, gulab jamun, assorted mochi, and rasamali.  Nothing was extraordinary but most was the jamun and rasamali were decent enough if you're craving some sweet. \\nI was, however, disappointed with the indian chai. Several Indian restaurants are putting chai on  their menus but upon further inquiry I've been told that it's nothing more than a regular teabag. If you're expecting real Indian Chai make sure you ask!\\nThis isn't as good as some of the other places I've been to but I certainly didn't think it's as bad as some of the other reviews seemed to indicate. \\nOverall, I'd definitely recommend and try this place again.|2014-07-06 16:05:00|Framingham       |positive               |\n",
            "|SVNkzkyiEnozlhyEvehLdg|J & M Diner                       |50 Worcester Rd, Ste 9e|MA    |01702      |42.298187899999995|-71.395108        |4.5  |931         |1      |Food, Diners, American (Traditional), Active Life, Donuts, Breakfast & Brunch, Restaurants  |{'Monday': '7:0-14:0', 'Tuesday': '7:0-13:0', 'Wednesday': '7:0-13:0', 'Thursday': '7:0-13:0', 'Friday': '7:0-13:0', 'Saturday': '7:0-14:0', 'Sunday': '7:0-14:0'}                    |oxB3QBXntt0qQTe8IO82Tw|17S6d950OtCYS5y9nWZiJg|5             |0     |0    |0   |Great Diner and fun vibe! Corned beef hash was crispy and flavorful. Poached eggs nicely cooked! Look forward to trying other offerings in the future!                                                                                                                                                                                                                                                                                                                                                                                                                                                                                                                                                                                                                                                                                                                                                                                                                                                                                                                                                                                                                                                                                                                                                                                                                                                                                                                                                                                                                                                                                                                                                                                                                                                                                                                                                                                                                                                                                                                                                                                                                                                                                                                                        |2019-08-09 13:46:57|Framingham       |positive               |\n",
            "|VTsggSvO_mcVlPuJvOGpPQ|Margaritas Mexican Restaurant     |725 Cochituate Rd      |MA    |01710      |42.308288         |-71.38296600000001|3.0  |287         |1      |Mexican, Restaurants, Nightlife, Bars                                                       |{'Monday': '0:0-0:0', 'Tuesday': '15:0-1:0', 'Wednesday': '15:0-1:0', 'Thursday': '15:0-21:0', 'Friday': '15:0-1:0', 'Saturday': '12:0-1:0', 'Sunday': '12:0-1:0'}                    |oyfVU-wFqDv2zTKPY8j1TQ|SczcR9uGW6MEFl2n6L7vvA|2             |0     |2    |0   |We really wanted to give this restaurant a chance, for the reputation was \"good\" at best! The few dedicated employees are SO out weighted by those who are clueless and who really do not care about trying at all but getting an undeserved tip. The barmaid was at the mercy of a waiter to deliver our salsa and chips, 10 minutes passed by. I felt so badly for her, for she tried so hard but could not leave her station. I went out side for some air, and the hostess came out and asked me if I saw \"anyone who looked like they were waiting for take-out!\" OMG I am thinking, they actually have advertised \"curb-side-take-out!\" I then identified the car, and she was so happy I did her a favor. When she walked back up, she said, \"I have to tell MY MANAGER about this service!!!!!!!!\" AGAIN......OMG!!!!!!!!!!!!!!! Then our so-called waiter, \"Justin\" put the frosting on the Mexican cake! I had ordered a glass of wine and a glass of water, kind of easy, right? 20 Minutes go by and then I finally saw our waiter, Justin, I asked him what was going on; he was very quick to say that  the bar was understaffed and he would go back and check. If that was truly the case, why did I still not have my water?, does that come from the bar too?  OWN IT JUSTIN! Then, I was asked to score our experience and food, I was glad to do, and actually saw the hostess throw it out in the trash. WILL NEVER GO THER AGAIN OR EVER RECOMMEND. They obviously do not know what is important in the current day of customer satisfaction, when we are all trying to attract forever clients. Best of luck!                                                                                                                                                                                                                                                                                                                                                                                                                                                                                                                                                                                                                                                          |2011-05-31 11:18:56|Framingham       |negative               |\n",
            "|SVNkzkyiEnozlhyEvehLdg|J & M Diner                       |50 Worcester Rd, Ste 9e|MA    |01702      |42.298187899999995|-71.395108        |4.5  |931         |1      |Food, Diners, American (Traditional), Active Life, Donuts, Breakfast & Brunch, Restaurants  |{'Monday': '7:0-14:0', 'Tuesday': '7:0-13:0', 'Wednesday': '7:0-13:0', 'Thursday': '7:0-13:0', 'Friday': '7:0-13:0', 'Saturday': '7:0-14:0', 'Sunday': '7:0-14:0'}                    |9yKDfLLZlDkdi5kGjuv6kQ|eIIxEI839bNdo_UHa4UEPQ|5             |1     |0    |0   |First I would like to say the staff was great when we entered we were seated and treated as if we were right at home!\\n                                                         Now the good part the food delicious in all aspects better then expected the place is a hidden gem, this  is by far the best breakfast diner in Massachusetts I would even go as far as saying it's the best in New England!!\\n                                                          The service was perfect better then I could imagine! The food was to good to be true yes I said that I appreciate the hospitality and all the above, if anyone is traveling early morning and looking to be full and happy this would be the place to go take my word for it you won't be disappointed !                                                                                                                                                                                                                                                                                                                                                                                                                                                                                                                                                                                                                                                                                                                                                                                                                                                                                                                                                                                                                                                                                                                                                                                                                                                                                                                                                                                                                                                                                                             |2016-04-16 11:02:28|Framingham       |positive               |\n",
            "|Wi66Fw1fdr4W71J55PIoow|Chick-fil-A                       |359 Cochituate Rd      |MA    |01701      |42.3034956        |-71.398905        |3.5  |136         |1      |Fast Food, Food, Caterers, Event Planning & Services, Food Delivery Services, Restaurants   |{'Monday': '0:0-0:0', 'Tuesday': '6:30-22:0', 'Wednesday': '6:30-22:0', 'Thursday': '6:30-22:0', 'Friday': '6:30-20:0', 'Saturday': '10:30-20:0'}                                     |HtNjqzZUp7DGC0hmIeoY7Q|pLA_QsWp6Gc5mkM1zqh0Gw|2             |0     |0    |0   |I love me some Chik-fil-A, but this location leaves much to be desired. The customer service isn't great (which is honestly what Chik-fi-A is known for, outside of its amazing chicken). The real reason behind the 2-star rating is because I've been trying to get a hold of someone about hosting a birthday party there for close to a week and absolutely no one will get back to me. I've called, emailed, FB messaged and even stopped by the location and I can't get anyone to give me any answers. Guess we won't be celebrating there.                                                                                                                                                                                                                                                                                                                                                                                                                                                                                                                                                                                                                                                                                                                                                                                                                                                                                                                                                                                                                                                                                                                                                                                                                                                                                                                                                                                                                                                                                                                                                                                                                                                                                                                                            |2017-10-23 18:28:23|Framingham       |negative               |\n",
            "+----------------------+----------------------------------+-----------------------+------+-----------+------------------+------------------+-----+------------+-------+--------------------------------------------------------------------------------------------+--------------------------------------------------------------------------------------------------------------------------------------------------------------------------------------+----------------------+----------------------+--------------+------+-----+----+----------------------------------------------------------------------------------------------------------------------------------------------------------------------------------------------------------------------------------------------------------------------------------------------------------------------------------------------------------------------------------------------------------------------------------------------------------------------------------------------------------------------------------------------------------------------------------------------------------------------------------------------------------------------------------------------------------------------------------------------------------------------------------------------------------------------------------------------------------------------------------------------------------------------------------------------------------------------------------------------------------------------------------------------------------------------------------------------------------------------------------------------------------------------------------------------------------------------------------------------------------------------------------------------------------------------------------------------------------------------------------------------------------------------------------------------------------------------------------------------------------------------------------------------------------------------------------------------------------------------------------------------------------------------------------------------------------------------------------------------------------------------------------------------------------------------------------------------------------------------------------------------------------------------------------------------------------------------------------------------------------------------------------------------------------------------------------------------------------------------------------------------------------------------------------------------------------------------------------------------------------------------------------------------+-------------------+-----------------+-----------------------+\n",
            "only showing top 20 rows\n",
            "\n"
          ]
        }
      ],
      "source": [
        "\"\"\"\n",
        "1)\n",
        "\"\"\"\n",
        "\"\"\"\n",
        "Creating a new column named \"customer_stars_category\" and categorizing customer_stars column as it follows: 1,2 => negative, 3 => neutral, 4,5 => positive\n",
        "Then, cout how much i have from each category.\n",
        "\"\"\"\n",
        "\n",
        "sampled_pre_df3 = sampled_pre_df3.withColumn(\n",
        "    \"customer_stars_category\",\n",
        "    when(col(\"customer_stars\").isin([4, 5]), \"positive\")\n",
        "    .when(col(\"customer_stars\").isin([1, 2]), \"negative\")\n",
        "    .otherwise(\"neutral\")\n",
        ")\n",
        "\n",
        "sampled_pre_df3.show(20, truncate=False)\n",
        "# sampled_pre_df3.groupBy(\"customer_stars_category\").count().show()"
      ]
    },
    {
      "cell_type": "code",
      "execution_count": null,
      "metadata": {
        "id": "rzxp4-fo2mnb"
      },
      "outputs": [],
      "source": [
        "\"\"\"\n",
        "2)\n",
        "\"\"\"\n",
        "\"\"\"\n",
        "Filter out all non-Enlgish reviews from the \"text_\" columns\n",
        "\"\"\"\n",
        "from pyspark.sql.functions import udf\n",
        "from pyspark.sql.types import StringType\n",
        "from langdetect import detect, DetectorFactory\n",
        "import langdetect\n",
        "\n",
        "# Set seed for consistent results\n",
        "DetectorFactory.seed = 42\n",
        "\n",
        "# Define UDF to detect language\n",
        "def detect_language(text):\n",
        "    try:\n",
        "        return detect(text)\n",
        "    except:\n",
        "        return \"unknown\"\n",
        "\n",
        "detect_language_udf = udf(detect_language, StringType())\n",
        "\n",
        "# Apply UDF to create a new column for language\n",
        "sampled_pre_df3 = sampled_pre_df3.withColumn(\"language\", detect_language_udf(sampled_pre_df3[\"text_\"]))\n",
        "\n",
        "# Filter the DataFrame to only include English-language reviews\n",
        "sampled_pre_df3 = sampled_pre_df3.filter(sampled_pre_df3[\"language\"] == \"en\")\n",
        "\n",
        "\n",
        "# Show rows where the text is not English\n",
        "#sampled_pre_df_with_sentiment.filter(sampled_pre_df_with_sentiment[\"language\"] != \"en\").select(\"text_\", \"language\").show()"
      ]
    },
    {
      "cell_type": "code",
      "execution_count": null,
      "metadata": {
        "id": "B_-Maai_2mjE"
      },
      "outputs": [],
      "source": [
        "#sampled_pre_df3.show(10)"
      ]
    },
    {
      "cell_type": "code",
      "execution_count": null,
      "metadata": {
        "id": "0ljDdxGd2meE",
        "outputId": "8a9ebd69-8c9c-440e-ae65-887f48443162"
      },
      "outputs": [
        {
          "name": "stdout",
          "output_type": "stream",
          "text": [
            "--- tokenized reviews ---\n",
            "--- remove stop words from reviews ---\n"
          ]
        }
      ],
      "source": [
        "\"\"\"\n",
        "3) A)\n",
        "\"\"\"\n",
        "\"\"\"\n",
        "We preprocess the review column (\"text_\") (1)\n",
        "\"\"\"\n",
        "\"\"\"\n",
        "starting by tokenize and remove stop words from the reviews column\n",
        "\"\"\"\n",
        "sampled_pre_df_dataset_filtered3 = sampled_pre_df3.dropna() #filtering out NAs\n",
        "tokenizer2 = RegexTokenizer(inputCol=\"text_\", outputCol=\"words\", pattern=\"\\\\W\")\n",
        "\n",
        "tokenized_raw3 = tokenizer2.transform(sampled_pre_df_dataset_filtered3)\n",
        "print(\"--- tokenized reviews ---\")\n",
        "# tokenized_raw3.select(\"words\").show(5)\n",
        "\n",
        "remover3 = StopWordsRemover(inputCol=\"words\", outputCol=\"filtered\")\n",
        "df_cleaned3 = remover3.transform(tokenized_raw3)\n",
        "print(\"--- remove stop words from reviews ---\")\n",
        "# df_cleaned3.select(\"filtered\").show(5)"
      ]
    },
    {
      "cell_type": "code",
      "execution_count": null,
      "metadata": {
        "id": "OnqxJgzz2mWo"
      },
      "outputs": [],
      "source": [
        "\"\"\"\n",
        "3) B)\n",
        "\"\"\"\n",
        "\"\"\"\n",
        "Now, we create a CountVectorizer, fit & transform\n",
        "This will allows us to convert text data into a numerical format.\n",
        "It will generate a matrix of term frequency counts for each review\n",
        "\"\"\"\n",
        "\"\"\"\n",
        "For CountVectorizer we use as input the column that was the output from the StopWordsRemover. In addition, set vocabSize=5000, minDF=10.0\n",
        "\"\"\"\n",
        "\n",
        "hashingTF = HashingTF(inputCol=\"filtered\", outputCol=\"raw_features\", numFeatures=1000)\n",
        "result_cv3 = hashingTF.transform(df_cleaned3)\n",
        "#result_cv3.show(5)"
      ]
    },
    {
      "cell_type": "code",
      "execution_count": null,
      "metadata": {
        "id": "DTSawxkP29yf"
      },
      "outputs": [],
      "source": [
        "\"\"\"\n",
        "3) C)\n",
        "\"\"\"\n",
        "\"\"\"\n",
        "Continue with preprocess of Reviews column (3)\n",
        "Here, we use IDF to weight the word frequencies.\n",
        "\"\"\"\n",
        "idf3 = IDF(inputCol=\"raw_features\", outputCol=\"reviews\")\n",
        "idfModel3 = idf3.fit(result_cv3)\n",
        "result_tfidf3 = idfModel3.transform(result_cv3)\n",
        "#result_tfidf3.show(5)"
      ]
    },
    {
      "cell_type": "code",
      "execution_count": null,
      "metadata": {
        "id": "HzrbKHO429wx"
      },
      "outputs": [],
      "source": [
        "# \"\"\"\n",
        "# 4) A)\n",
        "# \"\"\"\n",
        "# \"\"\"\n",
        "# Changing to the correct province\n",
        "# \"\"\"\n",
        "# result_tfidf3=result_tfidf3.withColumn(\"state_\",\n",
        "#                           when((col(\"state_\") == \"ABE\") & (col(\"city\") == \"Vancouver\"), \"BC\")\n",
        "#     .otherwise(col(\"state_\"))\n",
        "# )"
      ]
    },
    {
      "cell_type": "code",
      "execution_count": null,
      "metadata": {
        "id": "ZHbMZTqM29u9"
      },
      "outputs": [],
      "source": [
        "\"\"\"\n",
        "4)\n",
        "\"\"\"\n",
        "\"\"\"\n",
        "state_: Apply one-hot encoding at the \"states\" column\n",
        "\"\"\"\n",
        "from pyspark.ml.feature import OneHotEncoder\n",
        "states = [(\"MN\",), (\"OR\",), (\"KY\",), (\"BC\",), (\"NH\",), (\"WA\",), (\"OH\",), (\"TX\",),(\"GA\",), (\"MA\",), (\"KS\",), (\"FL\",), (\"CO\",)]\n",
        "states_df = spark.createDataFrame(states, [\"state_\"])\n",
        "\n",
        "states_indexer = StringIndexer(inputCol=\"state_\", outputCol=\"state_index\")\n",
        "\n",
        "states_encoder = OneHotEncoder(inputCol=\"state_index\", outputCol=\"state_ohe\")\n",
        "\n",
        "pipeline = Pipeline(stages=[states_indexer, states_encoder])\n",
        "\n",
        "pipeline_model = pipeline.fit(states_df)\n",
        "df_encoded = pipeline_model.transform(states_df)\n",
        "result_tfidf3 = result_tfidf3.join(\n",
        "    df_encoded.select(\"state_\", \"state_index\", \"state_ohe\"),\n",
        "    on=\"state_\",\n",
        "    how=\"left\"\n",
        ")"
      ]
    },
    {
      "cell_type": "code",
      "execution_count": null,
      "metadata": {
        "id": "4yhHB1zPyo7x"
      },
      "outputs": [],
      "source": [
        "# result_tfidf3.write.mode('overwrite').parquet(\"features\")"
      ]
    },
    {
      "cell_type": "code",
      "execution_count": null,
      "metadata": {
        "id": "ihppTHYWyo7x"
      },
      "outputs": [],
      "source": [
        "# sampled_pre_df3 = spark.read.parquet(\"features\")\n",
        "# sampled_pre_df3.count()"
      ]
    },
    {
      "cell_type": "code",
      "execution_count": null,
      "metadata": {
        "id": "2f8_Vi2c29s1"
      },
      "outputs": [],
      "source": [
        "\"\"\"\n",
        "5)\n",
        "\"\"\"\n",
        "\"\"\"\n",
        "We split to train and test\n",
        "\"\"\"\n",
        "train_data, test_data = result_tfidf3.randomSplit([0.8, 0.2], seed=42)"
      ]
    },
    {
      "cell_type": "code",
      "execution_count": null,
      "metadata": {
        "id": "quH93JsX29qX"
      },
      "outputs": [],
      "source": [
        "\"\"\"\n",
        "6)\n",
        "\"\"\"\n",
        "\"\"\"\n",
        "We create the VectorAssembler that includes all the features on train data\n",
        "\"\"\"\n",
        "assembler_lr = VectorAssembler(\n",
        "    inputCols=[\"review_count\",\"stars\", \"state_ohe\", \"reviews\"],\n",
        "    outputCol=\"all_features\"\n",
        ")\n",
        "df_final_train = assembler_lr.transform(train_data)"
      ]
    },
    {
      "cell_type": "code",
      "execution_count": null,
      "metadata": {
        "id": "Mywpx58_3LoR"
      },
      "outputs": [],
      "source": [
        "#Label Encoding the \"customer_stars_category\"\n",
        "df_final_train = df_final_train.withColumn(\n",
        "    \"customer_stars_category_labeled\",when((col(\"customer_stars_category\") == \"positive\"), 0).when((col(\"customer_stars_category\") == \"neutral\"), 1).otherwise(2)\n",
        ")"
      ]
    },
    {
      "cell_type": "code",
      "execution_count": null,
      "metadata": {
        "id": "3LRM2Vnn3kHg"
      },
      "outputs": [],
      "source": [
        "\"\"\"\n",
        "7)\n",
        "\"\"\"\n",
        "\"\"\"\n",
        "Perform logistic regression\n",
        "\"\"\"\n",
        "#Train logistic regression\n",
        "from pyspark.ml.classification import LogisticRegression\n",
        "\n",
        "df_train = df_final_train.select(\"all_features\", \"customer_stars_category_labeled\")\n",
        "df_train = df_train.cache()\n",
        "\n",
        "lr = LogisticRegression(featuresCol=\"all_features\", labelCol=\"customer_stars_category_labeled\")\n",
        "lr_model = lr.fit(df_train)"
      ]
    },
    {
      "cell_type": "code",
      "execution_count": null,
      "metadata": {
        "id": "ZTmKJQrc3kCA"
      },
      "outputs": [],
      "source": [
        "\"\"\"\n",
        "8)\n",
        "\"\"\"\n",
        "\"\"\"\n",
        "We create the VectorAssembler that includes all the features on test data\n",
        "\"\"\"\n",
        "assembler_lr_test = VectorAssembler(\n",
        "    inputCols=[\"review_count\",\"stars\", \"state_ohe\", \"reviews\"],\n",
        "    outputCol=\"all_features\"\n",
        ")\n",
        "df_final_test = assembler_lr_test.transform(test_data)"
      ]
    },
    {
      "cell_type": "code",
      "execution_count": null,
      "metadata": {
        "id": "OPC-Dp_Q3j_s"
      },
      "outputs": [],
      "source": [
        "df_final_test = df_final_test.withColumn(\n",
        "    \"customer_stars_category_labeled\",when((col(\"customer_stars_category\") == \"positive\"), 0).when((col(\"customer_stars_category\") == \"neutral\"), 1).otherwise(2)\n",
        ")"
      ]
    },
    {
      "cell_type": "code",
      "execution_count": null,
      "metadata": {
        "id": "D77p5TQI3j9J"
      },
      "outputs": [],
      "source": [
        "\"\"\"\n",
        "9)\n",
        "\"\"\"\n",
        "\"\"\"\n",
        "Make predictions\n",
        "\"\"\"\n",
        "\n",
        "predictions = lr_model.transform(df_final_test)\n",
        "# predictions.select(\"customer_stars_category_labeled\", \"prediction\").show(10)"
      ]
    },
    {
      "cell_type": "code",
      "execution_count": null,
      "metadata": {
        "id": "1batpU-v3xpf",
        "outputId": "46c0b98f-0fdf-480d-8284-c0173e5463b4"
      },
      "outputs": [
        {
          "name": "stdout",
          "output_type": "stream",
          "text": [
            "Test F1-score: 0.7798786547563238\n"
          ]
        }
      ],
      "source": [
        "\"\"\"\n",
        "10)\n",
        "\"\"\"\n",
        "\"\"\"\n",
        "Calculate metrics\n",
        "\"\"\"\n",
        "from pyspark.ml.evaluation import MulticlassClassificationEvaluator\n",
        "evaluator = MulticlassClassificationEvaluator(labelCol=\"customer_stars_category_labeled\",\n",
        "                                              predictionCol=\"prediction\",\n",
        "                                              metricName=\"f1\")\n",
        "\n",
        "f1_score = evaluator.evaluate(predictions)\n",
        "\n",
        "print(f\"Test F1-score: {f1_score}\")"
      ]
    },
    {
      "cell_type": "markdown",
      "metadata": {
        "id": "nCaWbkJW9Fat"
      },
      "source": [
        "# Classification Modelling on Reviews column (Approach 2) - Used just the reviews in the model, and used hashingDF instead of count vectorizer.\n"
      ]
    },
    {
      "cell_type": "markdown",
      "metadata": {
        "id": "BpOkbIXIkyzT"
      },
      "source": [
        "We are going to perform sentiment analysis, through Logistic Regression, in order to predict the category at which each review of each customer falls. We create a pipeline for this as it follows:\n",
        "1. We will first create a new columns that will be our label. This column will be called \"customer_stars_category\" and will be generated by the \"customer_stars\" as follows:\n",
        "- if \"customer_star\" == 4 OR 5 => \"customer_stars_category\" == \"Positive\"\n",
        "- if \"customer_star\" == 3 => \"customer_stars_category\" == \"Neutral\"\n",
        "- if \"customer_star\" == 1 OR 2 => \"customer_stars_category\" == \"Negative\"\n",
        "\n",
        "2. Then, we will filter out all the reviews that are not in English language.\n",
        "\n",
        "3. The next step will be a preprocessing step of the \"Reviews\" column. We will apply TF-IDF to measure the importance of each word in the collection of reviews. First, we will tokenize the text into individual words and remove common stopwords. Then, we will use HashingTF to convert the filtered tokens into fixed-length numerical feature vectors using a hashing function. Finally, we will use IDF to weight the word frequencies.\n",
        "\n",
        "4. We encode the target label \"customer_stars_category\" into numerical values, which are required for machine learning algorithms. We assign: 0 to \"positive\", 1 to \"neutral\", and 2 to \"negative\" reviews.\n",
        "\n",
        "\n",
        "5. Define the Logistic Regression, which will predict the sentiment category based on the features extracted from the text using HashingTF and IDF.\n",
        "\n",
        "6. Build a pipeline that tokenizes the text, removes stopwords, converts the text into numerical features using HashingTF, applies IDF for weighting, and trains a Logistic Regression model to predict sentiment, as created above.\n",
        "\n",
        "7. Split the data into training (80%) and testing (20%) sets. Use the training data to train the model, and the test data to evaluate it.\n",
        "\n",
        "8. Use the trained pipeline to make predictions on the test data. The model will predict the sentiment for each review.\n",
        "\n",
        "9. Evaluate the model's performance using the F1-score, which gives a measure of how well the model balances precision and recall.\n",
        "\n",
        "\n",
        "*Note: The above process will be performed at a random sample of 1% of the pre-covid dataset*"
      ]
    },
    {
      "cell_type": "code",
      "execution_count": null,
      "metadata": {
        "id": "QJnDt7hb9E7Q",
        "outputId": "bae60156-d7cb-4c75-e715-bde7bbe3e8ab"
      },
      "outputs": [
        {
          "name": "stdout",
          "output_type": "stream",
          "text": [
            "Test F1-score: 0.7568601442610665\n"
          ]
        }
      ],
      "source": [
        "\n",
        "# Step 1: Add customer_stars_category column\n",
        "sampled_pre_df3 = sampled_pre_df3.withColumn(\n",
        "    \"customer_stars_category\",\n",
        "    when(col(\"customer_stars\").isin([4, 5]), \"positive\")\n",
        "    .when(col(\"customer_stars\").isin([1, 2]), \"negative\")\n",
        "    .otherwise(\"neutral\")\n",
        ")\n",
        "\n",
        "# Step 2: Language detection\n",
        "def detect_language(text):\n",
        "    try:\n",
        "        return detect(text)\n",
        "    except:\n",
        "        return \"unknown\"\n",
        "\n",
        "detect_language_udf = udf(detect_language, StringType())\n",
        "sampled_pre_df3 = sampled_pre_df3.withColumn(\"language\", detect_language_udf(\"text_\"))\n",
        "sampled_pre_df3 = sampled_pre_df3.filter(col(\"language\") == \"en\")\n",
        "\n",
        "sampled_pre_df3 = sampled_pre_df3.cache()\n",
        "\n",
        "# Step 3: Text preprocessing (tokenize → stopwords → hashing→ TF-IDF)\n",
        "tokenizer = RegexTokenizer(inputCol=\"text_\", outputCol=\"words\", pattern=\"\\\\W\")\n",
        "remover = StopWordsRemover(inputCol=\"words\", outputCol=\"filtered\")\n",
        "hashingTF = HashingTF(inputCol=\"filtered\", outputCol=\"raw_features\", numFeatures=1000)\n",
        "idf = IDF(inputCol=\"raw_features\", outputCol=\"reviews\")\n",
        "\n",
        "# Step 4: Encode label\n",
        "sampled_pre_df3 = sampled_pre_df3.withColumn(\n",
        "    \"customer_stars_category_labeled\",\n",
        "    when(col(\"customer_stars_category\") == \"positive\", 0)\n",
        "    .when(col(\"customer_stars_category\") == \"neutral\", 1)\n",
        "    .otherwise(2)\n",
        ")\n",
        "\n",
        "# Step 5: Define model\n",
        "lr = LogisticRegression(\n",
        "    featuresCol=\"reviews\",\n",
        "    labelCol=\"customer_stars_category_labeled\",\n",
        "    family=\"multinomial\",\n",
        "    maxIter=10,\n",
        "    regParam=0.01\n",
        ")\n",
        "\n",
        "# Step 6: Build pipeline\n",
        "pipeline = Pipeline(stages=[\n",
        "    tokenizer,\n",
        "    remover,\n",
        "    hashingTF,\n",
        "    idf,\n",
        "    lr\n",
        "])\n",
        "\n",
        "# Step 7: Split and fit\n",
        "train_data, test_data = sampled_pre_df3.randomSplit([0.8, 0.2], seed=42)\n",
        "model = pipeline.fit(train_data)\n",
        "\n",
        "# Step 8: Predict\n",
        "predictions = model.transform(test_data)\n",
        "\n",
        "# Step 9: Evaluate\n",
        "\n",
        "evaluator = MulticlassClassificationEvaluator(\n",
        "    labelCol=\"customer_stars_category_labeled\",\n",
        "    predictionCol=\"prediction\",\n",
        "    metricName=\"f1\"\n",
        ")\n",
        "f1_score = evaluator.evaluate(predictions)\n",
        "print(f\"Test F1-score: {f1_score}\")\n"
      ]
    }
  ],
  "metadata": {
    "colab": {
      "collapsed_sections": [
        "7_TncfSIghDY",
        "XI2pYbZp9w4Q"
      ],
      "provenance": [],
      "include_colab_link": true
    },
    "kernelspec": {
      "display_name": "Python 3 (ipykernel)",
      "language": "python",
      "name": "python3"
    },
    "language_info": {
      "codemirror_mode": {
        "name": "ipython",
        "version": 3
      },
      "file_extension": ".py",
      "mimetype": "text/x-python",
      "name": "python",
      "nbconvert_exporter": "python",
      "pygments_lexer": "ipython3",
      "version": "3.11.6"
    }
  },
  "nbformat": 4,
  "nbformat_minor": 0
}